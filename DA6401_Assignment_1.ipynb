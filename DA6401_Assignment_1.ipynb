{
  "nbformat": 4,
  "nbformat_minor": 0,
  "metadata": {
    "colab": {
      "provenance": []
    },
    "kernelspec": {
      "name": "python3",
      "display_name": "Python 3"
    },
    "language_info": {
      "name": "python"
    }
  },
  "cells": [
    {
      "cell_type": "code",
      "source": [
        "!pip install wandb"
      ],
      "metadata": {
        "colab": {
          "base_uri": "https://localhost:8080/"
        },
        "id": "3TYJdY2YSVO_",
        "outputId": "dff19820-5bb4-465e-8154-1392a8eb74b2"
      },
      "execution_count": 1,
      "outputs": [
        {
          "output_type": "stream",
          "name": "stdout",
          "text": [
            "Requirement already satisfied: wandb in /usr/local/lib/python3.11/dist-packages (0.19.7)\n",
            "Requirement already satisfied: click!=8.0.0,>=7.1 in /usr/local/lib/python3.11/dist-packages (from wandb) (8.1.8)\n",
            "Requirement already satisfied: docker-pycreds>=0.4.0 in /usr/local/lib/python3.11/dist-packages (from wandb) (0.4.0)\n",
            "Requirement already satisfied: gitpython!=3.1.29,>=1.0.0 in /usr/local/lib/python3.11/dist-packages (from wandb) (3.1.44)\n",
            "Requirement already satisfied: platformdirs in /usr/local/lib/python3.11/dist-packages (from wandb) (4.3.6)\n",
            "Requirement already satisfied: protobuf!=4.21.0,!=5.28.0,<6,>=3.19.0 in /usr/local/lib/python3.11/dist-packages (from wandb) (4.25.6)\n",
            "Requirement already satisfied: psutil>=5.0.0 in /usr/local/lib/python3.11/dist-packages (from wandb) (5.9.5)\n",
            "Requirement already satisfied: pydantic<3,>=2.6 in /usr/local/lib/python3.11/dist-packages (from wandb) (2.10.6)\n",
            "Requirement already satisfied: pyyaml in /usr/local/lib/python3.11/dist-packages (from wandb) (6.0.2)\n",
            "Requirement already satisfied: requests<3,>=2.0.0 in /usr/local/lib/python3.11/dist-packages (from wandb) (2.32.3)\n",
            "Requirement already satisfied: sentry-sdk>=2.0.0 in /usr/local/lib/python3.11/dist-packages (from wandb) (2.22.0)\n",
            "Requirement already satisfied: setproctitle in /usr/local/lib/python3.11/dist-packages (from wandb) (1.3.5)\n",
            "Requirement already satisfied: setuptools in /usr/local/lib/python3.11/dist-packages (from wandb) (75.1.0)\n",
            "Requirement already satisfied: typing-extensions<5,>=4.4 in /usr/local/lib/python3.11/dist-packages (from wandb) (4.12.2)\n",
            "Requirement already satisfied: six>=1.4.0 in /usr/local/lib/python3.11/dist-packages (from docker-pycreds>=0.4.0->wandb) (1.17.0)\n",
            "Requirement already satisfied: gitdb<5,>=4.0.1 in /usr/local/lib/python3.11/dist-packages (from gitpython!=3.1.29,>=1.0.0->wandb) (4.0.12)\n",
            "Requirement already satisfied: annotated-types>=0.6.0 in /usr/local/lib/python3.11/dist-packages (from pydantic<3,>=2.6->wandb) (0.7.0)\n",
            "Requirement already satisfied: pydantic-core==2.27.2 in /usr/local/lib/python3.11/dist-packages (from pydantic<3,>=2.6->wandb) (2.27.2)\n",
            "Requirement already satisfied: charset-normalizer<4,>=2 in /usr/local/lib/python3.11/dist-packages (from requests<3,>=2.0.0->wandb) (3.4.1)\n",
            "Requirement already satisfied: idna<4,>=2.5 in /usr/local/lib/python3.11/dist-packages (from requests<3,>=2.0.0->wandb) (3.10)\n",
            "Requirement already satisfied: urllib3<3,>=1.21.1 in /usr/local/lib/python3.11/dist-packages (from requests<3,>=2.0.0->wandb) (2.3.0)\n",
            "Requirement already satisfied: certifi>=2017.4.17 in /usr/local/lib/python3.11/dist-packages (from requests<3,>=2.0.0->wandb) (2025.1.31)\n",
            "Requirement already satisfied: smmap<6,>=3.0.1 in /usr/local/lib/python3.11/dist-packages (from gitdb<5,>=4.0.1->gitpython!=3.1.29,>=1.0.0->wandb) (5.0.2)\n"
          ]
        }
      ]
    },
    {
      "cell_type": "code",
      "source": [
        "import wandb\n",
        "wandb.login()"
      ],
      "metadata": {
        "colab": {
          "base_uri": "https://localhost:8080/",
          "height": 208
        },
        "id": "nxXm3OwGIO8U",
        "outputId": "f897992d-6f27-4b63-b87c-c8ee3ea3e47b"
      },
      "execution_count": 2,
      "outputs": [
        {
          "output_type": "stream",
          "name": "stderr",
          "text": [
            "\u001b[34m\u001b[1mwandb\u001b[0m: Using wandb-core as the SDK backend.  Please refer to https://wandb.me/wandb-core for more information.\n"
          ]
        },
        {
          "output_type": "display_data",
          "data": {
            "text/plain": [
              "<IPython.core.display.Javascript object>"
            ],
            "application/javascript": [
              "\n",
              "        window._wandbApiKey = new Promise((resolve, reject) => {\n",
              "            function loadScript(url) {\n",
              "            return new Promise(function(resolve, reject) {\n",
              "                let newScript = document.createElement(\"script\");\n",
              "                newScript.onerror = reject;\n",
              "                newScript.onload = resolve;\n",
              "                document.body.appendChild(newScript);\n",
              "                newScript.src = url;\n",
              "            });\n",
              "            }\n",
              "            loadScript(\"https://cdn.jsdelivr.net/npm/postmate/build/postmate.min.js\").then(() => {\n",
              "            const iframe = document.createElement('iframe')\n",
              "            iframe.style.cssText = \"width:0;height:0;border:none\"\n",
              "            document.body.appendChild(iframe)\n",
              "            const handshake = new Postmate({\n",
              "                container: iframe,\n",
              "                url: 'https://wandb.ai/authorize'\n",
              "            });\n",
              "            const timeout = setTimeout(() => reject(\"Couldn't auto authenticate\"), 5000)\n",
              "            handshake.then(function(child) {\n",
              "                child.on('authorize', data => {\n",
              "                    clearTimeout(timeout)\n",
              "                    resolve(data)\n",
              "                });\n",
              "            });\n",
              "            })\n",
              "        });\n",
              "    "
            ]
          },
          "metadata": {}
        },
        {
          "output_type": "stream",
          "name": "stderr",
          "text": [
            "\u001b[34m\u001b[1mwandb\u001b[0m: Logging into wandb.ai. (Learn how to deploy a W&B server locally: https://wandb.me/wandb-server)\n",
            "\u001b[34m\u001b[1mwandb\u001b[0m: You can find your API key in your browser here: https://wandb.ai/authorize\n",
            "wandb: Paste an API key from your profile and hit enter:"
          ]
        },
        {
          "name": "stdout",
          "output_type": "stream",
          "text": [
            " ··········\n"
          ]
        },
        {
          "output_type": "stream",
          "name": "stderr",
          "text": [
            "\u001b[34m\u001b[1mwandb\u001b[0m: \u001b[33mWARNING\u001b[0m If you're specifying your api key in code, ensure this code is not shared publicly.\n",
            "\u001b[34m\u001b[1mwandb\u001b[0m: \u001b[33mWARNING\u001b[0m Consider setting the WANDB_API_KEY environment variable, or running `wandb login` from the command line.\n",
            "\u001b[34m\u001b[1mwandb\u001b[0m: No netrc file found, creating one.\n",
            "\u001b[34m\u001b[1mwandb\u001b[0m: Appending key for api.wandb.ai to your netrc file: /root/.netrc\n",
            "\u001b[34m\u001b[1mwandb\u001b[0m: Currently logged in as: \u001b[33mma23m013\u001b[0m (\u001b[33mma23m013-iit-madras\u001b[0m) to \u001b[32mhttps://api.wandb.ai\u001b[0m. Use \u001b[1m`wandb login --relogin`\u001b[0m to force relogin\n"
          ]
        },
        {
          "output_type": "execute_result",
          "data": {
            "text/plain": [
              "True"
            ]
          },
          "metadata": {},
          "execution_count": 2
        }
      ]
    },
    {
      "cell_type": "markdown",
      "source": [
        "## Question-1"
      ],
      "metadata": {
        "id": "PpB8iMFDh9tC"
      }
    },
    {
      "cell_type": "code",
      "source": [
        "import numpy as np\n",
        "import pandas as pd\n",
        "import matplotlib.pyplot as plt\n",
        "from keras.datasets import fashion_mnist\n"
      ],
      "metadata": {
        "id": "cIcsuDPEPXYa"
      },
      "execution_count": 3,
      "outputs": []
    },
    {
      "cell_type": "code",
      "source": [
        "# Initialize WandB project\n",
        "wandb.init(project='DA6401_Assignment-1')\n",
        "\n",
        "# Load Fashion-MNIST dataset (train and test sets)\n",
        "(train_img, train_lbl), (test_img, test_lbl) = fashion_mnist.load_data()\n",
        "\n",
        "# Define class names for labels\n",
        "class_names = ['Top/Tshirt', 'Pullover', 'Trouser', 'Shirt', 'Coat', 'Dress', 'Sandal', 'Sneaker', 'Ankle-boot', 'Bag']\n",
        "\n",
        "# Select one sample image for each class\n",
        "samples = {}\n",
        "for i in range(100):  # Loop through first 36 images\n",
        "  lbl = train_lbl[i]  # Get label of current image\n",
        "  if lbl not in samples:  # If label is not already added, add it\n",
        "    samples[lbl] = train_img[i]\n",
        "  if len(samples) == 10:  # Stop when all 10 classes have at least one image\n",
        "    break\n",
        "\n",
        "# Convert dictionary to lists for easy indexing\n",
        "sample_lbl = list(samples.keys())\n",
        "sample_img = list(samples.values())\n",
        "\n",
        "# Function to plot 7 random sample images\n",
        "def plot_sample(step):\n",
        "  fig, axes = plt.subplots(1, 7, figsize=(14, 5))  # Create figure with 7 subplots\n",
        "  chosen_indices = np.random.choice(len(sample_img), 7, replace=True)  # Randomly select 7 images\n",
        "\n",
        "  for ax, idx in zip(axes.flatten(), chosen_indices):\n",
        "    ax.imshow(sample_img[idx], cmap='gray')  # Display image\n",
        "    ax.set_title(class_names[sample_lbl[idx]])  # Set title with class name\n",
        "    ax.axis('off')  # Remove axis for cleaner view\n",
        "\n",
        "  plt.tight_layout()\n",
        "  plt.show()\n",
        "  return fig\n",
        "\n",
        "# Log images to WandB for visualization\n",
        "wandb.log({\"Examples\": [wandb.Image(plot_sample(0), caption=\"Step 0\"),\n",
        "    wandb.Image(plot_sample(1), caption=\"Step 1\"), wandb.Image(plot_sample(2), caption=\"Step 2\")]})\n",
        "\n",
        "# Finish WandB run\n",
        "wandb.finish()\n"
      ],
      "metadata": {
        "colab": {
          "base_uri": "https://localhost:8080/",
          "height": 987
        },
        "id": "PGnnaEUd4s7y",
        "outputId": "88122499-d36d-49a2-f60f-af54164b8387"
      },
      "execution_count": 4,
      "outputs": [
        {
          "output_type": "display_data",
          "data": {
            "text/plain": [
              "<IPython.core.display.HTML object>"
            ],
            "text/html": [
              "Tracking run with wandb version 0.19.7"
            ]
          },
          "metadata": {}
        },
        {
          "output_type": "display_data",
          "data": {
            "text/plain": [
              "<IPython.core.display.HTML object>"
            ],
            "text/html": [
              "Run data is saved locally in <code>/content/wandb/run-20250308_165034-wied9zjf</code>"
            ]
          },
          "metadata": {}
        },
        {
          "output_type": "display_data",
          "data": {
            "text/plain": [
              "<IPython.core.display.HTML object>"
            ],
            "text/html": [
              "Syncing run <strong><a href='https://wandb.ai/ma23m013-iit-madras/DA6401_Assignment-1/runs/wied9zjf' target=\"_blank\">worthy-capybara-16</a></strong> to <a href='https://wandb.ai/ma23m013-iit-madras/DA6401_Assignment-1' target=\"_blank\">Weights & Biases</a> (<a href='https://wandb.me/developer-guide' target=\"_blank\">docs</a>)<br>"
            ]
          },
          "metadata": {}
        },
        {
          "output_type": "display_data",
          "data": {
            "text/plain": [
              "<IPython.core.display.HTML object>"
            ],
            "text/html": [
              " View project at <a href='https://wandb.ai/ma23m013-iit-madras/DA6401_Assignment-1' target=\"_blank\">https://wandb.ai/ma23m013-iit-madras/DA6401_Assignment-1</a>"
            ]
          },
          "metadata": {}
        },
        {
          "output_type": "display_data",
          "data": {
            "text/plain": [
              "<IPython.core.display.HTML object>"
            ],
            "text/html": [
              " View run at <a href='https://wandb.ai/ma23m013-iit-madras/DA6401_Assignment-1/runs/wied9zjf' target=\"_blank\">https://wandb.ai/ma23m013-iit-madras/DA6401_Assignment-1/runs/wied9zjf</a>"
            ]
          },
          "metadata": {}
        },
        {
          "output_type": "stream",
          "name": "stdout",
          "text": [
            "Downloading data from https://storage.googleapis.com/tensorflow/tf-keras-datasets/train-labels-idx1-ubyte.gz\n",
            "\u001b[1m29515/29515\u001b[0m \u001b[32m━━━━━━━━━━━━━━━━━━━━\u001b[0m\u001b[37m\u001b[0m \u001b[1m0s\u001b[0m 0us/step\n",
            "Downloading data from https://storage.googleapis.com/tensorflow/tf-keras-datasets/train-images-idx3-ubyte.gz\n",
            "\u001b[1m26421880/26421880\u001b[0m \u001b[32m━━━━━━━━━━━━━━━━━━━━\u001b[0m\u001b[37m\u001b[0m \u001b[1m0s\u001b[0m 0us/step\n",
            "Downloading data from https://storage.googleapis.com/tensorflow/tf-keras-datasets/t10k-labels-idx1-ubyte.gz\n",
            "\u001b[1m5148/5148\u001b[0m \u001b[32m━━━━━━━━━━━━━━━━━━━━\u001b[0m\u001b[37m\u001b[0m \u001b[1m0s\u001b[0m 0us/step\n",
            "Downloading data from https://storage.googleapis.com/tensorflow/tf-keras-datasets/t10k-images-idx3-ubyte.gz\n",
            "\u001b[1m4422102/4422102\u001b[0m \u001b[32m━━━━━━━━━━━━━━━━━━━━\u001b[0m\u001b[37m\u001b[0m \u001b[1m0s\u001b[0m 0us/step\n"
          ]
        },
        {
          "output_type": "display_data",
          "data": {
            "text/plain": [
              "<Figure size 1400x500 with 7 Axes>"
            ],
            "image/png": "[encoded data removed]"
          },
          "metadata": {}
        },
        {
          "output_type": "display_data",
          "data": {
            "text/plain": [
              "<Figure size 1400x500 with 7 Axes>"
            ],
            "image/png": "[encoded data removed]"
          },
          "metadata": {}
        },
        {
          "output_type": "display_data",
          "data": {
            "text/plain": [
              "<Figure size 1400x500 with 7 Axes>"
            ],
            "image/png": "[encoded data removed]"
          },
          "metadata": {}
        },
        {
          "output_type": "display_data",
          "data": {
            "text/plain": [
              "<IPython.core.display.HTML object>"
            ],
            "text/html": []
          },
          "metadata": {}
        },
        {
          "output_type": "display_data",
          "data": {
            "text/plain": [
              "<IPython.core.display.HTML object>"
            ],
            "text/html": [
              " View run <strong style=\"color:#cdcd00\">worthy-capybara-16</strong> at: <a href='https://wandb.ai/ma23m013-iit-madras/DA6401_Assignment-1/runs/wied9zjf' target=\"_blank\">https://wandb.ai/ma23m013-iit-madras/DA6401_Assignment-1/runs/wied9zjf</a><br> View project at: <a href='https://wandb.ai/ma23m013-iit-madras/DA6401_Assignment-1' target=\"_blank\">https://wandb.ai/ma23m013-iit-madras/DA6401_Assignment-1</a><br>Synced 5 W&B file(s), 3 media file(s), 0 artifact file(s) and 0 other file(s)"
            ]
          },
          "metadata": {}
        },
        {
          "output_type": "display_data",
          "data": {
            "text/plain": [
              "<IPython.core.display.HTML object>"
            ],
            "text/html": [
              "Find logs at: <code>./wandb/run-20250308_165034-wied9zjf/logs</code>"
            ]
          },
          "metadata": {}
        }
      ]
    },
    {
      "cell_type": "markdown",
      "source": [
        "## Question-2"
      ],
      "metadata": {
        "id": "EwxSLCyuiCpm"
      }
    },
    {
      "cell_type": "code",
      "source": [
        "\n",
        "# Activation function (Sigmoid)\n",
        "def act(x):\n",
        "  return 1/(1+np.exp(-x))  # Converts input into a range between 0 and 1\n",
        "\n",
        "# Derivative of Sigmoid, used in backpropagation to compute gradients\n",
        "def act_der(x):\n",
        "  return act(x)*(1-act(x))\n",
        "\n",
        "# Softmax function, converts output layer activations into probabilities\n",
        "def soft_func(x):\n",
        "  x = x-np.max(x) # Normalize values to prevent overflow\n",
        "  return np.exp(x)/np.sum(np.exp(x), axis=0)\n",
        "\n",
        "# Initialize neural network weights and biases\n",
        "def init_net(n_layers, nodes, init_m, inp_dim, out_dim):\n",
        "  \"\"\"\n",
        "    Initializes the neural network weights and biases.\n",
        "\n",
        "    Parameters:\n",
        "    - n_layers: Number of hidden layers\n",
        "    - nodes: List of nodes in each hidden layer\n",
        "    - init_m: Weight initialization method ('rand' or 'xav')\n",
        "    - inp_dim: Input dimension\n",
        "    - out_dim: Output dimension\n",
        "\n",
        "    Returns:\n",
        "    - Dictionary containing initialized weights and biases\n",
        "    \"\"\"\n",
        "  size = [inp_dim]+nodes+[out_dim]  # Define the structure of the network\n",
        "  wts = {}  # Dictionary to store weights and biases\n",
        "\n",
        "  if init_m == 'rand': # Random weight initialization\n",
        "    for i in range(1, n_layers+2):\n",
        "      wts['W'+str(i)] = np.random.randn(size[i],size[i-1])\n",
        "      wts['b'+str(i)] = np.random.randn(size[i],1)\n",
        "  elif init_m == 'xav': # Xavier initialization for better weight scaling\n",
        "    for i in range(1, n_layers+2):\n",
        "      wts['W'+str(i)] = np.random.randn(size[i],size[i-1])*(np.sqrt(2/size[i-1]))\n",
        "      wts['b'+str(i)] = np.random.randn(size[i],1)*(np.sqrt(2/size[i-1]))\n",
        "\n",
        "  return wts\n",
        "\n",
        "# Forward propagation - calculates activations layer by layer\n",
        "def forw_prop(inp,wts, n_layers, inp_dim):\n",
        "  \"\"\"\n",
        "    Performs forward propagation.\n",
        "\n",
        "    Parameters:\n",
        "    - inp: Input data\n",
        "    - wts: Weights dictionary\n",
        "    - n_layers: Number of hidden layers\n",
        "    - inp_dim: Input dimension\n",
        "\n",
        "    Returns:\n",
        "    - acts: Dictionary storing activations\n",
        "    - out: Dictionary storing outputs at each layer\n",
        "    - pred: Output probabilities from the softmax layer\n",
        "    \"\"\"\n",
        "  acts = {} # Store activation values\n",
        "  acts['a0'] = np.zeros((inp_dim,1)) # Initialize first activation\n",
        "  out = {'h0':inp} # Store input layer values\n",
        "\n",
        "  for i in range(1,n_layers+1): # Iterate through hidden layers\n",
        "    acts['a'+str(i)]= np.dot(wts['W'+str(i)], out['h'+str(i-1)]) + wts['b'+str(i)]\n",
        "    out['h'+str(i)]= act(acts['a'+str(i)]) # Apply activation function\n",
        "  # Output layer processing\n",
        "  acts['a'+str(n_layers+1)]= np.dot(wts['W'+str(n_layers+1)], out['h'+str(n_layers)]) + wts['b'+str(n_layers+1)]\n",
        "  pred = soft_func(acts['a'+str(n_layers+1)]) # Apply softmax for probabilities\n",
        "\n",
        "  return acts, out, pred\n",
        "\n",
        "# Backpropagation - calculates gradients for weight updates\n",
        "def back_prop(inp, true_lbl, n_layers, wts, inp_dim):\n",
        "  \"\"\"\n",
        "    Performs backpropagation to compute gradients.\n",
        "\n",
        "    Parameters:\n",
        "    - inp: Input data\n",
        "    - true_lbl: True labels\n",
        "    - n_layers: Number of hidden layers\n",
        "    - wts: Weights dictionary\n",
        "    - inp_dim: Input dimension\n",
        "\n",
        "    Returns:\n",
        "    - grad: Dictionary containing gradients for weight and bias updates\n",
        "    \"\"\"\n",
        "  m = inp.shape[0] # Number of examples\n",
        "  acts, out, pred = forw_prop(inp, wts, n_layers, inp_dim)\n",
        "  grad = {} # Store gradients\n",
        "  err = {} # Store error terms\n",
        "  err['a'+str(n_layers+1)] = -1*(true_lbl.T-pred) # Compute error for output layer\n",
        "\n",
        "  for i in range(n_layers+1,0,-1): # Iterate backwards through layers\n",
        "    grad['W'+str(i)]= (1/m)*np.dot(err['a'+str(i)], out['h'+str(i-1)].T) # Compute weight gradient\n",
        "    grad['b'+str(i)]= (1/m)*np.mean(err['a'+str(i)], axis=1, keepdims=True) # Compute bias gradient\n",
        "    if i>1:\n",
        "      err['h'+str(i-1)]= np.dot(wts['W'+str(i)].T, err['a'+str(i)]) # Propagate error backward\n",
        "      err['a'+str(i-1)]= err['h'+str(i-1)]*act_der(acts['a'+str(i-1)]) # Apply derivative of activation\n",
        "  return grad\n",
        "\n",
        "# Gradient Descent with loss tracking\n",
        "def upd_wts(lr, wts, inp, true_lbl, n_layers, inp_dim):\n",
        "  wandb.init(project='DA6401_Assignment-1', name='GradientDescent')\n",
        "  losses= []  # Store losses for each epoch\n",
        "  for e in range(100): # Train for 100 epochs\n",
        "    grad = back_prop(inp, true_lbl, n_layers, wts, inp_dim)\n",
        "    for i in range (1, n_layers+2):\n",
        "      wts['W'+str(i)] -= lr*grad['W'+str(i)] # Update weights\n",
        "      wts['b'+str(i)] -= lr*grad['b'+str(i)] # Update biases\n",
        "\n",
        "    # Compute loss for this epoch\n",
        "    acts, out, pred = forw_prop(inp, wts, n_layers, inp_dim)\n",
        "    loss = -np.mean(np.sum(true_lbl.T*np.log(pred),axis=0))\n",
        "    losses.append(loss)\n",
        "    wandb.log({'Epoch': e+1, 'Loss': loss})\n",
        "    print(f'Epoch {e+1}, Loss: {loss}')\n",
        "\n",
        "  # Plot the loss function over epochs\n",
        "  plt.plot(losses)\n",
        "  plt.xlabel('Epoch')\n",
        "  plt.ylabel('Loss')\n",
        "  plt.title('Training Loss over Epochs')\n",
        "  plt.show()\n",
        "\n",
        "  wandb.finish()\n",
        "  return wts, losses\n",
        "\n",
        "# Compute accuracy of the model\n",
        "def calc_acc(test_inp, test_lbl, wts, n_layers, inp_dim):\n",
        "  acts, out, pred = forw_prop(test_inp, wts, n_layers, inp_dim)\n",
        "  assert test_lbl.shape == pred.shape # Ensure shapes match\n",
        "  test_lbl = np.argmax(test_lbl, axis=0) # Convert one-hot labels to index\n",
        "  pred = np.argmax(pred, axis=0) # Get predicted class\n",
        "  correct = np.sum(test_lbl==pred) # Count correct predictions\n",
        "  acc = correct/test_lbl.shape[0] # Compute accuracy\n",
        "\n",
        "  wandb.log({'Test Accuracy': acc})\n",
        "  return acc\n"
      ],
      "metadata": {
        "id": "tAUUYyAYtceR"
      },
      "execution_count": 5,
      "outputs": []
    },
    {
      "cell_type": "markdown",
      "source": [
        "## Question-3"
      ],
      "metadata": {
        "id": "W9evn-A4qwj_"
      }
    },
    {
      "cell_type": "code",
      "source": [
        "def activation(x,func):\n",
        "    \"\"\"\n",
        "    Applies the specified activation function.\n",
        "\n",
        "    Parameters:\n",
        "    - x: Input array\n",
        "    - func: Activation function ('sigmoid', 'relu', 'tanh')\n",
        "\n",
        "    Returns:\n",
        "    - Transformed input based on the activation function\n",
        "    \"\"\"\n",
        "    if func =='sigmoid':\n",
        "        return 1/(1+np.exp(-x))\n",
        "    elif func =='relu':\n",
        "        return np.maximum(0,x)\n",
        "    elif func =='tanh':\n",
        "        return np.tanh(x)\n",
        "    else:\n",
        "        raise ValueError(\"Unsupported activation function\")\n",
        "\n",
        "def activation_derivative(x,func):\n",
        "    \"\"\"\n",
        "    Computes the derivative of the activation function.\n",
        "\n",
        "    Parameters:\n",
        "    - x: Input array\n",
        "    - func: Activation function ('sigmoid', 'relu', 'tanh')\n",
        "\n",
        "    Returns:\n",
        "    - Derivative of the activation function\n",
        "    \"\"\"\n",
        "    if func =='sigmoid':\n",
        "        sig=activation(x,'sigmoid')\n",
        "        return sig*(1-sig)\n",
        "    elif func =='relu':\n",
        "        return np.where(x>0,1,0)\n",
        "    elif func =='tanh':\n",
        "        return 1-np.tanh(x)**2\n",
        "    else:\n",
        "        raise ValueError(\"Unsupported activation function\")\n",
        "\n",
        "def soft_func(x):\n",
        "    \"\"\"\n",
        "    Applies the softmax function for output layer activation.\n",
        "    Parameters:\n",
        "    - x: Input array\n",
        "\n",
        "    Returns:\n",
        "    - Softmax probabilities\n",
        "    \"\"\"\n",
        "    x = x-np.max(x)  # Prevent numerical instability\n",
        "    return np.exp(x)/np.sum(np.exp(x),axis=0)\n",
        "\n",
        "def init_net(n_layers,nodes,init_m,inp_dim,out_dim):\n",
        "    \"\"\"\n",
        "    Initializes the neural network weights and biases.\n",
        "\n",
        "    Parameters:\n",
        "    - n_layers: Number of hidden layers\n",
        "    - nodes: List of nodes in each hidden layer\n",
        "    - init_m: Weight initialization method ('rand' or 'xav')\n",
        "    - inp_dim: Input dimension\n",
        "    - out_dim: Output dimension\n",
        "\n",
        "    Returns:\n",
        "    - Dictionary containing initialized weights and biases\n",
        "    \"\"\"\n",
        "    size = [inp_dim]+nodes+[out_dim]  # Define network structure\n",
        "    wts = {}\n",
        "    if init_m =='rand':  # Random initialization\n",
        "        for i in range(1,n_layers+2):\n",
        "            wts['W'+str(i)] = np.random.randn(size[i],size[i-1])\n",
        "            wts['b'+str(i)] = np.random.randn(size[i],1)\n",
        "    elif init_m =='xav':  # Xavier initialization\n",
        "        for i in range(1,n_layers+2):\n",
        "            wts['W'+str(i)] = np.random.randn(size[i],size[i-1])*(np.sqrt(2/size[i-1]))\n",
        "            wts['b'+str(i)] = np.zeros((size[i],1))  # Initialize biases to zero\n",
        "    return wts\n",
        "\n",
        "def forw_prop(inp, wts,n_layers, activation_func, inp_dim):\n",
        "    \"\"\"\n",
        "    Performs forward propagation.\n",
        "\n",
        "    Parameters:\n",
        "    - inp: Input data\n",
        "    - wts: Weights dictionary\n",
        "    - n_layers: Number of hidden layers\n",
        "    - activation_func: Activation function for hidden layers\n",
        "    - inp_dim: Input dimension\n",
        "\n",
        "    Returns:\n",
        "    - acts: Dictionary storing activations\n",
        "    - out: Dictionary storing outputs at each layer\n",
        "    - pred: Output probabilities from the softmax layer\n",
        "    \"\"\"\n",
        "    acts,out = {},{}\n",
        "    acts['a0'] = np.zeros((inp_dim,1))  # Initialize first activation\n",
        "    out['h0'] = inp\n",
        "\n",
        "    for i in range(1, n_layers+1):  # Process hidden layers\n",
        "        acts['a'+str(i)] = np.dot(wts['W'+str(i)],out['h'+str(i-1)])+wts['b'+str(i)]\n",
        "        out['h'+str(i)] = activation(acts['a'+str(i)],activation_func)\n",
        "\n",
        "    # Compute output layer activations\n",
        "    acts['a'+str(n_layers+1)] = np.dot(wts['W'+str(n_layers+1)],out['h'+str(n_layers)])+wts['b'+str(n_layers+1)]\n",
        "    pred = soft_func(acts['a'+str(n_layers+1)])  # Apply softmax\n",
        "\n",
        "    return acts,out,pred\n",
        "\n",
        "def back_prop(inp,true_lbl,n_layers,wts,activation_func,inp_dim):\n",
        "    \"\"\"\n",
        "    Performs backpropagation to compute gradients.\n",
        "\n",
        "    Parameters:\n",
        "    - inp: Input data\n",
        "    - true_lbl: True labels\n",
        "    - n_layers: Number of hidden layers\n",
        "    - wts: Weights dictionary\n",
        "    - activation_func: Activation function used\n",
        "    - inp_dim: Input dimension\n",
        "\n",
        "    Returns:\n",
        "    - grad: Dictionary containing gradients for weight and bias updates\n",
        "    \"\"\"\n",
        "    m = inp.shape[1]  # Number of training samples\n",
        "    acts,out,pred = forw_prop(inp,wts,n_layers,activation_func,inp_dim)\n",
        "    grad,err = {},{}\n",
        "\n",
        "    # Compute error for output layer\n",
        "    err['a'+str(n_layers+1)]= pred-true_lbl.T\n",
        "\n",
        "    for i in range(n_layers+1, 0,-1):  # Iterate backward through layers\n",
        "        grad['W'+str(i)] = (1/m)*np.dot(err['a'+str(i)],out['h'+str(i-1)].T)  # Compute weight gradient\n",
        "        grad['b'+str(i)] = (1/m)*np.mean(err['a'+str(i)],axis=1,keepdims=True)  # Compute bias gradient\n",
        "        if i>1:\n",
        "            err['h'+str(i-1)] = np.dot(wts['W'+str(i)].T,err['a'+str(i)])  # Compute hidden layer error\n",
        "            err['a'+str(i-1)] = err['h'+str(i-1)]*activation_derivative(acts['a'+str(i-1)],activation_func)  # Apply activation derivative\n",
        "    return grad\n",
        "\n",
        "def calc_acc(test_inp,test_lbl, wts, n_layers, activation_func,inp_dim):\n",
        "    \"\"\"\n",
        "    Computes accuracy of the model on a test dataset.\n",
        "\n",
        "    Parameters:\n",
        "    - test_inp: Test input data\n",
        "    - test_lbl: Test labels (one-hot encoded)\n",
        "    - wts: Weights dictionary\n",
        "    - n_layers: Number of hidden layers\n",
        "    - activation_func: Activation function used\n",
        "    - inp_dim: Input dimension\n",
        "\n",
        "    Returns:\n",
        "    - acc: Accuracy of the model\n",
        "    \"\"\"\n",
        "    acts,out,pred = forw_prop(test_inp,wts,n_layers,activation_func,inp_dim)  # Get model predictions\n",
        "    test_lbl = np.argmax(test_lbl,axis=0)  # Convert one-hot labels to class indices\n",
        "    pred = np.argmax(pred,axis=0)  # Get predicted class indices\n",
        "    acc = np.mean(test_lbl==pred)  # Compute accuracy\n",
        "    wandb.log({'Test Accuracy':acc})  # Log accuracy in WandB\n",
        "    return acc\n"
      ],
      "metadata": {
        "id": "2jV6-Axej9I9"
      },
      "execution_count": 6,
      "outputs": []
    },
    {
      "cell_type": "markdown",
      "source": [
        "Stochastic Gradient Descent"
      ],
      "metadata": {
        "id": "WTWN9ldu3Kca"
      }
    },
    {
      "cell_type": "code",
      "source": [
        "def stochastic_gd(lr, x_train,y_train, x_valid,y_valid, epochs, activation_func, n_layers,nodes, weight_init,batch_size, inp_dim,out_dim):\n",
        "    \"\"\"\n",
        "    Stochastic Gradient Descent (SGD) optimizer.\n",
        "\n",
        "    Parameters:\n",
        "    - lr: Learning rate\n",
        "    - x_train, y_train: Training data and labels\n",
        "    - X_valid, Y_valid: Validation data and labels\n",
        "    - epochs: Number of training epochs\n",
        "    - activation_func: Activation function ('relu', 'tanh', etc.)\n",
        "    - n_layers: Number of hidden layers\n",
        "    - nodes: List of nodes per hidden layer\n",
        "    - weight_init: Weight initialization method ('rand' or 'xav')\n",
        "    - batch_size: Mini-batch size\n",
        "    - inp_dim, out_dim: Input and output dimensions\n",
        "\n",
        "    Returns:\n",
        "    - Optimized weights dictionary\n",
        "    \"\"\"\n",
        "    wts = init_net(n_layers,nodes,weight_init,inp_dim,out_dim) # Initialize weights\n",
        "    losses = [] # Track loss per epoch\n",
        "    n = x_train.shape[0] # Training set size\n",
        "\n",
        "    for epoch in range(epochs):\n",
        "        idx = np.arange(n)\n",
        "        np.random.shuffle(idx) #Shuffle data\n",
        "        cnt = 0\n",
        "        grad_accu = {k:np.zeros_like(v) for k,v in wts.items()} # Initialize accumulated gradients\n",
        "\n",
        "        for j in range(n):\n",
        "            cnt+=1\n",
        "            x = x_train[idx[j],:].reshape(-1,1) # Get input sample\n",
        "            y_true = y_train[idx[j],:].reshape(-1,1) # Get corresponding label\n",
        "            grad = back_prop(x,y_true,n_layers,wts,activation_func,inp_dim) # Compute gradients\n",
        "\n",
        "            for k in range(1,n_layers+2): # Accumulate gradients\n",
        "                grad_accu['W'+str(k)] += grad['W'+str(k)]\n",
        "                grad_accu['b'+str(k)] += grad['b'+str(k)]\n",
        "\n",
        "            if cnt%batch_size == 0: # Update weights when batch is processed\n",
        "                for i in range(1,n_layers+2):\n",
        "                    wts['W'+str(i)] -= lr*grad_accu['W'+str(i)] # Update weight W\n",
        "                    wts['b'+str(i)] -= lr*grad_accu['b'+str(i)] # Update bias b\n",
        "                grad_accu = {k:np.zeros_like(v) for k,v in wts.items()} # Reset accumulated gradients\n",
        "\n",
        "        train_acc = calc_acc(x_train,y_train,wts,n_layers,activation_func,inp_dim) # Compute training accuracy\n",
        "        acts, out, y_pred = forw_prop(x_train.T,wts,n_layers,activation_func,inp_dim) # Forward pass\n",
        "        loss = -np.mean(np.sum(y_train.T*np.log(y_pred+1e-9),axis=0)) # Compute loss\n",
        "        losses.append(loss)\n",
        "        val_acc = calc_acc(x_valid,y_valid,wts,n_layers,activation_func,inp_dim) # Compute validation accuracy\n",
        "\n",
        "        print(f\"Epoch {epoch+1}, Loss: {loss:.4f}, Train Acc: {train_acc*100:.2f}%, Val Acc: {val_acc*100:.2f}%\")\n",
        "        wandb.log({'train_loss':loss,'train_acc':train_acc*100,'val_acc':val_acc*100,'epoch':epoch}) # Log metrics\n",
        "\n",
        "    plt.plot(losses) # Plot loss curve\n",
        "    plt.xlabel('Epoch')\n",
        "    plt.ylabel('Loss')\n",
        "    plt.title('Training Loss')\n",
        "    plt.show()\n",
        "\n",
        "    return wts # Return updated weights\n"
      ],
      "metadata": {
        "id": "jj7XzDQN15oL"
      },
      "execution_count": 7,
      "outputs": []
    },
    {
      "cell_type": "markdown",
      "source": [
        "Momentum Based Gradient Descent"
      ],
      "metadata": {
        "id": "wB1AiDSV6IPk"
      }
    },
    {
      "cell_type": "code",
      "source": [
        "def momentum_gd(lr,beta,x_train,y_train,x_valid,y_valid,epochs,activation_func,n_layers,nodes,weight_init,batch_size,inp_dim,out_dim):\n",
        "    \"\"\"\n",
        "    Implements Momentum-based Gradient Descent following the update rule:\n",
        "        u_t = β * u_(t-1) + ∇w_t\n",
        "        w_(t+1) = w_t - η * u_t\n",
        "\n",
        "    Parameters:\n",
        "    - lr: Learning rate (η)\n",
        "    - beta: Momentum coefficient (β) in the range [0,1)\n",
        "    - x_train, y_train: Training dataset\n",
        "    - X_valid, Y_valid: Validation dataset\n",
        "    - epochs: Number of training iterations\n",
        "    - activation_func: Activation function ('relu', 'tanh', 'sigmoid')\n",
        "    - n_layers: Number of hidden layers\n",
        "    - nodes: List of nodes in each hidden layer\n",
        "    - weight_init: Weight initialization method ('rand' or 'xav')\n",
        "    - batch_size: Size of each mini-batch\n",
        "    - inp_dim: Number of input features\n",
        "    - out_dim: Number of output classes\n",
        "\n",
        "    Returns:\n",
        "    - Updated weights after training\n",
        "    \"\"\"\n",
        "    wts = init_net(n_layers,nodes,weight_init,inp_dim,out_dim)  # Initialize weights\n",
        "    losses = []  # Track loss per epoch\n",
        "    num_samples = x_train.shape[0]\n",
        "    prev_u = {key:np.zeros_like(value) for key,value in wts.items()}  # Initialize velocity\n",
        "\n",
        "    for epoch in range(epochs):\n",
        "        indices = np.arange(num_samples)\n",
        "        np.random.shuffle(indices)  # Shuffle data\n",
        "        grad_accu = {key:np.zeros_like(value) for key,value in wts.items()}  # Gradient accumulation\n",
        "        num_processed = 0\n",
        "\n",
        "        for i in range(num_samples):\n",
        "            num_processed+=1\n",
        "            x = x_train[indices[i],:].reshape(-1,1)  # Get input sample\n",
        "            y_actual = y_train[indices[i],:].reshape(-1,1)  # Get label\n",
        "            grad = back_prop(x,y_actual,n_layers,wts,activation_func,inp_dim)  # Compute gradients\n",
        "\n",
        "            for j in range(1,n_layers+2):  # Accumulate gradients\n",
        "                grad_accu['W'+str(j)] += grad['W'+str(j)]\n",
        "                grad_accu['b'+str(j)] += grad['b'+str(j)]\n",
        "\n",
        "            if num_processed%batch_size==0:  # Update weights after processing a batch\n",
        "                for k in range(1,n_layers+2):\n",
        "                    u_w = beta*prev_u['W'+str(k)]+grad_accu['W'+str(k)]\n",
        "                    u_b = beta*prev_u['b'+str(k)]+grad_accu['b'+str(k)]\n",
        "                    wts['W'+str(k)] -= lr*u_w\n",
        "                    wts['b'+str(k)] -= lr*u_b\n",
        "                    prev_u['W'+str(k)] = u_w\n",
        "                    prev_u['b'+str(k)] = u_b\n",
        "                grad_accu={key:np.zeros_like(value) for key,value in wts.items()}  # Reset accumulated gradients\n",
        "\n",
        "        # Compute loss and accuracy\n",
        "        acc = calc_acc(x_train,y_train,wts,n_layers,activation_func,inp_dim)\n",
        "        acts,out,y_pred = forw_prop(x_train.T,wts,n_layers,activation_func,inp_dim)\n",
        "        loss = -np.mean(np.sum(y_train.T*np.log(y_pred),axis=0))  # Cross-entropy loss\n",
        "        losses.append(loss)\n",
        "        val_acc = calc_acc(x_valid,y_valid,wts,n_layers,activation_func,inp_dim)\n",
        "\n",
        "        print(f\"Epoch {epoch+1}, Loss: {loss:.4f}, Training Accuracy: {acc*100:.2f}%, Validation Accuracy: {val_acc*100:.2f}%\")\n",
        "\n",
        "        # Log metrics in WandB\n",
        "        wandb.log({'train_loss':loss,'train_accuracy':acc*100,'Val_accuracy':val_acc*100,'epoch':epoch})\n",
        "\n",
        "    # Plot loss curve\n",
        "    plt.plot(losses)\n",
        "    plt.xlabel('Epoch')\n",
        "    plt.ylabel('Loss')\n",
        "    plt.title('Training Loss over Epochs')\n",
        "    plt.show()\n",
        "\n",
        "    return wts\n"
      ],
      "metadata": {
        "id": "KTvs_mTJ2DT4"
      },
      "execution_count": 8,
      "outputs": []
    },
    {
      "cell_type": "markdown",
      "source": [
        "Nesterov Accelerated Gradient Descent"
      ],
      "metadata": {
        "id": "6cCuUWpN5xB-"
      }
    },
    {
      "cell_type": "code",
      "source": [
        "def nesterov_gd(lr,x_train,y_train,x_valid,y_valid,epochs,activation_func,n_layers,nodes,weight_init,batch_size,inp_dim,out_dim,beta):\n",
        "    \"\"\"\n",
        "    Implements Nesterov Accelerated Gradient Descent (NAG):\n",
        "        u_t = β * u_(t-1) + ∇(w - η*β * u_(t-1))\n",
        "        w_(t+1) = w_t - η * u_t\n",
        "\n",
        "    Parameters:\n",
        "    - lr: Learning rate (η)\n",
        "    - beta: Momentum coefficient (β) in the range [0,1)\n",
        "    - x_train, y_train: Training dataset\n",
        "    - X_valid, Y_valid: Validation dataset\n",
        "    - epochs: Number of training iterations\n",
        "    - activation_func: Activation function ('relu', 'tanh', 'sigmoid')\n",
        "    - n_layers: Number of hidden layers\n",
        "    - nodes: List of nodes in each hidden layer\n",
        "    - weight_init: Weight initialization method ('rand' or 'xav')\n",
        "    - batch_size: Size of each mini-batch\n",
        "    - inp_dim: Number of input features\n",
        "    - out_dim: Number of output classes\n",
        "\n",
        "    Returns:\n",
        "    - Updated weights after training\n",
        "    \"\"\"\n",
        "    wts = init_net(n_layers,nodes,weight_init,inp_dim,out_dim)  # Initialize weights\n",
        "    prev_u = {key:np.zeros_like(value) for key,value in wts.items()}  # Initialize velocity\n",
        "    losses = []  # Track loss per epoch\n",
        "    num_samples = x_train.shape[0]\n",
        "\n",
        "    for epoch in range(epochs):\n",
        "        indices = np.arange(num_samples)\n",
        "        np.random.shuffle(indices)  # Shuffle dataset\n",
        "        grad_accu = {key:np.zeros_like(value) for key,value in wts.items()}  # Gradient accumulation\n",
        "        num_processed=0\n",
        "\n",
        "        for i in range(num_samples):\n",
        "            num_processed+=1\n",
        "            x = x_train[indices[i],:].reshape(-1,1)  # Get training example\n",
        "            y_actual = y_train[indices[i],:].reshape(-1,1)  # Get label\n",
        "\n",
        "            # Lookahead step: Compute gradients at future position\n",
        "            wts_lookahead = {key:wts[key]-lr*beta*prev_u[key] for key in wts}\n",
        "            grad = back_prop(x,y_actual,n_layers,wts_lookahead,activation_func,inp_dim)\n",
        "\n",
        "            # Accumulate gradients\n",
        "            for j in range(1,n_layers+2):\n",
        "                grad_accu['W'+str(j)] += grad['W'+str(j)]\n",
        "                grad_accu['b'+str(j)] += grad['b'+str(j)]\n",
        "\n",
        "            # Perform update after batch\n",
        "            if num_processed%batch_size == 0:\n",
        "                for k in range(1, n_layers+2):\n",
        "                    u_w = beta*prev_u['W'+str(k)]+grad_accu['W'+str(k)]\n",
        "                    u_b = beta*prev_u['b'+str(k)]+grad_accu['b'+str(k)]\n",
        "                    wts['W'+str(k)] -= lr*u_w\n",
        "                    wts['b'+str(k)] -= lr*u_b\n",
        "                    prev_u['W'+str(k)] = u_w\n",
        "                    prev_u['b'+str(k)] = u_b\n",
        "                grad_accu = {key:np.zeros_like(value) for key,value in wts.items()}  # Reset gradients\n",
        "\n",
        "        # Compute loss and accuracy\n",
        "        acc = calc_acc(x_train,y_train,wts,n_layers,activation_func,inp_dim)\n",
        "        acts,out,y_pred = forw_prop(x_train.T,wts,n_layers,activation_func,inp_dim)\n",
        "        loss = -np.mean(np.sum(y_train.T*np.log(y_pred),axis=0))\n",
        "        losses.append(loss)\n",
        "        val_acc = calc_acc(x_valid,y_valid,wts,n_layers,activation_func,inp_dim)\n",
        "\n",
        "        print(f\"Epoch {epoch+1}, Loss: {loss:.4f}, Training Accuracy: {acc*100:.2f}%, Validation Accuracy: {val_acc*100:.2f}%\")\n",
        "\n",
        "        # Log metrics in WandB\n",
        "        wandb.log({'train_loss':loss,'train_accuracy':acc*100,'Val_accuracy':val_acc*100,'epoch':epoch})\n",
        "\n",
        "    # Plot loss curve\n",
        "    plt.plot(losses)\n",
        "    plt.xlabel('Epoch')\n",
        "    plt.ylabel('Loss')\n",
        "    plt.title('Training Loss over Epochs')\n",
        "    plt.show()\n",
        "\n",
        "    return wts\n"
      ],
      "metadata": {
        "id": "o_4dHdwz5vbJ"
      },
      "execution_count": 9,
      "outputs": []
    },
    {
      "cell_type": "markdown",
      "source": [
        "RMSPROP"
      ],
      "metadata": {
        "id": "tYX12sWsquPy"
      }
    },
    {
      "cell_type": "code",
      "source": [
        "def rmsprop(lr,x_train,y_train,x_valid,y_valid,epochs,activation_func,n_layers,nodes,weight_init,batch_size,inp_dim,out_dim,beta,epsilon=1e-8):\n",
        "    \"\"\"\n",
        "    Implements RMSprop optimization:\n",
        "        v_t = β * v_(t-1) + (1-β) * (∇w_t)^2\n",
        "        w_(t+1) = w_t - η*(∇w_t / (√v_t + ε))\n",
        "\n",
        "    Parameters:\n",
        "    - lr: Learning rate (η)\n",
        "    - beta: Decay rate (β) in the range [0,1)\n",
        "    - epsilon: Small constant to prevent division by zero\n",
        "    - x_train, y_train: Training dataset\n",
        "    - X_valid, Y_valid: Validation dataset\n",
        "    - epochs: Number of training iterations\n",
        "    - activation_func: Activation function ('relu', 'tanh', 'sigmoid')\n",
        "    - n_layers: Number of hidden layers\n",
        "    - nodes: List of nodes in each hidden layer\n",
        "    - weight_init: Weight initialization method ('rand' or 'xav')\n",
        "    - batch_size: Size of each mini-batch\n",
        "    - inp_dim: Number of input features\n",
        "    - out_dim: Number of output classes\n",
        "\n",
        "    Returns:\n",
        "    - Updated weights after training\n",
        "    \"\"\"\n",
        "    wts=init_net(n_layers,nodes,weight_init,inp_dim,out_dim)  # Initialize weights\n",
        "    v={key:np.zeros_like(value) for key,value in wts.items()}  # Init squared gradient accumulator\n",
        "    losses=[]  # Track loss per epoch\n",
        "    num_samples=x_train.shape[0]\n",
        "\n",
        "    for epoch in range(epochs):\n",
        "        indices=np.arange(num_samples)\n",
        "        np.random.shuffle(indices)  # Shuffle dataset\n",
        "        grad_accu={key:np.zeros_like(value) for key,value in wts.items()}  # Gradient accumulation\n",
        "        num_processed=0\n",
        "\n",
        "        for i in range(num_samples):\n",
        "            num_processed+=1\n",
        "            x=x_train[indices[i],:].reshape(-1,1)  # Get training example\n",
        "            y_actual=y_train[indices[i],:].reshape(-1,1)  # Get label\n",
        "            grad=back_prop(x,y_actual,n_layers,wts,activation_func,inp_dim)\n",
        "\n",
        "            # Accumulate gradients\n",
        "            for j in range(1,n_layers+2):\n",
        "                grad_accu['W'+str(j)]+=grad['W'+str(j)]\n",
        "                grad_accu['b'+str(j)]+=grad['b'+str(j)]\n",
        "\n",
        "            # Perform update after batch\n",
        "            if num_processed%batch_size==0:\n",
        "                for k in range(1,n_layers+2):\n",
        "                    v['W'+str(k)]=beta*v['W'+str(k)]+(1-beta)*(grad_accu['W'+str(k)]**2)\n",
        "                    v['b'+str(k)]=beta*v['b'+str(k)]+(1-beta)*(grad_accu['b'+str(k)]**2)\n",
        "                    wts['W'+str(k)]-=lr*(grad_accu['W'+str(k)]/(np.sqrt(v['W'+str(k)])+epsilon))\n",
        "                    wts['b'+str(k)]-=lr*(grad_accu['b'+str(k)]/(np.sqrt(v['b'+str(k)])+epsilon))\n",
        "                grad_accu={key:np.zeros_like(value) for key,value in wts.items()}  # Reset gradients\n",
        "\n",
        "        # Compute loss and accuracy\n",
        "        acc=calc_acc(x_train,y_train,wts,n_layers,activation_func,inp_dim)\n",
        "        acts,out,y_pred=forw_prop(x_train.T,wts,n_layers,activation_func,inp_dim)\n",
        "        loss=-np.mean(np.sum(y_train.T*np.log(y_pred),axis=0))\n",
        "        losses.append(loss)\n",
        "        val_acc=calc_acc(x_valid,y_valid,wts,n_layers,activation_func,inp_dim)\n",
        "\n",
        "        print(f\"Epoch {epoch+1}, Loss: {loss:.4f}, Training Accuracy: {acc*100:.2f}%, Validation Accuracy: {val_acc*100:.2f}%\")\n",
        "\n",
        "        # Log metrics in WandB\n",
        "        wandb.log({'train_loss':loss,'train_accuracy':acc*100,'Val_accuracy':val_acc*100,'epoch':epoch})\n",
        "\n",
        "    # Plot loss curve\n",
        "    plt.plot(losses)\n",
        "    plt.xlabel('Epoch')\n",
        "    plt.ylabel('Loss')\n",
        "    plt.title('Training Loss over Epochs')\n",
        "    plt.show()\n",
        "\n",
        "    return wts\n"
      ],
      "metadata": {
        "id": "SuTOLZC7_AMy"
      },
      "execution_count": 10,
      "outputs": []
    },
    {
      "cell_type": "markdown",
      "source": [
        "ADAM"
      ],
      "metadata": {
        "id": "ohqRIfnSi88z"
      }
    },
    {
      "cell_type": "code",
      "source": [
        "def adam(lr,x_train,y_train,x_valid,y_valid,epochs,activation_func,n_layers,nodes,weight_init,batch_size,inp_dim,out_dim,beta1,beta2,epsilon=1e-8):\n",
        "    \"\"\"\n",
        "    Implements Adam optimization:\n",
        "        m_t = β1*m_(t-1) + (1-β1)*∇w_t\n",
        "        hat{m_t} = m_t / (1-β1^t)\n",
        "        v_t = β2*v_(t-1) + (1-β2)*(∇w_t)^2\n",
        "        hat{v_t} = v_t / (1-β2^t)\n",
        "        w_(t+1) = w_t - η*(hat{m_t} / (√(hat{v_t}) +ε) )\n",
        "\n",
        "    Parameters:\n",
        "    - lr: Learning rate (η)\n",
        "    - beta1: Decay rate for first moment estimate (β1)\n",
        "    - beta2: Decay rate for second moment estimate (β2)\n",
        "    - epsilon: Small constant to prevent division by zero\n",
        "    - x_train, y_train: Training dataset\n",
        "    - X_valid, Y_valid: Validation dataset\n",
        "    - epochs: Number of training iterations\n",
        "    - activation_func: Activation function ('relu', 'tanh', 'sigmoid')\n",
        "    - n_layers: Number of hidden layers\n",
        "    - nodes: List of nodes in each hidden layer\n",
        "    - weight_init: Weight initialization method ('rand' or 'xav')\n",
        "    - batch_size: Size of each mini-batch\n",
        "    - inp_dim: Number of input features\n",
        "    - out_dim: Number of output classes\n",
        "\n",
        "    Returns:\n",
        "    - Updated weights after training\n",
        "    \"\"\"\n",
        "    wts=init_net(n_layers,nodes,weight_init,inp_dim,out_dim)  # Initialize weights\n",
        "    m={key:np.zeros_like(value) for key,value in wts.items()}  # First moment estimate\n",
        "    v={key:np.zeros_like(value) for key,value in wts.items()}  # Second moment estimate\n",
        "    losses=[]  # Track loss per epoch\n",
        "    num_samples=x_train.shape[0]\n",
        "\n",
        "    for epoch in range(1, epochs+1):\n",
        "        indices=np.arange(num_samples)\n",
        "        np.random.shuffle(indices)  # Shuffle dataset\n",
        "        grad_accu={key:np.zeros_like(value) for key,value in wts.items()}  # Gradient accumulation\n",
        "        num_processed=0\n",
        "\n",
        "        for i in range(num_samples):\n",
        "            num_processed+=1\n",
        "            x=x_train[indices[i],:].reshape(-1,1)  # Get training example\n",
        "            y_actual=y_train[indices[i],:].reshape(-1,1)  # Get label\n",
        "            grad=back_prop(x,y_actual,n_layers,wts,activation_func,inp_dim)\n",
        "\n",
        "            # Accumulate gradients\n",
        "            for j in range(1,n_layers+2):\n",
        "                grad_accu['W'+str(j)]+=grad['W'+str(j)]\n",
        "                grad_accu['b'+str(j)]+=grad['b'+str(j)]\n",
        "\n",
        "            # Perform update after batch\n",
        "            if num_processed%batch_size==0:\n",
        "                for k in range(1,n_layers+2):\n",
        "                    m['W'+str(k)] = beta1*m['W'+str(k)]+(1-beta1)*grad_accu['W'+str(k)]\n",
        "                    m['b'+str(k)] = beta1*m['b'+str(k)]+(1-beta1)*grad_accu['b'+str(k)]\n",
        "\n",
        "                    v['W'+str(k)] = beta2*v['W'+str(k)]+(1-beta2)*(grad_accu['W'+str(k)]**2)\n",
        "                    v['b'+str(k)] = beta2*v['b'+str(k)]+(1-beta2)*(grad_accu['b'+str(k)]**2)\n",
        "\n",
        "                    m_hat_w = m['W'+str(k)]/(1-beta1**epoch)\n",
        "                    m_hat_b = m['b'+str(k)]/(1-beta1**epoch)\n",
        "                    v_hat_w = v['W'+str(k)]/(1-beta2**epoch)\n",
        "                    v_hat_b = v['b'+str(k)]/(1-beta2**epoch)\n",
        "\n",
        "                    wts['W'+str(k)] -= lr*(m_hat_w/(np.sqrt(v_hat_w)+epsilon))\n",
        "                    wts['b'+str(k)] -= lr*(m_hat_b/(np.sqrt(v_hat_b)+epsilon))\n",
        "                grad_accu={key:np.zeros_like(value) for key,value in wts.items()}  # Reset gradients\n",
        "\n",
        "        # Compute loss and accuracy\n",
        "        acc=calc_acc(x_train,y_train,wts,n_layers,activation_func,inp_dim)\n",
        "\n",
        "        # Forward propagation for loss calculation\n",
        "        acts,out,y_pred=forw_prop(x_train.T,wts,n_layers,activation_func,inp_dim)\n",
        "        loss=-np.mean(np.sum(y_train.T*np.log(y_pred),axis=0))\n",
        "        losses.append(loss)\n",
        "\n",
        "        # Calculate validation accuracy\n",
        "        val_acc=calc_acc(x_valid,y_valid,wts,n_layers,activation_func,inp_dim)\n",
        "\n",
        "        # Print epoch details\n",
        "        print(f\"Epoch {epoch}, Loss: {loss:.4f}, Training Accuracy: {acc*100:.2f}%, Validation Accuracy: {val_acc*100:.2f}%\")\n",
        "\n",
        "        # Log metrics in WandB\n",
        "        wandb.log({'train_loss':loss,'train_accuracy':acc*100,'Val_accuracy':val_acc*100,'epoch':epoch})\n",
        "\n",
        "    # Plot loss curve\n",
        "    plt.plot(losses)\n",
        "    plt.xlabel('Epoch')\n",
        "    plt.ylabel('Loss')\n",
        "    plt.title('Training Loss over Epochs')\n",
        "    plt.show()\n",
        "\n",
        "    return wts\n"
      ],
      "metadata": {
        "id": "ydQ8T_P-i5R2"
      },
      "execution_count": 11,
      "outputs": []
    },
    {
      "cell_type": "markdown",
      "source": [
        "NADAM"
      ],
      "metadata": {
        "id": "u3v8Sd5orhQB"
      }
    },
    {
      "cell_type": "code",
      "source": [
        "def nadam(lr,x_train,y_train,x_valid,y_valid,epochs,activation_func,n_layers,nodes,weight_init,batch_size,inp_dim,out_dim,beta1,beta2,eps=1e-8):\n",
        "    \"\"\"\n",
        "    Implements NAdam optimization:\n",
        "\n",
        "    Parameters:\n",
        "    - lr: Learning rate (η)\n",
        "    - beta1: Decay rate for first moment estimate (β1)\n",
        "    - beta2: Decay rate for second moment estimate (β2)\n",
        "    - eps: Small constant to prevent division by zero\n",
        "    - x_train, y_train: Training dataset\n",
        "    - x_valid, y_valid: Validation dataset\n",
        "    - epochs: Number of training iterations\n",
        "    - activation_func: Activation function ('relu', 'tanh', 'sigmoid')\n",
        "    - n_layers: Number of hidden layers\n",
        "    - nodes: List of nodes in each hidden layer\n",
        "    - weight_init: Weight initialization method ('rand' or 'xav')\n",
        "    - batch_size: Size of each mini-batch\n",
        "    - inp_dim: Number of input features\n",
        "    - out_dim: Number of output classes\n",
        "\n",
        "    Returns:\n",
        "    - Updated weights after training\n",
        "    \"\"\"\n",
        "    # Initialize network weights\n",
        "    wts=init_net(n_layers,nodes,weight_init,inp_dim,out_dim)\n",
        "    losses=[]\n",
        "    num_samples=x_train.shape[0]\n",
        "\n",
        "    # Initialize moment estimates\n",
        "    m={key:np.zeros_like(value)for key,value in wts.items()}\n",
        "    v={key:np.zeros_like(value)for key,value in wts.items()}\n",
        "\n",
        "    for epoch in range(epochs):\n",
        "        indices=np.arange(num_samples)\n",
        "        np.random.shuffle(indices)  # Shuffle data for stochastic updates\n",
        "        grad_accu={key:np.zeros_like(value)for key,value in wts.items()}\n",
        "        num_processed=0\n",
        "\n",
        "        for i in range(num_samples):\n",
        "            num_processed+=1\n",
        "            x=x_train[indices[i],:].reshape(-1,1)\n",
        "            y_actual=y_train[indices[i],:].reshape(-1,1)\n",
        "\n",
        "            # Compute gradients via backpropagation\n",
        "            grad=back_prop(x,y_actual,n_layers,wts,activation_func,inp_dim)\n",
        "\n",
        "            # Accumulate gradients\n",
        "            for j in range(1,n_layers+2):\n",
        "                grad_accu['W'+str(j)]+=grad['W'+str(j)]\n",
        "                grad_accu['b'+str(j)]+=grad['b'+str(j)]\n",
        "\n",
        "            # Update weights after processing a batch\n",
        "            if num_processed%batch_size==0:\n",
        "                for k in range(1,n_layers+2):\n",
        "                    # Compute first moment estimate (momentum)\n",
        "                    m['W'+str(k)]=beta1*m['W'+str(k)]+(1-beta1)*grad_accu['W'+str(k)]\n",
        "                    m['b'+str(k)]=beta1*m['b'+str(k)]+(1-beta1)*grad_accu['b'+str(k)]\n",
        "\n",
        "                    # Compute second moment estimate (RMSprop)\n",
        "                    v['W'+str(k)]=beta2*v['W'+str(k)]+(1-beta2)*(grad_accu['W'+str(k)]**2)\n",
        "                    v['b'+str(k)]=beta2*v['b'+str(k)]+(1-beta2)*(grad_accu['b'+str(k)]**2)\n",
        "\n",
        "                    # Bias correction for moments\n",
        "                    m_w_hat=m['W'+str(k)]/(1-beta1**(epoch+1))\n",
        "                    m_b_hat=m['b'+str(k)]/(1-beta1**(epoch+1))\n",
        "                    v_w_hat=v['W'+str(k)]/(1-beta2**(epoch+1))\n",
        "                    v_b_hat=v['b'+str(k)]/(1-beta2**(epoch+1))\n",
        "\n",
        "                    # Update weights using NAdam optimizer formula\n",
        "                    wts['W'+str(k)]-=lr/np.sqrt(v_w_hat+eps)*(beta1*m_w_hat+(1-beta1)*grad_accu['W'+str(k)]/(1-beta1**(epoch+1)))\n",
        "                    wts['b'+str(k)]-=lr/np.sqrt(v_b_hat+eps)*(beta1*m_b_hat+(1-beta1)*grad_accu['b'+str(k)]/(1-beta1**(epoch+1)))\n",
        "\n",
        "                # Reset accumulated gradients after batch update\n",
        "                grad_accu={key:np.zeros_like(value)for key,value in wts.items()}\n",
        "\n",
        "        # Calculate training accuracy\n",
        "        acc=calc_acc(x_train,y_train,wts,n_layers,activation_func,inp_dim)\n",
        "\n",
        "        # Forward propagation for loss calculation\n",
        "        acts,out,y_pred=forw_prop(x_train.T,wts,n_layers,activation_func,inp_dim)\n",
        "        loss=-np.mean(np.sum(y_train.T*np.log(y_pred),axis=0))\n",
        "        losses.append(loss)\n",
        "\n",
        "        # Calculate validation accuracy\n",
        "        val_acc=calc_acc(x_valid,y_valid,wts,n_layers,activation_func,inp_dim)\n",
        "\n",
        "        # Print epoch details\n",
        "        print(f\"Epoch {epoch+1}, Loss: {loss:.4f}, Training Accuracy: {acc*100:.2f}%, Validation Accuracy: {val_acc*100:.2f}%\")\n",
        "\n",
        "        # Log metrics for visualization\n",
        "        wandb.log({'train_loss':loss,'train_accuracy':acc*100,'Val_accuracy':val_acc*100,'epoch':epoch})\n",
        "\n",
        "    # Plot loss curve over epochs\n",
        "    plt.plot(losses)\n",
        "    plt.xlabel('Epoch')\n",
        "    plt.ylabel('Loss')\n",
        "    plt.title('Training Loss over Epochs')\n",
        "    plt.show()\n",
        "\n",
        "    return wts\n"
      ],
      "metadata": {
        "id": "jFMfb6hyrmJg"
      },
      "execution_count": 12,
      "outputs": []
    },
    {
      "cell_type": "markdown",
      "source": [],
      "metadata": {
        "id": "jLgOByvFnYn_"
      }
    },
    {
      "cell_type": "code",
      "source": [],
      "metadata": {
        "id": "_HvXMdnhvOgl"
      },
      "execution_count": 12,
      "outputs": []
    }
  ]
}