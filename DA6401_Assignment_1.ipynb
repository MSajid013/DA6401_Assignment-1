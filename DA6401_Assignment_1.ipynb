{
  "nbformat": 4,
  "nbformat_minor": 0,
  "metadata": {
    "colab": {
      "provenance": []
    },
    "kernelspec": {
      "name": "python3",
      "display_name": "Python 3"
    },
    "language_info": {
      "name": "python"
    }
  },
  "cells": [
    {
      "cell_type": "code",
      "source": [
        "!pip install wandb"
      ],
      "metadata": {
        "colab": {
          "base_uri": "https://localhost:8080/"
        },
        "id": "3TYJdY2YSVO_",
        "outputId": "b98110df-fd58-4fb2-fbce-9959cc00724b"
      },
      "execution_count": 1,
      "outputs": [
        {
          "output_type": "stream",
          "name": "stdout",
          "text": [
            "Requirement already satisfied: wandb in /usr/local/lib/python3.11/dist-packages (0.19.7)\n",
            "Requirement already satisfied: click!=8.0.0,>=7.1 in /usr/local/lib/python3.11/dist-packages (from wandb) (8.1.8)\n",
            "Requirement already satisfied: docker-pycreds>=0.4.0 in /usr/local/lib/python3.11/dist-packages (from wandb) (0.4.0)\n",
            "Requirement already satisfied: gitpython!=3.1.29,>=1.0.0 in /usr/local/lib/python3.11/dist-packages (from wandb) (3.1.44)\n",
            "Requirement already satisfied: platformdirs in /usr/local/lib/python3.11/dist-packages (from wandb) (4.3.6)\n",
            "Requirement already satisfied: protobuf!=4.21.0,!=5.28.0,<6,>=3.19.0 in /usr/local/lib/python3.11/dist-packages (from wandb) (4.25.6)\n",
            "Requirement already satisfied: psutil>=5.0.0 in /usr/local/lib/python3.11/dist-packages (from wandb) (5.9.5)\n",
            "Requirement already satisfied: pydantic<3,>=2.6 in /usr/local/lib/python3.11/dist-packages (from wandb) (2.10.6)\n",
            "Requirement already satisfied: pyyaml in /usr/local/lib/python3.11/dist-packages (from wandb) (6.0.2)\n",
            "Requirement already satisfied: requests<3,>=2.0.0 in /usr/local/lib/python3.11/dist-packages (from wandb) (2.32.3)\n",
            "Requirement already satisfied: sentry-sdk>=2.0.0 in /usr/local/lib/python3.11/dist-packages (from wandb) (2.22.0)\n",
            "Requirement already satisfied: setproctitle in /usr/local/lib/python3.11/dist-packages (from wandb) (1.3.5)\n",
            "Requirement already satisfied: setuptools in /usr/local/lib/python3.11/dist-packages (from wandb) (75.1.0)\n",
            "Requirement already satisfied: typing-extensions<5,>=4.4 in /usr/local/lib/python3.11/dist-packages (from wandb) (4.12.2)\n",
            "Requirement already satisfied: six>=1.4.0 in /usr/local/lib/python3.11/dist-packages (from docker-pycreds>=0.4.0->wandb) (1.17.0)\n",
            "Requirement already satisfied: gitdb<5,>=4.0.1 in /usr/local/lib/python3.11/dist-packages (from gitpython!=3.1.29,>=1.0.0->wandb) (4.0.12)\n",
            "Requirement already satisfied: annotated-types>=0.6.0 in /usr/local/lib/python3.11/dist-packages (from pydantic<3,>=2.6->wandb) (0.7.0)\n",
            "Requirement already satisfied: pydantic-core==2.27.2 in /usr/local/lib/python3.11/dist-packages (from pydantic<3,>=2.6->wandb) (2.27.2)\n",
            "Requirement already satisfied: charset-normalizer<4,>=2 in /usr/local/lib/python3.11/dist-packages (from requests<3,>=2.0.0->wandb) (3.4.1)\n",
            "Requirement already satisfied: idna<4,>=2.5 in /usr/local/lib/python3.11/dist-packages (from requests<3,>=2.0.0->wandb) (3.10)\n",
            "Requirement already satisfied: urllib3<3,>=1.21.1 in /usr/local/lib/python3.11/dist-packages (from requests<3,>=2.0.0->wandb) (2.3.0)\n",
            "Requirement already satisfied: certifi>=2017.4.17 in /usr/local/lib/python3.11/dist-packages (from requests<3,>=2.0.0->wandb) (2025.1.31)\n",
            "Requirement already satisfied: smmap<6,>=3.0.1 in /usr/local/lib/python3.11/dist-packages (from gitdb<5,>=4.0.1->gitpython!=3.1.29,>=1.0.0->wandb) (5.0.2)\n"
          ]
        }
      ]
    },
    {
      "cell_type": "code",
      "source": [
        "import wandb\n",
        "wandb.login()"
      ],
      "metadata": {
        "colab": {
          "base_uri": "https://localhost:8080/",
          "height": 208
        },
        "id": "nxXm3OwGIO8U",
        "outputId": "81fc1544-71bf-4c71-8e16-bac414dadaaf"
      },
      "execution_count": 2,
      "outputs": [
        {
          "output_type": "stream",
          "name": "stderr",
          "text": [
            "\u001b[34m\u001b[1mwandb\u001b[0m: Using wandb-core as the SDK backend.  Please refer to https://wandb.me/wandb-core for more information.\n"
          ]
        },
        {
          "output_type": "display_data",
          "data": {
            "text/plain": [
              "<IPython.core.display.Javascript object>"
            ],
            "application/javascript": [
              "\n",
              "        window._wandbApiKey = new Promise((resolve, reject) => {\n",
              "            function loadScript(url) {\n",
              "            return new Promise(function(resolve, reject) {\n",
              "                let newScript = document.createElement(\"script\");\n",
              "                newScript.onerror = reject;\n",
              "                newScript.onload = resolve;\n",
              "                document.body.appendChild(newScript);\n",
              "                newScript.src = url;\n",
              "            });\n",
              "            }\n",
              "            loadScript(\"https://cdn.jsdelivr.net/npm/postmate/build/postmate.min.js\").then(() => {\n",
              "            const iframe = document.createElement('iframe')\n",
              "            iframe.style.cssText = \"width:0;height:0;border:none\"\n",
              "            document.body.appendChild(iframe)\n",
              "            const handshake = new Postmate({\n",
              "                container: iframe,\n",
              "                url: 'https://wandb.ai/authorize'\n",
              "            });\n",
              "            const timeout = setTimeout(() => reject(\"Couldn't auto authenticate\"), 5000)\n",
              "            handshake.then(function(child) {\n",
              "                child.on('authorize', data => {\n",
              "                    clearTimeout(timeout)\n",
              "                    resolve(data)\n",
              "                });\n",
              "            });\n",
              "            })\n",
              "        });\n",
              "    "
            ]
          },
          "metadata": {}
        },
        {
          "output_type": "stream",
          "name": "stderr",
          "text": [
            "\u001b[34m\u001b[1mwandb\u001b[0m: Logging into wandb.ai. (Learn how to deploy a W&B server locally: https://wandb.me/wandb-server)\n",
            "\u001b[34m\u001b[1mwandb\u001b[0m: You can find your API key in your browser here: https://wandb.ai/authorize\n",
            "wandb: Paste an API key from your profile and hit enter:"
          ]
        },
        {
          "name": "stdout",
          "output_type": "stream",
          "text": [
            " ··········\n"
          ]
        },
        {
          "output_type": "stream",
          "name": "stderr",
          "text": [
            "\u001b[34m\u001b[1mwandb\u001b[0m: \u001b[33mWARNING\u001b[0m If you're specifying your api key in code, ensure this code is not shared publicly.\n",
            "\u001b[34m\u001b[1mwandb\u001b[0m: \u001b[33mWARNING\u001b[0m Consider setting the WANDB_API_KEY environment variable, or running `wandb login` from the command line.\n",
            "\u001b[34m\u001b[1mwandb\u001b[0m: No netrc file found, creating one.\n",
            "\u001b[34m\u001b[1mwandb\u001b[0m: Appending key for api.wandb.ai to your netrc file: /root/.netrc\n",
            "\u001b[34m\u001b[1mwandb\u001b[0m: Currently logged in as: \u001b[33mma23m013\u001b[0m (\u001b[33mma23m013-iit-madras\u001b[0m) to \u001b[32mhttps://api.wandb.ai\u001b[0m. Use \u001b[1m`wandb login --relogin`\u001b[0m to force relogin\n"
          ]
        },
        {
          "output_type": "execute_result",
          "data": {
            "text/plain": [
              "True"
            ]
          },
          "metadata": {},
          "execution_count": 2
        }
      ]
    },
    {
      "cell_type": "markdown",
      "source": [
        "## Question-1"
      ],
      "metadata": {
        "id": "PpB8iMFDh9tC"
      }
    },
    {
      "cell_type": "code",
      "source": [
        "import numpy as np\n",
        "import pandas as pd\n",
        "import matplotlib.pyplot as plt\n",
        "from keras.datasets import fashion_mnist\n"
      ],
      "metadata": {
        "id": "cIcsuDPEPXYa"
      },
      "execution_count": 3,
      "outputs": []
    },
    {
      "cell_type": "code",
      "source": [
        "# Initialize WandB project\n",
        "wandb.init(project='DA6401_Assignment-1')\n",
        "\n",
        "# Load Fashion-MNIST dataset (train and test sets)\n",
        "(train_img, train_lbl), (test_img, test_lbl) = fashion_mnist.load_data()\n",
        "\n",
        "# Define class names for labels\n",
        "class_names = ['Top/Tshirt', 'Pullover', 'Trouser', 'Shirt', 'Coat', 'Dress', 'Sandal', 'Sneaker', 'Ankle-boot', 'Bag']\n",
        "\n",
        "# Select one sample image for each class\n",
        "samples = {}\n",
        "for i in range(100):  # Loop through first 36 images\n",
        "  lbl = train_lbl[i]  # Get label of current image\n",
        "  if lbl not in samples:  # If label is not already added, add it\n",
        "    samples[lbl] = train_img[i]\n",
        "  if len(samples) == 10:  # Stop when all 10 classes have at least one image\n",
        "    break\n",
        "\n",
        "# Convert dictionary to lists for easy indexing\n",
        "sample_lbl = list(samples.keys())\n",
        "sample_img = list(samples.values())\n",
        "\n",
        "# Function to plot 7 random sample images\n",
        "def plot_sample(step):\n",
        "  fig, axes = plt.subplots(1, 7, figsize=(14, 5))  # Create figure with 7 subplots\n",
        "  chosen_indices = np.random.choice(len(sample_img), 7, replace=True)  # Randomly select 7 images\n",
        "\n",
        "  for ax, idx in zip(axes.flatten(), chosen_indices):\n",
        "    ax.imshow(sample_img[idx], cmap='gray')  # Display image\n",
        "    ax.set_title(class_names[sample_lbl[idx]])  # Set title with class name\n",
        "    ax.axis('off')  # Remove axis for cleaner view\n",
        "\n",
        "  plt.tight_layout()\n",
        "  plt.show()\n",
        "  return fig\n",
        "\n",
        "# Log images to WandB for visualization\n",
        "wandb.log({\"Examples\": [wandb.Image(plot_sample(0), caption=\"Step 0\"),\n",
        "    wandb.Image(plot_sample(1), caption=\"Step 1\"), wandb.Image(plot_sample(2), caption=\"Step 2\")]})\n",
        "\n",
        "# Finish WandB run\n",
        "wandb.finish()\n"
      ],
      "metadata": {
        "colab": {
          "base_uri": "https://localhost:8080/",
          "height": 987
        },
        "id": "PGnnaEUd4s7y",
        "outputId": "b0bae488-b2d6-4066-8cc7-536053ca94e7"
      },
      "execution_count": null,
      "outputs": [
        {
          "output_type": "display_data",
          "data": {
            "text/plain": [
              "<IPython.core.display.HTML object>"
            ],
            "text/html": [
              "Tracking run with wandb version 0.19.7"
            ]
          },
          "metadata": {}
        },
        {
          "output_type": "display_data",
          "data": {
            "text/plain": [
              "<IPython.core.display.HTML object>"
            ],
            "text/html": [
              "Run data is saved locally in <code>/content/wandb/run-20250228_164256-ghjjohpc</code>"
            ]
          },
          "metadata": {}
        },
        {
          "output_type": "display_data",
          "data": {
            "text/plain": [
              "<IPython.core.display.HTML object>"
            ],
            "text/html": [
              "Syncing run <strong><a href='https://wandb.ai/ma23m013-iit-madras/DA6401_Assignment-1/runs/ghjjohpc' target=\"_blank\">brisk-valley-14</a></strong> to <a href='https://wandb.ai/ma23m013-iit-madras/DA6401_Assignment-1' target=\"_blank\">Weights & Biases</a> (<a href='https://wandb.me/developer-guide' target=\"_blank\">docs</a>)<br>"
            ]
          },
          "metadata": {}
        },
        {
          "output_type": "display_data",
          "data": {
            "text/plain": [
              "<IPython.core.display.HTML object>"
            ],
            "text/html": [
              " View project at <a href='https://wandb.ai/ma23m013-iit-madras/DA6401_Assignment-1' target=\"_blank\">https://wandb.ai/ma23m013-iit-madras/DA6401_Assignment-1</a>"
            ]
          },
          "metadata": {}
        },
        {
          "output_type": "display_data",
          "data": {
            "text/plain": [
              "<IPython.core.display.HTML object>"
            ],
            "text/html": [
              " View run at <a href='https://wandb.ai/ma23m013-iit-madras/DA6401_Assignment-1/runs/ghjjohpc' target=\"_blank\">https://wandb.ai/ma23m013-iit-madras/DA6401_Assignment-1/runs/ghjjohpc</a>"
            ]
          },
          "metadata": {}
        },
        {
          "output_type": "stream",
          "name": "stdout",
          "text": [
            "Downloading data from https://storage.googleapis.com/tensorflow/tf-keras-datasets/train-labels-idx1-ubyte.gz\n",
            "\u001b[1m29515/29515\u001b[0m \u001b[32m━━━━━━━━━━━━━━━━━━━━\u001b[0m\u001b[37m\u001b[0m \u001b[1m0s\u001b[0m 0us/step\n",
            "Downloading data from https://storage.googleapis.com/tensorflow/tf-keras-datasets/train-images-idx3-ubyte.gz\n",
            "\u001b[1m26421880/26421880\u001b[0m \u001b[32m━━━━━━━━━━━━━━━━━━━━\u001b[0m\u001b[37m\u001b[0m \u001b[1m0s\u001b[0m 0us/step\n",
            "Downloading data from https://storage.googleapis.com/tensorflow/tf-keras-datasets/t10k-labels-idx1-ubyte.gz\n",
            "\u001b[1m5148/5148\u001b[0m \u001b[32m━━━━━━━━━━━━━━━━━━━━\u001b[0m\u001b[37m\u001b[0m \u001b[1m0s\u001b[0m 0us/step\n",
            "Downloading data from https://storage.googleapis.com/tensorflow/tf-keras-datasets/t10k-images-idx3-ubyte.gz\n",
            "\u001b[1m4422102/4422102\u001b[0m \u001b[32m━━━━━━━━━━━━━━━━━━━━\u001b[0m\u001b[37m\u001b[0m \u001b[1m0s\u001b[0m 0us/step\n"
          ]
        },
        {
          "output_type": "display_data",
          "data": {
            "text/plain": [
              "<Figure size 1400x500 with 7 Axes>"
            ],
            "image/png": "[encoded data removed]"
          },
          "metadata": {}
        },
        {
          "output_type": "display_data",
          "data": {
            "text/plain": [
              "<Figure size 1400x500 with 7 Axes>"
            ],
            "image/png": "[encoded data removed]"
          },
          "metadata": {}
        },
        {
          "output_type": "display_data",
          "data": {
            "text/plain": [
              "<Figure size 1400x500 with 7 Axes>"
            ],
            "image/png": "[encoded data removed]"
          },
          "metadata": {}
        },
        {
          "output_type": "display_data",
          "data": {
            "text/plain": [
              "<IPython.core.display.HTML object>"
            ],
            "text/html": []
          },
          "metadata": {}
        },
        {
          "output_type": "display_data",
          "data": {
            "text/plain": [
              "<IPython.core.display.HTML object>"
            ],
            "text/html": [
              " View run <strong style=\"color:#cdcd00\">brisk-valley-14</strong> at: <a href='https://wandb.ai/ma23m013-iit-madras/DA6401_Assignment-1/runs/ghjjohpc' target=\"_blank\">https://wandb.ai/ma23m013-iit-madras/DA6401_Assignment-1/runs/ghjjohpc</a><br> View project at: <a href='https://wandb.ai/ma23m013-iit-madras/DA6401_Assignment-1' target=\"_blank\">https://wandb.ai/ma23m013-iit-madras/DA6401_Assignment-1</a><br>Synced 5 W&B file(s), 3 media file(s), 0 artifact file(s) and 0 other file(s)"
            ]
          },
          "metadata": {}
        },
        {
          "output_type": "display_data",
          "data": {
            "text/plain": [
              "<IPython.core.display.HTML object>"
            ],
            "text/html": [
              "Find logs at: <code>./wandb/run-20250228_164256-ghjjohpc/logs</code>"
            ]
          },
          "metadata": {}
        }
      ]
    },
    {
      "cell_type": "markdown",
      "source": [
        "## Question-2"
      ],
      "metadata": {
        "id": "EwxSLCyuiCpm"
      }
    },
    {
      "cell_type": "code",
      "source": [
        "# Activation function (Sigmoid)\n",
        "def act(x):\n",
        "  return 1/(1+np.exp(-x))  # Converts input into a range between 0 and 1\n",
        "\n",
        "# Derivative of Sigmoid, used in backpropagation to compute gradients\n",
        "def act_der(x):\n",
        "  return act(x)*(1-act(x))\n",
        "\n",
        "# Softmax function, converts output layer activations into probabilities\n",
        "def soft_func(x):\n",
        "  x = x-np.max(x) # Normalize values to prevent overflow\n",
        "  return np.exp(x)/np.sum(np.exp(x), axis=0)\n",
        "\n",
        "# Initialize neural network weights and biases\n",
        "def init_net(n_layers, nodes, init_m, inp_dim, out_dim):\n",
        "  size = [inp_dim]+nodes+[out_dim]  # Define the structure of the network\n",
        "  wts = {}  # Dictionary to store weights and biases\n",
        "\n",
        "  if init_m == 'rand': # Random weight initialization\n",
        "    for i in range(1, n_layers+2):\n",
        "      wts['W'+str(i)] = np.random.randn(size[i],size[i-1])\n",
        "      wts['b'+str(i)] = np.random.randn(size[i],1)\n",
        "  elif init_m == 'xav': # Xavier initialization for better weight scaling\n",
        "    for i in range(1, n_layers+2):\n",
        "      wts['W'+str(i)] = np.random.randn(size[i],size[i-1])*(np.sqrt(2/size[i-1]))\n",
        "      wts['b'+str(i)] = np.random.randn(size[i],1)*(np.sqrt(2/size[i-1]))\n",
        "\n",
        "  return wts\n",
        "\n",
        "# Forward propagation - calculates activations layer by layer\n",
        "def forw_prop(inp,wts, n_layers, inp_dim):\n",
        "  acts = {} # Store activation values\n",
        "  acts['a0'] = np.zeros(inp_dim,1) # Initialize first activation\n",
        "  out = {'h0':inp} # Store input layer values\n",
        "\n",
        "  for i in range(1,n_layers+1): # Iterate through hidden layers\n",
        "    acts['a'+str(i)]= np.dot(wts['W'+str(i)], out['h'+str(i-1)]) + wts['b'+str(i)]\n",
        "    out['h'+str(i)]= act(acts['a'+str(i)]) # Apply activation function\n",
        "  # Output layer processing\n",
        "  acts['a'+str(n_layers+1)]= np.dot(wts['W'+str(n_layers+1)], out['h'+str(n_layers)]) + wts['b'+str(n_layers+1)]\n",
        "  pred = soft_func(acts['a'+str(n_layers+1)]) # Apply softmax for probabilities\n",
        "\n",
        "  return acts, out, pred\n",
        "\n",
        "# Backpropagation - calculates gradients for weight updates\n",
        "def back_prop(inp, true_lbl, n_layers, wts, inp_dim):\n",
        "  m = inp.shape[0] # Number of examples\n",
        "  acts, out, pred = forw_prop(inp, wts, n_layers, inp_dim)\n",
        "  grad = {} # Store gradients\n",
        "  err = {} # Store error terms\n",
        "  err['a'+str(n_layers+1)] = -1*(true_lbl.T-pred) # Compute error for output layer\n",
        "\n",
        "  for i in range(n_layers+1,0,-1): # Iterate backwards through layers\n",
        "    grad['W'+str(i)]= (1/m)*np.dot(err['a'+str(i)], out['h'+str(i-1)].T) # Compute weight gradient\n",
        "    grad['b'+str(i)]= (1/m)*np.mean(err['a'+str(i)], axis=1, keepdims=True) # Compute bias gradient\n",
        "    err['h'+str(i-1)]= np.dot(wts['W'+str(i)].T, err['a'+str(i)]) # Propagate error backward\n",
        "    err['a'+str(i-1)]= err['h'+str(i-1)]*act_der(acts['a'+str(i-1)]) # Apply derivative of activation\n",
        "  return grad\n",
        "\n",
        "# Gradient Descent with loss tracking\n",
        "def upd_wts(lr, wts, inp, true_lbl, n_layers, inp_dim):\n",
        "  losses= []  # Store losses for each epoch\n",
        "  for e in range(100): # Train for 100 epochs\n",
        "    grad = back_prop(inp, true_lbl, n_layers, wts, inp_dim)\n",
        "    for i in range (1, n_layers+2):\n",
        "      wts['W'+str(i)] -= lr*grad['W'+str(i)] # Update weights\n",
        "      wts['b'+str(i)] -= lr*grad['b'+str(i)] # Update biases\n",
        "\n",
        "    # Compute loss for this epoch\n",
        "    acts, out, pred = forw_prop(inp, wts, n_layers, inp_dim)\n",
        "    loss = -np.mean(np.sum(true_lbl.T*np.log(pred),axis=0))\n",
        "    losses.append(loss)\n",
        "    print(f'Epoch {e+1}, Loss: {loss}')\n",
        "\n",
        "  # Plot the loss function over epochs\n",
        "  plt.plot(losses)\n",
        "  plt.xlabel('Epoch')\n",
        "  plt.ylabel('Loss')\n",
        "  plt.title('Training Loss over Epochs')\n",
        "  plt.show()\n",
        "\n",
        "  return wts,losses\n",
        "\n",
        "# Compute accuracy of the model\n",
        "def calc_acc(test_inp, test_lbl, wts, n_layers, inp_dim):\n",
        "  acts, out, pred = forw_prop(test_inp, wts, n_layers, inp_dim)\n",
        "  assert test_lbl.shape == pred.shape # Ensure shapes match\n",
        "  test_lbl = np.argmax(test_lbl, axis=0) # Convert one-hot labels to index\n",
        "  pred = np.argmax(pred, axis=0) # Get predicted class\n",
        "  correct = np.sum(test_lbl==pred) # Count correct predictions\n",
        "  acc = correct/test_lbl.shape[0] # Compute accuracy\n",
        "\n",
        "  return acc"
      ],
      "metadata": {
        "id": "qjxP-xYiPMRL"
      },
      "execution_count": 8,
      "outputs": []
    },
    {
      "cell_type": "code",
      "source": [],
      "metadata": {
        "id": "2jV6-Axej9I9"
      },
      "execution_count": null,
      "outputs": []
    }
  ]
}