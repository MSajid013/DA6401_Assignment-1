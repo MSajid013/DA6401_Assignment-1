{
  "cells": [
    {
      "cell_type": "code",
      "execution_count": null,
      "metadata": {
        "colab": {
          "base_uri": "https://localhost:8080/"
        },
        "id": "3TYJdY2YSVO_",
        "outputId": "dff19820-5bb4-465e-8154-1392a8eb74b2"
      },
      "outputs": [
        {
          "name": "stdout",
          "output_type": "stream",
          "text": [
            "Requirement already satisfied: wandb in /usr/local/lib/python3.11/dist-packages (0.19.7)\n",
            "Requirement already satisfied: click!=8.0.0,>=7.1 in /usr/local/lib/python3.11/dist-packages (from wandb) (8.1.8)\n",
            "Requirement already satisfied: docker-pycreds>=0.4.0 in /usr/local/lib/python3.11/dist-packages (from wandb) (0.4.0)\n",
            "Requirement already satisfied: gitpython!=3.1.29,>=1.0.0 in /usr/local/lib/python3.11/dist-packages (from wandb) (3.1.44)\n",
            "Requirement already satisfied: platformdirs in /usr/local/lib/python3.11/dist-packages (from wandb) (4.3.6)\n",
            "Requirement already satisfied: protobuf!=4.21.0,!=5.28.0,<6,>=3.19.0 in /usr/local/lib/python3.11/dist-packages (from wandb) (4.25.6)\n",
            "Requirement already satisfied: psutil>=5.0.0 in /usr/local/lib/python3.11/dist-packages (from wandb) (5.9.5)\n",
            "Requirement already satisfied: pydantic<3,>=2.6 in /usr/local/lib/python3.11/dist-packages (from wandb) (2.10.6)\n",
            "Requirement already satisfied: pyyaml in /usr/local/lib/python3.11/dist-packages (from wandb) (6.0.2)\n",
            "Requirement already satisfied: requests<3,>=2.0.0 in /usr/local/lib/python3.11/dist-packages (from wandb) (2.32.3)\n",
            "Requirement already satisfied: sentry-sdk>=2.0.0 in /usr/local/lib/python3.11/dist-packages (from wandb) (2.22.0)\n",
            "Requirement already satisfied: setproctitle in /usr/local/lib/python3.11/dist-packages (from wandb) (1.3.5)\n",
            "Requirement already satisfied: setuptools in /usr/local/lib/python3.11/dist-packages (from wandb) (75.1.0)\n",
            "Requirement already satisfied: typing-extensions<5,>=4.4 in /usr/local/lib/python3.11/dist-packages (from wandb) (4.12.2)\n",
            "Requirement already satisfied: six>=1.4.0 in /usr/local/lib/python3.11/dist-packages (from docker-pycreds>=0.4.0->wandb) (1.17.0)\n",
            "Requirement already satisfied: gitdb<5,>=4.0.1 in /usr/local/lib/python3.11/dist-packages (from gitpython!=3.1.29,>=1.0.0->wandb) (4.0.12)\n",
            "Requirement already satisfied: annotated-types>=0.6.0 in /usr/local/lib/python3.11/dist-packages (from pydantic<3,>=2.6->wandb) (0.7.0)\n",
            "Requirement already satisfied: pydantic-core==2.27.2 in /usr/local/lib/python3.11/dist-packages (from pydantic<3,>=2.6->wandb) (2.27.2)\n",
            "Requirement already satisfied: charset-normalizer<4,>=2 in /usr/local/lib/python3.11/dist-packages (from requests<3,>=2.0.0->wandb) (3.4.1)\n",
            "Requirement already satisfied: idna<4,>=2.5 in /usr/local/lib/python3.11/dist-packages (from requests<3,>=2.0.0->wandb) (3.10)\n",
            "Requirement already satisfied: urllib3<3,>=1.21.1 in /usr/local/lib/python3.11/dist-packages (from requests<3,>=2.0.0->wandb) (2.3.0)\n",
            "Requirement already satisfied: certifi>=2017.4.17 in /usr/local/lib/python3.11/dist-packages (from requests<3,>=2.0.0->wandb) (2025.1.31)\n",
            "Requirement already satisfied: smmap<6,>=3.0.1 in /usr/local/lib/python3.11/dist-packages (from gitdb<5,>=4.0.1->gitpython!=3.1.29,>=1.0.0->wandb) (5.0.2)\n"
          ]
        }
      ],
      "source": [
        "!pip install wandb"
      ]
    },
    {
      "cell_type": "code",
      "execution_count": 1,
      "metadata": {
        "colab": {
          "base_uri": "https://localhost:8080/",
          "height": 208
        },
        "id": "nxXm3OwGIO8U",
        "outputId": "82fd2a7c-15e8-4908-d06f-747507668494"
      },
      "outputs": [
        {
          "output_type": "stream",
          "name": "stderr",
          "text": [
            "\u001b[34m\u001b[1mwandb\u001b[0m: Using wandb-core as the SDK backend.  Please refer to https://wandb.me/wandb-core for more information.\n"
          ]
        },
        {
          "output_type": "display_data",
          "data": {
            "text/plain": [
              "<IPython.core.display.Javascript object>"
            ],
            "application/javascript": [
              "\n",
              "        window._wandbApiKey = new Promise((resolve, reject) => {\n",
              "            function loadScript(url) {\n",
              "            return new Promise(function(resolve, reject) {\n",
              "                let newScript = document.createElement(\"script\");\n",
              "                newScript.onerror = reject;\n",
              "                newScript.onload = resolve;\n",
              "                document.body.appendChild(newScript);\n",
              "                newScript.src = url;\n",
              "            });\n",
              "            }\n",
              "            loadScript(\"https://cdn.jsdelivr.net/npm/postmate/build/postmate.min.js\").then(() => {\n",
              "            const iframe = document.createElement('iframe')\n",
              "            iframe.style.cssText = \"width:0;height:0;border:none\"\n",
              "            document.body.appendChild(iframe)\n",
              "            const handshake = new Postmate({\n",
              "                container: iframe,\n",
              "                url: 'https://wandb.ai/authorize'\n",
              "            });\n",
              "            const timeout = setTimeout(() => reject(\"Couldn't auto authenticate\"), 5000)\n",
              "            handshake.then(function(child) {\n",
              "                child.on('authorize', data => {\n",
              "                    clearTimeout(timeout)\n",
              "                    resolve(data)\n",
              "                });\n",
              "            });\n",
              "            })\n",
              "        });\n",
              "    "
            ]
          },
          "metadata": {}
        },
        {
          "output_type": "stream",
          "name": "stderr",
          "text": [
            "\u001b[34m\u001b[1mwandb\u001b[0m: Logging into wandb.ai. (Learn how to deploy a W&B server locally: https://wandb.me/wandb-server)\n",
            "\u001b[34m\u001b[1mwandb\u001b[0m: You can find your API key in your browser here: https://wandb.ai/authorize\n",
            "wandb: Paste an API key from your profile and hit enter:"
          ]
        },
        {
          "name": "stdout",
          "output_type": "stream",
          "text": [
            " ··········\n"
          ]
        },
        {
          "output_type": "stream",
          "name": "stderr",
          "text": [
            "\u001b[34m\u001b[1mwandb\u001b[0m: \u001b[33mWARNING\u001b[0m If you're specifying your api key in code, ensure this code is not shared publicly.\n",
            "\u001b[34m\u001b[1mwandb\u001b[0m: \u001b[33mWARNING\u001b[0m Consider setting the WANDB_API_KEY environment variable, or running `wandb login` from the command line.\n",
            "\u001b[34m\u001b[1mwandb\u001b[0m: No netrc file found, creating one.\n",
            "\u001b[34m\u001b[1mwandb\u001b[0m: Appending key for api.wandb.ai to your netrc file: /root/.netrc\n",
            "\u001b[34m\u001b[1mwandb\u001b[0m: Currently logged in as: \u001b[33mma23m013\u001b[0m (\u001b[33mma23m013-iit-madras\u001b[0m) to \u001b[32mhttps://api.wandb.ai\u001b[0m. Use \u001b[1m`wandb login --relogin`\u001b[0m to force relogin\n"
          ]
        },
        {
          "output_type": "execute_result",
          "data": {
            "text/plain": [
              "True"
            ]
          },
          "metadata": {},
          "execution_count": 1
        }
      ],
      "source": [
        "import wandb\n",
        "wandb.login()"
      ]
    },
    {
      "cell_type": "markdown",
      "metadata": {
        "id": "PpB8iMFDh9tC"
      },
      "source": [
        "## Question-1"
      ]
    },
    {
      "cell_type": "code",
      "execution_count": 2,
      "metadata": {
        "id": "cIcsuDPEPXYa"
      },
      "outputs": [],
      "source": [
        "import numpy as np\n",
        "import pandas as pd\n",
        "import matplotlib.pyplot as plt\n",
        "\n",
        "from keras.datasets import fashion_mnist\n",
        "from sklearn.model_selection import train_test_split\n"
      ]
    },
    {
      "cell_type": "code",
      "execution_count": null,
      "metadata": {
        "colab": {
          "base_uri": "https://localhost:8080/",
          "height": 987
        },
        "id": "PGnnaEUd4s7y",
        "outputId": "88122499-d36d-49a2-f60f-af54164b8387"
      },
      "outputs": [
        {
          "data": {
            "text/html": [
              "Tracking run with wandb version 0.19.7"
            ],
            "text/plain": [
              "<IPython.core.display.HTML object>"
            ]
          },
          "metadata": {},
          "output_type": "display_data"
        },
        {
          "data": {
            "text/html": [
              "Run data is saved locally in <code>/content/wandb/run-20250308_165034-wied9zjf</code>"
            ],
            "text/plain": [
              "<IPython.core.display.HTML object>"
            ]
          },
          "metadata": {},
          "output_type": "display_data"
        },
        {
          "data": {
            "text/html": [
              "Syncing run <strong><a href='https://wandb.ai/ma23m013-iit-madras/DA6401_Assignment-1/runs/wied9zjf' target=\"_blank\">worthy-capybara-16</a></strong> to <a href='https://wandb.ai/ma23m013-iit-madras/DA6401_Assignment-1' target=\"_blank\">Weights & Biases</a> (<a href='https://wandb.me/developer-guide' target=\"_blank\">docs</a>)<br>"
            ],
            "text/plain": [
              "<IPython.core.display.HTML object>"
            ]
          },
          "metadata": {},
          "output_type": "display_data"
        },
        {
          "data": {
            "text/html": [
              " View project at <a href='https://wandb.ai/ma23m013-iit-madras/DA6401_Assignment-1' target=\"_blank\">https://wandb.ai/ma23m013-iit-madras/DA6401_Assignment-1</a>"
            ],
            "text/plain": [
              "<IPython.core.display.HTML object>"
            ]
          },
          "metadata": {},
          "output_type": "display_data"
        },
        {
          "data": {
            "text/html": [
              " View run at <a href='https://wandb.ai/ma23m013-iit-madras/DA6401_Assignment-1/runs/wied9zjf' target=\"_blank\">https://wandb.ai/ma23m013-iit-madras/DA6401_Assignment-1/runs/wied9zjf</a>"
            ],
            "text/plain": [
              "<IPython.core.display.HTML object>"
            ]
          },
          "metadata": {},
          "output_type": "display_data"
        },
        {
          "name": "stdout",
          "output_type": "stream",
          "text": [
            "Downloading data from https://storage.googleapis.com/tensorflow/tf-keras-datasets/train-labels-idx1-ubyte.gz\n",
            "\u001b[1m29515/29515\u001b[0m \u001b[32m━━━━━━━━━━━━━━━━━━━━\u001b[0m\u001b[37m\u001b[0m \u001b[1m0s\u001b[0m 0us/step\n",
            "Downloading data from https://storage.googleapis.com/tensorflow/tf-keras-datasets/train-images-idx3-ubyte.gz\n",
            "\u001b[1m26421880/26421880\u001b[0m \u001b[32m━━━━━━━━━━━━━━━━━━━━\u001b[0m\u001b[37m\u001b[0m \u001b[1m0s\u001b[0m 0us/step\n",
            "Downloading data from https://storage.googleapis.com/tensorflow/tf-keras-datasets/t10k-labels-idx1-ubyte.gz\n",
            "\u001b[1m5148/5148\u001b[0m \u001b[32m━━━━━━━━━━━━━━━━━━━━\u001b[0m\u001b[37m\u001b[0m \u001b[1m0s\u001b[0m 0us/step\n",
            "Downloading data from https://storage.googleapis.com/tensorflow/tf-keras-datasets/t10k-images-idx3-ubyte.gz\n",
            "\u001b[1m4422102/4422102\u001b[0m \u001b[32m━━━━━━━━━━━━━━━━━━━━\u001b[0m\u001b[37m\u001b[0m \u001b[1m0s\u001b[0m 0us/step\n"
          ]
        },
        {
          "data": {
            "image/png": "[encoded data removed]",
            "text/plain": [
              "<Figure size 1400x500 with 7 Axes>"
            ]
          },
          "metadata": {},
          "output_type": "display_data"
        },
        {
          "data": {
            "image/png": "[encoded data removed]",
            "text/plain": [
              "<Figure size 1400x500 with 7 Axes>"
            ]
          },
          "metadata": {},
          "output_type": "display_data"
        },
        {
          "data": {
            "image/png": "[encoded data removed]",
            "text/plain": [
              "<Figure size 1400x500 with 7 Axes>"
            ]
          },
          "metadata": {},
          "output_type": "display_data"
        },
        {
          "data": {
            "text/html": [],
            "text/plain": [
              "<IPython.core.display.HTML object>"
            ]
          },
          "metadata": {},
          "output_type": "display_data"
        },
        {
          "data": {
            "text/html": [
              " View run <strong style=\"color:#cdcd00\">worthy-capybara-16</strong> at: <a href='https://wandb.ai/ma23m013-iit-madras/DA6401_Assignment-1/runs/wied9zjf' target=\"_blank\">https://wandb.ai/ma23m013-iit-madras/DA6401_Assignment-1/runs/wied9zjf</a><br> View project at: <a href='https://wandb.ai/ma23m013-iit-madras/DA6401_Assignment-1' target=\"_blank\">https://wandb.ai/ma23m013-iit-madras/DA6401_Assignment-1</a><br>Synced 5 W&B file(s), 3 media file(s), 0 artifact file(s) and 0 other file(s)"
            ],
            "text/plain": [
              "<IPython.core.display.HTML object>"
            ]
          },
          "metadata": {},
          "output_type": "display_data"
        },
        {
          "data": {
            "text/html": [
              "Find logs at: <code>./wandb/run-20250308_165034-wied9zjf/logs</code>"
            ],
            "text/plain": [
              "<IPython.core.display.HTML object>"
            ]
          },
          "metadata": {},
          "output_type": "display_data"
        }
      ],
      "source": [
        "# Initialize WandB project\n",
        "wandb.init(project='DA6401_Assignment-1')\n",
        "\n",
        "# Load Fashion-MNIST dataset (train and test sets)\n",
        "(train_img, train_lbl), (test_img, test_lbl) = fashion_mnist.load_data()\n",
        "\n",
        "# Define class names for labels\n",
        "class_names = ['Top/Tshirt', 'Pullover', 'Trouser', 'Shirt', 'Coat', 'Dress', 'Sandal', 'Sneaker', 'Ankle-boot', 'Bag']\n",
        "\n",
        "# Select one sample image for each class\n",
        "samples = {}\n",
        "for i in range(100):  # Loop through first 36 images\n",
        "  lbl = train_lbl[i]  # Get label of current image\n",
        "  if lbl not in samples:  # If label is not already added, add it\n",
        "    samples[lbl] = train_img[i]\n",
        "  if len(samples) == 10:  # Stop when all 10 classes have at least one image\n",
        "    break\n",
        "\n",
        "# Convert dictionary to lists for easy indexing\n",
        "sample_lbl = list(samples.keys())\n",
        "sample_img = list(samples.values())\n",
        "\n",
        "# Function to plot 7 random sample images\n",
        "def plot_sample(step):\n",
        "  fig, axes = plt.subplots(1, 7, figsize=(14, 5))  # Create figure with 7 subplots\n",
        "  chosen_indices = np.random.choice(len(sample_img), 7, replace=True)  # Randomly select 7 images\n",
        "\n",
        "  for ax, idx in zip(axes.flatten(), chosen_indices):\n",
        "    ax.imshow(sample_img[idx], cmap='gray')  # Display image\n",
        "    ax.set_title(class_names[sample_lbl[idx]])  # Set title with class name\n",
        "    ax.axis('off')  # Remove axis for cleaner view\n",
        "\n",
        "  plt.tight_layout()\n",
        "  plt.show()\n",
        "  return fig\n",
        "\n",
        "# Log images to WandB for visualization\n",
        "wandb.log({\"Examples\": [wandb.Image(plot_sample(0), caption=\"Step 0\"),\n",
        "    wandb.Image(plot_sample(1), caption=\"Step 1\"), wandb.Image(plot_sample(2), caption=\"Step 2\")]})\n",
        "\n",
        "# Finish WandB run\n",
        "wandb.finish()\n"
      ]
    },
    {
      "cell_type": "markdown",
      "metadata": {
        "id": "EwxSLCyuiCpm"
      },
      "source": [
        "## Question-2"
      ]
    },
    {
      "cell_type": "code",
      "execution_count": null,
      "metadata": {
        "id": "tAUUYyAYtceR"
      },
      "outputs": [],
      "source": [
        "\n",
        "# Activation function (Sigmoid)\n",
        "def act(x):\n",
        "  return 1/(1+np.exp(-x))  # Converts input into a range between 0 and 1\n",
        "\n",
        "# Derivative of Sigmoid, used in backpropagation to compute gradients\n",
        "def act_der(x):\n",
        "  return act(x)*(1-act(x))\n",
        "\n",
        "# Softmax function, converts output layer activations into probabilities\n",
        "def soft_func(x):\n",
        "  x = x-np.max(x) # Normalize values to prevent overflow\n",
        "  return np.exp(x)/np.sum(np.exp(x), axis=0)\n",
        "\n",
        "# Initialize neural network weights and biases\n",
        "def initnet(n_layers, nodes, init_m, inp_dim, out_dim):\n",
        "  \"\"\"\n",
        "    Initializes the neural network weights and biases.\n",
        "\n",
        "    Parameters:\n",
        "    - n_layers: Number of hidden layers\n",
        "    - nodes: List of nodes in each hidden layer\n",
        "    - init_m: Weight initialization method ('rand' or 'xav')\n",
        "    - inp_dim: Input dimension\n",
        "    - out_dim: Output dimension\n",
        "\n",
        "    Returns:\n",
        "    - Dictionary containing initialized weights and biases\n",
        "    \"\"\"\n",
        "  net_size = []\n",
        "  for i in range(n_layers):\n",
        "    net_size.append(nodes)\n",
        "\n",
        "  size = [inp_dim]+net_size+[out_dim]  # Define the structure of the network\n",
        "  wts = {}  # Dictionary to store weights and biases\n",
        "\n",
        "  if init_m == 'rand': # Random weight initialization\n",
        "    for i in range(1, n_layers+2):\n",
        "      wts['W'+str(i)] = np.random.randn(size[i],size[i-1])\n",
        "      wts['b'+str(i)] = np.random.randn(size[i],1)\n",
        "  elif init_m == 'xav': # Xavier initialization for better weight scaling\n",
        "    for i in range(1, n_layers+2):\n",
        "      wts['W'+str(i)] = np.random.randn(size[i],size[i-1])*(np.sqrt(2/size[i-1]))\n",
        "      wts['b'+str(i)] = np.random.randn(size[i],1)*(np.sqrt(2/size[i-1]))\n",
        "\n",
        "  return wts\n",
        "\n",
        "# Forward propagation - calculates activations layer by layer\n",
        "def forwprop(inp,wts, n_layers, inp_dim):\n",
        "  \"\"\"\n",
        "    Performs forward propagation.\n",
        "\n",
        "    Parameters:\n",
        "    - inp: Input data\n",
        "    - wts: Weights dictionary\n",
        "    - n_layers: Number of hidden layers\n",
        "    - inp_dim: Input dimension\n",
        "\n",
        "    Returns:\n",
        "    - acts: Dictionary storing activations\n",
        "    - out: Dictionary storing outputs at each layer\n",
        "    - pred: Output probabilities from the softmax layer\n",
        "    \"\"\"\n",
        "  acts = {} # Store activation values\n",
        "  acts['a0'] = np.zeros((inp_dim,1)) # Initialize first activation\n",
        "  out = {'h0':inp} # Store input layer values\n",
        "\n",
        "  for i in range(1,n_layers+1): # Iterate through hidden layers\n",
        "    acts['a'+str(i)]= np.dot(wts['W'+str(i)], out['h'+str(i-1)]) + wts['b'+str(i)]\n",
        "    out['h'+str(i)]= act(acts['a'+str(i)]) # Apply activation function\n",
        "  # Output layer processing\n",
        "  acts['a'+str(n_layers+1)]= np.dot(wts['W'+str(n_layers+1)], out['h'+str(n_layers)]) + wts['b'+str(n_layers+1)]\n",
        "  pred = soft_func(acts['a'+str(n_layers+1)]) # Apply softmax for probabilities\n",
        "\n",
        "  return acts, out, pred\n",
        "\n",
        "# Backpropagation - calculates gradients for weight updates\n",
        "def backprop(inp, true_lbl, n_layers, wts, inp_dim):\n",
        "  \"\"\"\n",
        "    Performs backpropagation to compute gradients.\n",
        "\n",
        "    Parameters:\n",
        "    - inp: Input data\n",
        "    - true_lbl: True labels\n",
        "    - n_layers: Number of hidden layers\n",
        "    - wts: Weights dictionary\n",
        "    - inp_dim: Input dimension\n",
        "\n",
        "    Returns:\n",
        "    - grad: Dictionary containing gradients for weight and bias updates\n",
        "    \"\"\"\n",
        "  m = inp.shape[0] # Number of examples\n",
        "  acts, out, pred = forwprop(inp, wts, n_layers, inp_dim)\n",
        "  grad = {} # Store gradients\n",
        "  err = {} # Store error terms\n",
        "  err['a'+str(n_layers+1)] = -1*(true_lbl.T-pred) # Compute error for output layer\n",
        "\n",
        "  for i in range(n_layers+1,0,-1): # Iterate backwards through layers\n",
        "    grad['W'+str(i)]= (1/m)*np.dot(err['a'+str(i)], out['h'+str(i-1)].T) # Compute weight gradient\n",
        "    grad['b'+str(i)]= (1/m)*np.mean(err['a'+str(i)], axis=1, keepdims=True) # Compute bias gradient\n",
        "    if i>1:\n",
        "      err['h'+str(i-1)]= np.dot(wts['W'+str(i)].T, err['a'+str(i)]) # Propagate error backward\n",
        "      err['a'+str(i-1)]= err['h'+str(i-1)]*act_der(acts['a'+str(i-1)]) # Apply derivative of activation\n",
        "  return grad\n",
        "\n",
        "# Gradient Descent with loss tracking\n",
        "def upd_wts(lr, wts, inp, true_lbl, n_layers, inp_dim):\n",
        "  wandb.init(project='DA6401_Assignment-1', name='GradientDescent')\n",
        "  losses= []  # Store losses for each epoch\n",
        "  for e in range(100): # Train for 100 epochs\n",
        "    grad = backprop(inp, true_lbl, n_layers, wts, inp_dim)\n",
        "    for i in range (1, n_layers+2):\n",
        "      wts['W'+str(i)] -= lr*grad['W'+str(i)] # Update weights\n",
        "      wts['b'+str(i)] -= lr*grad['b'+str(i)] # Update biases\n",
        "\n",
        "    # Compute loss for this epoch\n",
        "    acts, out, pred = forwprop(inp, wts, n_layers, inp_dim)\n",
        "    loss = -np.mean(np.sum(true_lbl.T*np.log(pred),axis=0))\n",
        "    losses.append(loss)\n",
        "    wandb.log({'Epoch': e+1, 'Loss': loss})\n",
        "    print(f'Epoch {e+1}, Loss: {loss}')\n",
        "\n",
        "  # Plot the loss function over epochs\n",
        "  plt.plot(losses)\n",
        "  plt.xlabel('Epoch')\n",
        "  plt.ylabel('Loss')\n",
        "  plt.title('Training Loss over Epochs')\n",
        "  plt.show()\n",
        "\n",
        "  wandb.finish()\n",
        "  return wts, losses\n",
        "\n",
        "# Compute accuracy of the model\n",
        "def cal_acc(test_inp, test_lbl, wts, n_layers, inp_dim):\n",
        "  acts, out, pred = forwprop(test_inp, wts, n_layers, inp_dim)\n",
        "  assert test_lbl.shape == pred.shape # Ensure shapes match\n",
        "  test_lbl = np.argmax(test_lbl, axis=0) # Convert one-hot labels to index\n",
        "  pred = np.argmax(pred, axis=0) # Get predicted class\n",
        "  correct = np.sum(test_lbl==pred) # Count correct predictions\n",
        "  acc = correct/test_lbl.shape[0] # Compute accuracy\n",
        "\n",
        "  wandb.log({'Test Accuracy': acc})\n",
        "  return acc\n"
      ]
    },
    {
      "cell_type": "markdown",
      "source": [
        "## Question-3"
      ],
      "metadata": {
        "id": "ysbMDgMOjSoz"
      }
    },
    {
      "cell_type": "code",
      "source": [
        "\n",
        "# Activation functions\n",
        "def sigmoid(x):\n",
        "    \"\"\"Compute the sigmoid activation function.\"\"\"\n",
        "    return 1 / (1 + np.exp(-x))\n",
        "\n",
        "def relu(x):\n",
        "    \"\"\"Compute the ReLU activation function.\"\"\"\n",
        "    return np.maximum(0, x)\n",
        "\n",
        "def tanh(x):\n",
        "    \"\"\"Compute the tanh activation function.\"\"\"\n",
        "    return np.tanh(x)\n",
        "\n",
        "# Derivatives of activation functions\n",
        "def sigmoid_derivative(x):\n",
        "    \"\"\"Compute the derivative of the sigmoid function.\"\"\"\n",
        "    return sigmoid(x) * (1 - sigmoid(x))\n",
        "\n",
        "def relu_derivative(x):\n",
        "    \"\"\"Compute the derivative of the ReLU function.\"\"\"\n",
        "    return np.where(x <= 0, 0, 1)\n",
        "\n",
        "def tanh_derivative(x):\n",
        "    \"\"\"Compute the derivative of the tanh function.\"\"\"\n",
        "    return 1 - tanh(x)**2\n",
        "\n",
        "# Softmax function for multi-class classification\n",
        "def softmax(x):\n",
        "    \"\"\"Compute the softmax function to convert logits into probabilities.\"\"\"\n",
        "    x = x - np.max(x)  # Normalize to prevent numerical instability\n",
        "    return np.exp(x) / np.sum(np.exp(x), axis=0)\n",
        "\n",
        "# Function to apply the chosen activation function\n",
        "def activation_function(x, func_type):\n",
        "    \"\"\"Return the output of the specified activation function.\"\"\"\n",
        "    if func_type == 'sigmoid':\n",
        "        return sigmoid(x)\n",
        "    elif func_type == 'relu':\n",
        "        return relu(x)\n",
        "    else:\n",
        "        return tanh(x)\n",
        "\n",
        "# Function to apply the corresponding activation derivative\n",
        "def activation_derivative(x, func_type):\n",
        "    \"\"\"Return the derivative of the specified activation function.\"\"\"\n",
        "    if func_type == 'sigmoid':\n",
        "        return sigmoid_derivative(x)\n",
        "    elif func_type == 'relu':\n",
        "        return relu_derivative(x)\n",
        "    else:\n",
        "        return tanh_derivative(x)\n",
        "\n",
        "# Initialize network weights and biases\n",
        "def initialize_network(num_layers, num_neurons, weight_init, input_dim, output_dim):\n",
        "    \"\"\"\n",
        "    Initialize the network parameters (weights and biases) using the specified initialization method.\n",
        "\n",
        "    Args:\n",
        "        num_layers (int): Number of hidden layers.\n",
        "        num_neurons (int): Number of neurons in each hidden layer.\n",
        "        weight_init (str): Weight initialization method ('random' or 'xavier').\n",
        "        input_dim (int): Number of input features.\n",
        "        output_dim (int): Number of output classes.\n",
        "\n",
        "    Returns:\n",
        "        dict: Dictionary containing initialized weights and biases.\n",
        "    \"\"\"\n",
        "    layer_sizes = [input_dim] + [num_neurons] * num_layers + [output_dim]  # Define layer sizes\n",
        "    parameters = {}\n",
        "\n",
        "    if weight_init == 'random':\n",
        "        # Initialize weights and biases randomly\n",
        "        for i in range(1, num_layers + 2):\n",
        "            parameters[f'W{i}'] = np.random.randn(layer_sizes[i], layer_sizes[i-1])\n",
        "            parameters[f'b{i}'] = np.random.randn(layer_sizes[i], 1)\n",
        "    elif weight_init == 'xavier':\n",
        "        # Initialize weights using Xavier initialization\n",
        "        for i in range(1, num_layers + 2):\n",
        "            parameters[f'W{i}'] = np.random.randn(layer_sizes[i], layer_sizes[i-1]) * np.sqrt(2 / layer_sizes[i-1])\n",
        "            parameters[f'b{i}'] = np.random.randn(layer_sizes[i], 1) * np.sqrt(2 / layer_sizes[i-1])\n",
        "\n",
        "    return parameters\n",
        "\n",
        "# Compute cross-entropy loss\n",
        "def cross_entropy_loss(y_true, y_pred):\n",
        "    \"\"\"\n",
        "    Compute the cross-entropy loss for multi-class classification.\n",
        "\n",
        "    Args:\n",
        "        y_true (numpy array): One-hot encoded true labels.\n",
        "        y_pred (numpy array): Predicted probability distribution.\n",
        "\n",
        "    Returns:\n",
        "        float: Cross-entropy loss.\n",
        "    \"\"\"\n",
        "    epsilon = 1e-15  # Prevents log(0)\n",
        "    y_pred = np.clip(y_pred, epsilon, 1 - epsilon)  # Avoid numerical issues\n",
        "    return -np.mean(np.sum(y_true * np.log(y_pred), axis=0))\n",
        "\n",
        "# Forward propagation\n",
        "def forward_propagation(inputs, params, activation, num_layers, input_dim):\n",
        "    \"\"\"\n",
        "    Perform forward propagation through the neural network.\n",
        "\n",
        "    Args:\n",
        "        inputs (numpy array): Input data.\n",
        "        params (dict): Dictionary containing weights and biases.\n",
        "        activation (str): Activation function to use.\n",
        "        num_layers (int): Number of hidden layers.\n",
        "        input_dim (int): Number of input features.\n",
        "\n",
        "    Returns:\n",
        "        tuple: Activations, layer outputs, and final predictions.\n",
        "    \"\"\"\n",
        "    activations, layer_outputs = {}, {}\n",
        "    activations['a0'] = np.zeros((input_dim, 1))  # Initialize first activation (not used)\n",
        "    layer_outputs['h0'] = inputs  # Input layer\n",
        "\n",
        "    # Forward propagate through hidden layers\n",
        "    for i in range(1, num_layers + 1):\n",
        "        activations[f'a{i}'] = np.dot(params[f'W{i}'], layer_outputs[f'h{i-1}']) + params[f'b{i}']\n",
        "        layer_outputs[f'h{i}'] = activation_function(activations[f'a{i}'], activation)\n",
        "\n",
        "    # Compute final layer output (softmax for multi-class classification)\n",
        "    activations[f'a{num_layers+1}'] = np.dot(params[f'W{num_layers+1}'], layer_outputs[f'h{num_layers}']) + params[f'b{num_layers+1}']\n",
        "    predictions = softmax(activations[f'a{num_layers+1}'])\n",
        "\n",
        "    return activations, layer_outputs, predictions\n",
        "\n",
        "# Backward propagation\n",
        "def backward_propagation(inputs, labels, activation, num_layers, params, input_dim):\n",
        "    \"\"\"\n",
        "    Perform backward propagation to compute gradients for weight and bias updates.\n",
        "\n",
        "    Args:\n",
        "        inputs (numpy array): Input data.\n",
        "        labels (numpy array): True labels in one-hot encoding.\n",
        "        activation (str): Activation function used in hidden layers.\n",
        "        num_layers (int): Number of hidden layers.\n",
        "        params (dict): Dictionary containing weights and biases.\n",
        "        input_dim (int): Number of input features.\n",
        "\n",
        "    Returns:\n",
        "        dict: Gradients of weights and biases.\n",
        "    \"\"\"\n",
        "    activations, layer_outputs, predictions = forward_propagation(inputs, params, activation, num_layers, input_dim)\n",
        "    gradients, backprops = {}, {}\n",
        "\n",
        "    # Compute loss gradient w.r.t final layer activation\n",
        "    backprops[f'a{num_layers+1}'] = -1 * (labels - predictions)\n",
        "\n",
        "    # Backpropagate through layers\n",
        "    for i in range(num_layers + 1, 0, -1):\n",
        "        gradients[f'W{i}'] = np.dot(backprops[f'a{i}'], layer_outputs[f'h{i-1}'].T)\n",
        "        gradients[f'b{i}'] = backprops[f'a{i}']\n",
        "        backprops[f'h{i-1}'] = np.dot(params[f'W{i}'].T, backprops[f'a{i}'])\n",
        "        backprops[f'a{i-1}'] = backprops[f'h{i-1}'] * activation_derivative(activations[f'a{i-1}'], activation)\n",
        "\n",
        "    return gradients\n",
        "\n",
        "# Compute accuracy on test data\n",
        "def compute_accuracy(X_test, Y_test, trained_params, activation, num_layers, input_dim):\n",
        "    \"\"\"\n",
        "    Compute classification accuracy on test data.\n",
        "\n",
        "    Args:\n",
        "        X_test (numpy array): Test data.\n",
        "        Y_test (numpy array): True labels in one-hot encoding.\n",
        "        trained_params (dict): Trained weights and biases.\n",
        "        activation (str): Activation function used in hidden layers.\n",
        "        num_layers (int): Number of hidden layers.\n",
        "        input_dim (int): Number of input features.\n",
        "\n",
        "    Returns:\n",
        "        float: Accuracy of the model on test data.\n",
        "    \"\"\"\n",
        "    num_samples = X_test.shape[0]\n",
        "    correct = 0\n",
        "\n",
        "    # Iterate over all test samples\n",
        "    for i in range(num_samples):\n",
        "        input_sample = X_test[i, :].reshape(-1, 1)\n",
        "        _, _, pred = forward_propagation(input_sample, trained_params, activation, num_layers, input_dim)\n",
        "\n",
        "        # Check if predicted class matches true label\n",
        "        if np.argmax(Y_test[i, :].reshape(-1, 1)) == np.argmax(pred):\n",
        "            correct += 1\n",
        "\n",
        "    return correct / num_samples  # Return accuracy as a fraction\n",
        "\n"
      ],
      "metadata": {
        "id": "iIrI8WwSgVVB"
      },
      "execution_count": 29,
      "outputs": []
    },
    {
      "cell_type": "markdown",
      "metadata": {
        "id": "WTWN9ldu3Kca"
      },
      "source": [
        "Stochastic Gradient Descent"
      ]
    },
    {
      "cell_type": "code",
      "execution_count": 30,
      "metadata": {
        "id": "jj7XzDQN15oL"
      },
      "outputs": [],
      "source": [
        "def stochastic_gd(learning_rate, X_train, Y_train, X_valid, Y_valid, epochs, activation, num_layers, num_neurons, weight_init, batch_size, input_dim, output_dim):\n",
        "    \"\"\"\n",
        "    Perform stochastic gradient descent (SGD) to train a neural network.\n",
        "\n",
        "    Args:\n",
        "        learning_rate (float): Learning rate for weight updates.\n",
        "        X_train (numpy array): Training input data.\n",
        "        Y_train (numpy array): One-hot encoded training labels.\n",
        "        X_valid (numpy array): Validation input data.\n",
        "        Y_valid (numpy array): One-hot encoded validation labels.\n",
        "        epochs (int): Number of training epochs.\n",
        "        activation (str): Activation function used in hidden layers.\n",
        "        num_layers (int): Number of hidden layers.\n",
        "        num_neurons (int): Number of neurons per hidden layer.\n",
        "        weight_init (str): Weight initialization method ('random' or 'xavier').\n",
        "        batch_size (int): Number of samples per batch update.\n",
        "        input_dim (int): Number of input features.\n",
        "        output_dim (int): Number of output classes.\n",
        "\n",
        "    Returns:\n",
        "        dict: Trained network parameters (weights and biases).\n",
        "    \"\"\"\n",
        "    # Initialize the neural network parameters (weights and biases)\n",
        "    params = initialize_network(num_layers, num_neurons, weight_init, input_dim, output_dim)\n",
        "\n",
        "    # List to store loss values over epochs for visualization\n",
        "    losses = []\n",
        "\n",
        "    # Get the number of training samples\n",
        "    num_samples = X_train.shape[0]\n",
        "\n",
        "    for epoch in range(epochs):  # Loop over the number of epochs\n",
        "        indices = np.arange(num_samples)  # Create an array of sample indices\n",
        "        np.random.shuffle(indices)  # Shuffle the indices for stochastic updates\n",
        "\n",
        "        # Dictionary to accumulate gradients for batch updates\n",
        "        batch_updates = {key: np.zeros_like(value) for key, value in params.items()}\n",
        "\n",
        "        for idx in range(num_samples):  # Loop over each training sample\n",
        "            # Select one sample and reshape it into a column vector\n",
        "            input_sample = X_train[indices[idx], :].reshape(-1, 1)\n",
        "            label_sample = Y_train[indices[idx], :].reshape(-1, 1)\n",
        "\n",
        "            # Perform backward propagation to compute gradients\n",
        "            gradients = backward_propagation(input_sample, label_sample, activation, num_layers, params, input_dim)\n",
        "\n",
        "            # Accumulate gradients for batch update\n",
        "            for k in range(1, num_layers + 2):\n",
        "                batch_updates[f'W{k}'] += gradients[f'W{k}']\n",
        "                batch_updates[f'b{k}'] += gradients[f'b{k}']\n",
        "\n",
        "            # Perform parameter update after processing 'batch_size' samples\n",
        "            if (idx + 1) % batch_size == 0:\n",
        "                for i in range(1, num_layers + 2):\n",
        "                    params[f'W{i}'] -= learning_rate * batch_updates[f'W{i}']\n",
        "                    params[f'b{i}'] -= learning_rate * batch_updates[f'b{i}']\n",
        "\n",
        "        # Compute training accuracy after epoch completion\n",
        "        train_acc = compute_accuracy(X_train, Y_train, params, activation, num_layers, input_dim)\n",
        "\n",
        "        # Compute training loss using cross-entropy\n",
        "        _, _, train_preds = forward_propagation(X_train.T, params, activation, num_layers, input_dim)\n",
        "        train_loss = cross_entropy_loss(Y_train.T, train_preds)\n",
        "        losses.append(train_loss)  # Store loss for visualization\n",
        "\n",
        "        # Compute validation accuracy\n",
        "        val_acc = compute_accuracy(X_valid, Y_valid, params, activation, num_layers, input_dim)\n",
        "\n",
        "        # Compute validation loss using cross-entropy\n",
        "        _, _, val_preds = forward_propagation(X_valid.T, params, activation, num_layers, input_dim)\n",
        "        val_loss = cross_entropy_loss(Y_valid.T, val_preds)\n",
        "\n",
        "\n",
        "        # Print epoch summary\n",
        "        print(f\"Epoch {epoch+1}, Train_Loss: {train_loss:.4f}, Train_Accuracy: {train_acc * 100:.2f}%, Val_Loss: {val_loss:.4f}, Val_Accuracy: {val_acc * 100:.2f}%\")\n",
        "\n",
        "        # Log results using Weights & Biases\n",
        "        wandb.log({'train_loss': train_loss,\n",
        "                   'train_accuracy': train_acc * 100,\n",
        "                   'val_loss': val_loss,\n",
        "                   'val_accuracy': val_acc * 100,\n",
        "                   'epoch': epoch})\n",
        "\n",
        "    # Plot training loss over epochs\n",
        "    plt.plot(losses)\n",
        "    plt.xlabel('Epoch')\n",
        "    plt.ylabel('Loss')\n",
        "    plt.title('Training Loss Over Epochs')\n",
        "    plt.show()\n",
        "\n",
        "    return params  # Return the trained network parameters\n"
      ]
    },
    {
      "cell_type": "markdown",
      "metadata": {
        "id": "wB1AiDSV6IPk"
      },
      "source": [
        "Momentum Based Gradient Descent"
      ]
    },
    {
      "cell_type": "code",
      "source": [
        "def momentum_optimizer(learning_rate, params, X_train, Y_train, X_valid, Y_valid, activation, epochs, num_layers, input_dim, batch_size, beta=0.9):\n",
        "    \"\"\"\n",
        "    Implements the Momentum Optimizer for training a neural network.\n",
        "        u_t = β * u_(t-1) + ∇w_t\n",
        "        w_(t+1) = w_t - η * u_t\n",
        "\n",
        "    Args:\n",
        "        learning_rate (float): Learning rate for parameter updates.\n",
        "        params (dict): Dictionary containing neural network weights and biases.\n",
        "        X_train (numpy array): Training input data.\n",
        "        Y_train (numpy array): One-hot encoded training labels.\n",
        "        X_valid (numpy array): Validation input data.\n",
        "        Y_valid (numpy array): One-hot encoded validation labels.\n",
        "        activation (str): Activation function used in hidden layers.\n",
        "        epochs (int): Number of training epochs.\n",
        "        num_layers (int): Number of hidden layers.\n",
        "        input_dim (int): Number of input features.\n",
        "        batch_size (int): Number of samples per batch update.\n",
        "        beta (float, optional): Momentum coefficient (default: 0.9).\n",
        "\n",
        "    Returns:\n",
        "        dict: Updated network parameters after training.\n",
        "    \"\"\"\n",
        "\n",
        "    losses = []  # List to store the training loss over epochs\n",
        "    num_samples = X_train.shape[0]  # Number of training samples\n",
        "\n",
        "    # Initialize velocity for momentum updates (same shape as parameters)\n",
        "    velocity = {key: np.zeros_like(value) for key, value in params.items()}\n",
        "    prev_velocity = {key: np.zeros_like(value) for key, value in params.items()}\n",
        "\n",
        "    for epoch in range(epochs):  # Iterate over epochs\n",
        "        num_processed = 0  # Counter for processed samples\n",
        "        epoch_loss = 0  # Initialize loss for the current epoch\n",
        "        num_batches = 0  # Count number of batches processed\n",
        "        gradient_accumulator = {key: np.zeros_like(value) for key, value in params.items()}  # Accumulate gradients\n",
        "\n",
        "        for sample_idx in range(num_samples):  # Loop through all training samples\n",
        "            num_processed += 1  # Increment processed sample counter\n",
        "\n",
        "            # Select a single training sample and reshape it into a column vector\n",
        "            input_sample = X_train[sample_idx, :].reshape(-1, 1)\n",
        "            label_sample = Y_train[sample_idx, :].reshape(-1, 1)\n",
        "\n",
        "            # Compute gradients using backward propagation\n",
        "            gradients = backward_propagation(input_sample, label_sample, activation, num_layers, params, input_dim)\n",
        "\n",
        "            # Accumulate gradients for weight and bias updates\n",
        "            for layer in range(num_layers + 1, 0, -1):\n",
        "                gradient_accumulator['W' + str(layer)] += gradients['W' + str(layer)]\n",
        "                gradient_accumulator['b' + str(layer)] += gradients['b' + str(layer)]\n",
        "\n",
        "            # Update weights and biases once the batch is complete\n",
        "            if num_processed % batch_size == 0:\n",
        "                num_batches += 1  # Increment batch count\n",
        "\n",
        "                for layer in range(1, num_layers + 2):\n",
        "                    # Compute velocity update using momentum\n",
        "                    velocity['W' + str(layer)] = beta * prev_velocity['W' + str(layer)] + gradient_accumulator['W' + str(layer)]\n",
        "                    velocity['b' + str(layer)] = beta * prev_velocity['b' + str(layer)] + gradient_accumulator['b' + str(layer)]\n",
        "\n",
        "\n",
        "                    # Apply momentum-based update to parameters\n",
        "                    params['W' + str(layer)] -= learning_rate * velocity['W' + str(layer)]\n",
        "                    params['b' + str(layer)] -= learning_rate * velocity['b' + str(layer)]\n",
        "\n",
        "                # Store previous velocity values for the next batch update\n",
        "                    prev_velocity['W' + str(layer)] = velocity['W' + str(layer)]\n",
        "                    prev_velocity['b' + str(layer)] = velocity['b' + str(layer)]\n",
        "\n",
        "        # Compute training accuracy at the end of the epoch\n",
        "        train_acc = compute_accuracy(X_train, Y_train, params, activation, num_layers, input_dim)\n",
        "\n",
        "        # Compute training loss using cross-entropy\n",
        "        _, _, train_predictions = forward_propagation(X_train.T, params, activation, num_layers, input_dim)\n",
        "        train_loss = cross_entropy_loss(Y_train.T, train_predictions)\n",
        "        losses.append(train_loss)  # Store loss for visualization\n",
        "\n",
        "        # Compute validation accuracy\n",
        "        val_acc = compute_accuracy(X_valid, Y_valid, params, activation, num_layers, input_dim)\n",
        "\n",
        "        # Compute validation loss using cross-entropy\n",
        "        _, _, val_preds = forward_propagation(X_valid.T, params, activation, num_layers, input_dim)\n",
        "        val_loss = cross_entropy_loss(Y_valid.T, val_preds)\n",
        "\n",
        "\n",
        "        # Print epoch summary\n",
        "        print(f\"Epoch {epoch+1}, Train_Loss: {train_loss:.4f}, Train_Accuracy: {train_acc * 100:.2f}%, Val_Loss: {val_loss:.4f}, Val_Accuracy: {val_acc * 100:.2f}%\")\n",
        "\n",
        "        # Log results using Weights & Biases\n",
        "        wandb.log({'train_loss': train_loss,\n",
        "                   'train_accuracy': train_acc * 100,\n",
        "                   'val_loss': val_loss,\n",
        "                   'val_accuracy': val_acc * 100,\n",
        "                   'epoch': epoch})\n",
        "\n",
        "    # Plot the loss function over epochs\n",
        "    plt.plot(losses)\n",
        "    plt.xlabel('Epoch')\n",
        "    plt.ylabel('Loss')\n",
        "    plt.title('Training Loss over Epochs')\n",
        "    plt.show()\n",
        "\n",
        "    return params  # Return the trained parameters\n"
      ],
      "metadata": {
        "id": "DNnwm-_bmdMw"
      },
      "execution_count": 31,
      "outputs": []
    },
    {
      "cell_type": "markdown",
      "metadata": {
        "id": "6cCuUWpN5xB-"
      },
      "source": [
        "Nesterov Accelerated Gradient Descent"
      ]
    },
    {
      "cell_type": "code",
      "source": [
        "def nag_optimizer(learning_rate, params, X_train, Y_train, X_valid, Y_valid, activation, epochs, num_layers, input_dim, batch_size, beta=0.9):\n",
        "    \"\"\"\n",
        "    Implements Nesterov Accelerated Gradient (NAG) optimizer for training a neural network.\n",
        "        u_t = β * u_(t-1) + ∇(w - η*β * u_(t-1))\n",
        "        w_(t+1) = w_t - η * u_t\n",
        "\n",
        "    Args:\n",
        "        learning_rate (float): Learning rate for parameter updates.\n",
        "        params (dict): Dictionary containing neural network weights and biases.\n",
        "        X_train (numpy array): Training input data.\n",
        "        Y_train (numpy array): One-hot encoded training labels.\n",
        "        X_valid (numpy array): Validation input data.\n",
        "        Y_valid (numpy array): One-hot encoded validation labels.\n",
        "        activation (str): Activation function used in hidden layers.\n",
        "        epochs (int): Number of training epochs.\n",
        "        num_layers (int): Number of hidden layers.\n",
        "        input_dim (int): Number of input features.\n",
        "        batch_size (int): Number of samples per batch update.\n",
        "        beta (float, optional): Momentum coefficient (default: 0.9).\n",
        "\n",
        "    Returns:\n",
        "        dict: Updated network parameters after training.\n",
        "    \"\"\"\n",
        "\n",
        "    losses = []  # List to store training loss for each epoch\n",
        "    num_samples = X_train.shape[0]  # Number of training samples\n",
        "\n",
        "    # Initialize velocity for momentum updates (same shape as parameters)\n",
        "    velocity = {key: np.zeros_like(value) for key, value in params.items()}\n",
        "    prev_velocity = {key: np.zeros_like(value) for key, value in params.items()}\n",
        "\n",
        "    for epoch in range(epochs):  # Iterate over epochs\n",
        "        gradient_accumulator = {key: np.zeros_like(value) for key, value in params.items()}  # Accumulate gradients\n",
        "        num_processed = 0  # Counter for processed samples\n",
        "        num_batches = 0  # Counter for number of batches\n",
        "        epoch_loss = 0  # Initialize loss for current epoch\n",
        "\n",
        "        for sample_idx in range(num_samples):  # Iterate over all training samples\n",
        "            num_processed += 1  # Increment processed sample counter\n",
        "\n",
        "            # Select a single training sample and reshape it into a column vector\n",
        "            input_sample = X_train[sample_idx, :].reshape(-1, 1)\n",
        "            label_sample = Y_train[sample_idx, :].reshape(-1, 1)\n",
        "\n",
        "            # Look ahead by applying momentum before computing gradients\n",
        "            for layer in range(1, num_layers + 2):\n",
        "                params['W' + str(layer)] -= learning_rate * beta * prev_velocity['W' + str(layer)]\n",
        "                params['b' + str(layer)] -= learning_rate * beta * prev_velocity['b' + str(layer)]\n",
        "\n",
        "            # Compute gradients using backward propagation\n",
        "            gradients = backward_propagation(input_sample, label_sample, activation, num_layers, params, input_dim)\n",
        "\n",
        "            # Accumulate gradients for weight and bias updates\n",
        "            for layer in range(num_layers + 1, 0, -1):\n",
        "                gradient_accumulator['W' + str(layer)] += gradients['W' + str(layer)]\n",
        "                gradient_accumulator['b' + str(layer)] += gradients['b' + str(layer)]\n",
        "\n",
        "            # Update weights and biases after processing a full batch\n",
        "            if num_processed % batch_size == 0:\n",
        "                num_batches += 1  # Increment batch count\n",
        "\n",
        "                for layer in range(1, num_layers + 2):\n",
        "                    # Compute velocity update using Nesterov's momentum\n",
        "                    velocity['W' + str(layer)] = beta * prev_velocity['W' + str(layer)] + gradient_accumulator['W' + str(layer)]\n",
        "                    velocity['b' + str(layer)] = beta * prev_velocity['b' + str(layer)] + gradient_accumulator['b' + str(layer)]\n",
        "\n",
        "\n",
        "                    # Apply velocity-based update to parameters\n",
        "                    params['W' + str(layer)] -= learning_rate * velocity['W' + str(layer)]\n",
        "                    params['b' + str(layer)] -= learning_rate * velocity['b' + str(layer)]\n",
        "\n",
        "                # Store previous velocity values for the next batch update\n",
        "                    prev_velocity['W' + str(layer)] = velocity['W' + str(layer)]\n",
        "                    prev_velocity['b' + str(layer)] = velocity['b' + str(layer)]\n",
        "\n",
        "        # Compute training accuracy after epoch completion\n",
        "        train_acc = compute_accuracy(X_train, Y_train, params, activation, num_layers, input_dim)\n",
        "\n",
        "        # Compute training loss using cross-entropy\n",
        "        _, _, train_preds = forward_propagation(X_train.T, params, activation, num_layers, input_dim)\n",
        "        train_loss = cross_entropy_loss(Y_train.T, train_preds)\n",
        "        losses.append(train_loss)  # Store loss for visualization\n",
        "\n",
        "        # Compute validation accuracy\n",
        "        val_acc = compute_accuracy(X_valid, Y_valid, params, activation, num_layers, input_dim)\n",
        "\n",
        "        # Compute validation loss using cross-entropy\n",
        "        _, _, val_preds = forward_propagation(X_valid.T, params, activation, num_layers, input_dim)\n",
        "        val_loss = cross_entropy_loss(Y_valid.T, val_preds)\n",
        "\n",
        "\n",
        "        # Print epoch summary\n",
        "        print(f\"Epoch {epoch+1}, Train_Loss: {train_loss:.4f}, Train_Accuracy: {train_acc * 100:.2f}%, Val_Loss: {val_loss:.4f}, Val_Accuracy: {val_acc * 100:.2f}%\")\n",
        "\n",
        "        # Log results using Weights & Biases\n",
        "        wandb.log({'train_loss': train_loss,\n",
        "                   'train_accuracy': train_acc * 100,\n",
        "                   'val_loss': val_loss,\n",
        "                   'val_accuracy': val_acc * 100,\n",
        "                   'epoch': epoch})\n",
        "\n",
        "    # Plot the loss function over epochs\n",
        "    plt.plot(losses)\n",
        "    plt.xlabel('Epoch')\n",
        "    plt.ylabel('Loss')\n",
        "    plt.title('Training Loss over Epochs')\n",
        "    plt.show()\n",
        "\n",
        "    return params  # Return the trained parameters\n"
      ],
      "metadata": {
        "id": "-MXWamD1lszI"
      },
      "execution_count": 32,
      "outputs": []
    },
    {
      "cell_type": "markdown",
      "metadata": {
        "id": "tYX12sWsquPy"
      },
      "source": [
        "RMSPROP"
      ]
    },
    {
      "cell_type": "code",
      "source": [
        "def rmsprop_optimizer(learning_rate, params, X_train, Y_train, X_valid, Y_valid, activation, epochs, num_layers, input_dim, batch_size, epsilon=0.01, beta=0.9):\n",
        "    \"\"\"\n",
        "    Implements the RMSprop (Root Mean Square Propagation) optimizer for training a neural network.\n",
        "        v_t = β * v_(t-1) + (1-β) * (∇w_t)^2\n",
        "        w_(t+1) = w_t - η*(∇w_t / (√v_t + ε))\n",
        "\n",
        "    Args:\n",
        "        learning_rate (float): Learning rate for parameter updates.\n",
        "        params (dict): Dictionary containing neural network weights and biases.\n",
        "        X_train (numpy array): Training input data.\n",
        "        Y_train (numpy array): One-hot encoded training labels.\n",
        "        X_valid (numpy array): Validation input data.\n",
        "        Y_valid (numpy array): One-hot encoded validation labels.\n",
        "        activation (str): Activation function used in hidden layers.\n",
        "        epochs (int): Number of training epochs.\n",
        "        num_layers (int): Number of hidden layers.\n",
        "        input_dim (int): Number of input features.\n",
        "        batch_size (int): Number of samples per batch update.\n",
        "        epsilon (float, optional): Small constant to avoid division by zero (default: 0.01).\n",
        "        beta (float, optional): Decay rate for the moving average of squared gradients (default: 0.9).\n",
        "\n",
        "    Returns:\n",
        "        dict: Updated network parameters after training.\n",
        "    \"\"\"\n",
        "\n",
        "    losses = []  # List to store training loss for each epoch\n",
        "    num_samples = X_train.shape[0]  # Number of training samples\n",
        "\n",
        "    # Initialize velocity (moving average of squared gradients) for each parameter\n",
        "    velocity = {key: np.zeros_like(value) for key, value in params.items()}\n",
        "    prev_velocity = {key: np.zeros_like(value) for key, value in params.items()}\n",
        "\n",
        "    for epoch in range(epochs):  # Iterate through epochs\n",
        "        num_processed = 0  # Counter for processed samples\n",
        "        num_batches = 0  # Counter for number of batches\n",
        "        epoch_loss = 0  # Initialize loss for the current epoch\n",
        "\n",
        "        # Initialize gradient accumulator for batch updates\n",
        "        gradient_accumulator = {key: np.zeros_like(value) for key, value in params.items()}\n",
        "\n",
        "        for sample_idx in range(num_samples):  # Iterate through all training samples\n",
        "            num_processed += 1  # Increment processed sample counter\n",
        "\n",
        "            # Select a single training sample and reshape it into a column vector\n",
        "            input_sample = X_train[sample_idx, :].reshape(-1, 1)\n",
        "            label_sample = Y_train[sample_idx, :].reshape(-1, 1)\n",
        "\n",
        "            # Compute gradients using backward propagation\n",
        "            gradients = backward_propagation(input_sample, label_sample, activation, num_layers, params, input_dim)\n",
        "\n",
        "            # Accumulate gradients for weight and bias updates\n",
        "            for layer in range(num_layers + 1, 0, -1):\n",
        "                gradient_accumulator['W' + str(layer)] += gradients['W' + str(layer)]\n",
        "                gradient_accumulator['b' + str(layer)] += gradients['b' + str(layer)]\n",
        "\n",
        "            # Update weights and biases after processing a full batch\n",
        "            if num_processed % batch_size == 0:\n",
        "                num_batches += 1  # Increment batch count\n",
        "\n",
        "                for layer in range(1, num_layers + 2):\n",
        "                    # Compute moving average of squared gradients (RMSprop update)\n",
        "                    velocity['W' + str(layer)] = beta * prev_velocity['W' + str(layer)] + (1 - beta) * (gradient_accumulator['W' + str(layer)] ** 2)\n",
        "                    velocity['b' + str(layer)] = beta * prev_velocity['b' + str(layer)] + (1 - beta) * (gradient_accumulator['b' + str(layer)] ** 2)\n",
        "\n",
        "\n",
        "                    # Apply RMSprop update rule to parameters\n",
        "                    params['W' + str(layer)] -= (learning_rate / (np.sqrt(velocity['W' + str(layer)] + epsilon))) * gradient_accumulator['W' + str(layer)]\n",
        "                    params['b' + str(layer)] -= (learning_rate / (np.sqrt(velocity['b' + str(layer)] + epsilon))) * gradient_accumulator['b' + str(layer)]\n",
        "\n",
        "                # Store previous velocity values for the next batch update\n",
        "                    prev_velocity['W' + str(layer)] = velocity['W' + str(layer)]\n",
        "                    prev_velocity['b' + str(layer)] = velocity['b' + str(layer)]\n",
        "\n",
        "        # Compute training accuracy after epoch completion\n",
        "        train_acc = compute_accuracy(X_train, Y_train, params, activation, num_layers, input_dim)\n",
        "\n",
        "        # Compute training loss using cross-entropy\n",
        "        _, _, train_preds = forward_propagation(X_train.T, params, activation, num_layers, input_dim)\n",
        "        train_loss = cross_entropy_loss(Y_train.T, train_preds)\n",
        "        losses.append(train_loss)  # Store loss for visualization\n",
        "\n",
        "        # Compute validation accuracy\n",
        "        val_acc = compute_accuracy(X_valid, Y_valid, params, activation, num_layers, input_dim)\n",
        "\n",
        "        # Compute validation loss using cross-entropy\n",
        "        _, _, val_preds = forward_propagation(X_valid.T, params, activation, num_layers, input_dim)\n",
        "        val_loss = cross_entropy_loss(Y_valid.T, val_preds)\n",
        "\n",
        "\n",
        "        # Print epoch summary\n",
        "        print(f\"Epoch {epoch+1}, Train_Loss: {train_loss:.4f}, Train_Accuracy: {train_acc * 100:.2f}%, Val_Loss: {val_loss:.4f}, Val_Accuracy: {val_acc * 100:.2f}%\")\n",
        "\n",
        "        # Log results using Weights & Biases\n",
        "        wandb.log({'train_loss': train_loss,\n",
        "                   'train_accuracy': train_acc * 100,\n",
        "                   'val_loss': val_loss,\n",
        "                   'val_accuracy': val_acc * 100,\n",
        "                   'epoch': epoch})\n",
        "\n",
        "    # Plot the loss function over epochs\n",
        "    plt.plot(losses)\n",
        "    plt.xlabel('Epoch')\n",
        "    plt.ylabel('Loss')\n",
        "    plt.title('Training Loss over Epochs')\n",
        "    plt.show()\n",
        "\n",
        "    return params  # Return the trained parameters\n"
      ],
      "metadata": {
        "id": "CbYL6hrvman2"
      },
      "execution_count": 33,
      "outputs": []
    },
    {
      "cell_type": "markdown",
      "metadata": {
        "id": "ohqRIfnSi88z"
      },
      "source": [
        "ADAM"
      ]
    },
    {
      "cell_type": "code",
      "source": [
        "def adam_optimizer(learning_rate, params, X_train, Y_train, X_valid, Y_valid, activation, epochs, num_layers, input_dim, batch_size, epsilon, beta1=0.9, beta2=0.99):\n",
        "    \"\"\"\n",
        "    Implements the Adam (Adaptive Moment Estimation) optimizer for training a neural network.\n",
        "        m_t = β1*m_(t-1) + (1-β1)*∇w_t\n",
        "        hat{m_t} = m_t / (1-β1^t)\n",
        "        v_t = β2*v_(t-1) + (1-β2)*(∇w_t)^2\n",
        "        hat{v_t} = v_t / (1-β2^t)\n",
        "        w_(t+1) = w_t - η*(hat{m_t} / (√(hat{v_t}) +ε) )\n",
        "\n",
        "    Args:\n",
        "        learning_rate (float): Learning rate for parameter updates.\n",
        "        params (dict): Dictionary containing neural network weights and biases.\n",
        "        X_train (numpy array): Training input data.\n",
        "        Y_train (numpy array): One-hot encoded training labels.\n",
        "        X_valid (numpy array): Validation input data.\n",
        "        Y_valid (numpy array): One-hot encoded validation labels.\n",
        "        activation (str): Activation function used in hidden layers.\n",
        "        epochs (int): Number of training epochs.\n",
        "        num_layers (int): Number of hidden layers.\n",
        "        input_dim (int): Number of input features.\n",
        "        batch_size (int): Number of samples per batch update.\n",
        "        epsilon (float): Small constant to avoid division by zero.\n",
        "        beta1 (float, optional): Exponential decay rate for first moment estimates (default: 0.9).\n",
        "        beta2 (float, optional): Exponential decay rate for second moment estimates (default: 0.99).\n",
        "\n",
        "    Returns:\n",
        "        dict: Updated network parameters after training.\n",
        "    \"\"\"\n",
        "\n",
        "    losses = []  # List to store loss values for each epoch\n",
        "    num_samples = X_train.shape[0]  # Number of training samples\n",
        "\n",
        "    # Initialize first moment vector (momentum)\n",
        "    momentum = {key: np.zeros_like(value) for key, value in params.items()}\n",
        "    prev_momentum = {key: np.zeros_like(value) for key, value in params.items()}\n",
        "    momentum_corrected = {key: np.zeros_like(value) for key, value in params.items()}\n",
        "\n",
        "    # Initialize second moment vector (velocity - moving average of squared gradients)\n",
        "    velocity = {key: np.zeros_like(value) for key, value in params.items()}\n",
        "    prev_velocity = {key: np.zeros_like(value) for key, value in params.items()}\n",
        "    velocity_corrected = {key: np.zeros_like(value) for key, value in params.items()}\n",
        "\n",
        "    for epoch in range(epochs):  # Iterate over epochs\n",
        "        time_step = 0  # Time step counter for bias correction\n",
        "        num_processed = 0  # Counter for processed samples\n",
        "        num_batches = 0  # Counter for number of batches\n",
        "        epoch_loss = 0  # Initialize epoch loss\n",
        "\n",
        "        # Initialize gradient accumulator for batch updates\n",
        "        gradient_accumulator = {key: np.zeros_like(value) for key, value in params.items()}\n",
        "\n",
        "        for sample_idx in range(num_samples):  # Iterate through all training samples\n",
        "            # Select a single training sample and reshape it into a column vector\n",
        "            input_sample = X_train[sample_idx, :].reshape(-1, 1)\n",
        "            label_sample = Y_train[sample_idx, :].reshape(-1, 1)\n",
        "\n",
        "            # Compute gradients using backward propagation\n",
        "            gradients = backward_propagation(input_sample, label_sample, activation, num_layers, params, input_dim)\n",
        "\n",
        "            # Accumulate gradients for weight and bias updates\n",
        "            for layer in range(num_layers + 1, 0, -1):\n",
        "                gradient_accumulator['W' + str(layer)] += gradients['W' + str(layer)]\n",
        "                gradient_accumulator['b' + str(layer)] += gradients['b' + str(layer)]\n",
        "\n",
        "            num_processed += 1  # Increment processed sample counter\n",
        "\n",
        "            # Update weights and biases after processing a full batch\n",
        "            if num_processed % batch_size == 0:\n",
        "                time_step += 1  # Increment time step for bias correction\n",
        "                num_batches += 1  # Increment batch count\n",
        "\n",
        "                # Compute biased first moment estimate (momentum)\n",
        "                for layer in range(1, num_layers + 2):\n",
        "                    momentum['W' + str(layer)] = beta1 * prev_momentum['W' + str(layer)] + (1 - beta1) * gradient_accumulator['W' + str(layer)]\n",
        "                    momentum['b' + str(layer)] = beta1 * prev_momentum['b' + str(layer)] + (1 - beta1) * gradient_accumulator['b' + str(layer)]\n",
        "\n",
        "                # Compute bias-corrected first moment estimate\n",
        "                    momentum_corrected['W' + str(layer)] = momentum['W' + str(layer)] / (1 - np.power(beta1, time_step))\n",
        "                    momentum_corrected['b' + str(layer)] = momentum['b' + str(layer)] / (1 - np.power(beta1, time_step))\n",
        "\n",
        "                    # Update previous momentum values\n",
        "                    prev_momentum['W' + str(layer)] = momentum['W' + str(layer)]\n",
        "                    prev_momentum['b' + str(layer)] = momentum['b' + str(layer)]\n",
        "\n",
        "                # Compute biased second moment estimate (velocity)\n",
        "                    velocity['W' + str(layer)] = beta2 * prev_velocity['W' + str(layer)] + (1 - beta2) * (gradient_accumulator['W' + str(layer)] ** 2)\n",
        "                    velocity['b' + str(layer)] = beta2 * prev_velocity['b' + str(layer)] + (1 - beta2) * (gradient_accumulator['b' + str(layer)] ** 2)\n",
        "\n",
        "                # Compute bias-corrected second moment estimate\n",
        "                    velocity_corrected['W' + str(layer)] = velocity['W' + str(layer)] / (1 - np.power(beta2, time_step))\n",
        "                    velocity_corrected['b' + str(layer)] = velocity['b' + str(layer)] / (1 - np.power(beta2, time_step))\n",
        "\n",
        "                    # Update previous velocity values\n",
        "                    prev_velocity['W' + str(layer)] = velocity['W' + str(layer)]\n",
        "                    prev_velocity['b' + str(layer)] = velocity['b' + str(layer)]\n",
        "\n",
        "                # Apply Adam update rule to parameters\n",
        "                    params['W' + str(layer)] -= (learning_rate / (np.sqrt(velocity_corrected['W' + str(layer)] + epsilon))) * momentum_corrected['W' + str(layer)]\n",
        "                    params['b' + str(layer)] -= (learning_rate / (np.sqrt(velocity_corrected['b' + str(layer)] + epsilon))) * momentum_corrected['b' + str(layer)]\n",
        "\n",
        "        # Compute training accuracy after epoch completion\n",
        "        train_acc = compute_accuracy(X_train, Y_train, params, activation, num_layers, input_dim)\n",
        "\n",
        "        # Compute training loss using cross-entropy\n",
        "        _, _, train_preds = forward_propagation(X_train.T, params, activation, num_layers, input_dim)\n",
        "        train_loss = cross_entropy_loss(Y_train.T, train_preds)\n",
        "        losses.append(train_loss)  # Store loss for visualization\n",
        "\n",
        "        # Compute validation accuracy\n",
        "        val_acc = compute_accuracy(X_valid, Y_valid, params, activation, num_layers, input_dim)\n",
        "\n",
        "        # Compute validation loss using cross-entropy\n",
        "        _, _, val_preds = forward_propagation(X_valid.T, params, activation, num_layers, input_dim)\n",
        "        val_loss = cross_entropy_loss(Y_valid.T, val_preds)\n",
        "\n",
        "\n",
        "        # Print epoch summary\n",
        "        print(f\"Epoch {epoch+1}, Train_Loss: {train_loss:.4f}, Train_Accuracy: {train_acc * 100:.2f}%, Val_Loss: {val_loss:.4f}, Val_Accuracy: {val_acc * 100:.2f}%\")\n",
        "\n",
        "        # Log results using Weights & Biases\n",
        "        wandb.log({'train_loss': train_loss,\n",
        "                   'train_accuracy': train_acc * 100,\n",
        "                   'val_loss': val_loss,\n",
        "                   'val_accuracy': val_acc * 100,\n",
        "                   'epoch': epoch})\n",
        "\n",
        "    # Plot the loss function over epochs\n",
        "    plt.plot(losses)\n",
        "    plt.xlabel('Epoch')\n",
        "    plt.ylabel('Loss')\n",
        "    plt.title('Training Loss over Epochs')\n",
        "    plt.show()\n",
        "\n",
        "    return params  # Return the trained parameters\n"
      ],
      "metadata": {
        "id": "ZZ_P2ogMoWl_"
      },
      "execution_count": 34,
      "outputs": []
    },
    {
      "cell_type": "markdown",
      "metadata": {
        "id": "u3v8Sd5orhQB"
      },
      "source": [
        "NADAM"
      ]
    },
    {
      "cell_type": "code",
      "source": [
        "def nadam_optimizer(learning_rate, params, X_train, Y_train, X_valid, Y_valid, activation, epochs, num_layers, input_dim, batch_size, epsilon, beta1=0.9, beta2=0.99):\n",
        "    \"\"\"\n",
        "    Implements the Nadam (Nesterov-accelerated Adaptive Moment Estimation) optimization algorithm.\n",
        "\n",
        "    Args:\n",
        "        learning_rate: The step size for parameter updates.\n",
        "        params: Dictionary containing the neural network parameters.\n",
        "        X_train, Y_train: Training data and corresponding labels.\n",
        "        X_valid, Y_valid: Validation data and corresponding labels.\n",
        "        activation: Activation function used in the network.\n",
        "        epochs: Number of training iterations.\n",
        "        num_layers: Number of hidden layers.\n",
        "        input_dim: Input dimension of the data.\n",
        "        batch_size: Number of samples per batch update.\n",
        "        epsilon: Small value to avoid division by zero.\n",
        "        beta1: Decay rate for the first moment estimate (momentum term).\n",
        "        beta2: Decay rate for the second moment estimate (velocity term).\n",
        "\n",
        "    Returns:\n",
        "        Updated parameters after training.\n",
        "    \"\"\"\n",
        "    losses = []\n",
        "    num_samples = X_train.shape[0]\n",
        "\n",
        "    # Initialize velocity and momentum terms for all parameters\n",
        "    velocity = {key: np.zeros_like(value) for key, value in params.items()}\n",
        "    prev_velocity = {key: np.zeros_like(value) for key, value in params.items()}\n",
        "    velocity_corrected = {key: np.zeros_like(value) for key, value in params.items()}\n",
        "\n",
        "    momentum = {key: np.zeros_like(value) for key, value in params.items()}\n",
        "    prev_momentum = {key: np.zeros_like(value) for key, value in params.items()}\n",
        "    momentum_corrected = {key: np.zeros_like(value) for key, value in params.items()}\n",
        "\n",
        "    for epoch in range(epochs):\n",
        "        time_step = 0\n",
        "        num_processed = 0\n",
        "        num_batches = 0\n",
        "        epoch_loss = 0\n",
        "        gradient_accumulator = {key: np.zeros_like(value) for key, value in params.items()}\n",
        "\n",
        "        for sample_idx in range(num_samples):\n",
        "            # Forward pass for a single training sample\n",
        "            input_sample = X_train[sample_idx, :].reshape(-1, 1)\n",
        "            label_sample = Y_train[sample_idx, :].reshape(-1, 1)\n",
        "            gradients = backward_propagation(input_sample, label_sample, activation, num_layers, params, input_dim)\n",
        "\n",
        "            # Accumulate gradients over the batch\n",
        "            for layer in range(num_layers + 1, 0, -1):\n",
        "                gradient_accumulator['W' + str(layer)] += gradients['W' + str(layer)]\n",
        "                gradient_accumulator['b' + str(layer)] += gradients['b' + str(layer)]\n",
        "\n",
        "            num_processed += 1\n",
        "            if num_processed % batch_size == 0:\n",
        "                time_step += 1\n",
        "                num_batches += 1\n",
        "\n",
        "                # Compute momentum estimates\n",
        "                for layer in range(1, num_layers + 2):\n",
        "                    momentum['W' + str(layer)] = beta1 * prev_momentum['W' + str(layer)] + (1 - beta1) * gradient_accumulator['W' + str(layer)]\n",
        "                    momentum['b' + str(layer)] = beta1 * prev_momentum['b' + str(layer)] + (1 - beta1) * gradient_accumulator['b' + str(layer)]\n",
        "\n",
        "                # Bias-corrected momentum\n",
        "                    momentum_corrected['W' + str(layer)] = momentum['W' + str(layer)] / (1 - np.power(beta1, time_step))\n",
        "                    momentum_corrected['b' + str(layer)] = momentum['b' + str(layer)] / (1 - np.power(beta1, time_step))\n",
        "                    prev_momentum['W' + str(layer)] = momentum['W' + str(layer)]\n",
        "                    prev_momentum['b' + str(layer)] = momentum['b' + str(layer)]\n",
        "\n",
        "                # Compute velocity estimates\n",
        "                    velocity['W' + str(layer)] = beta2 * prev_velocity['W' + str(layer)] + (1 - beta2) * (gradient_accumulator['W' + str(layer)] ** 2)\n",
        "                    velocity['b' + str(layer)] = beta2 * prev_velocity['b' + str(layer)] + (1 - beta2) * (gradient_accumulator['b' + str(layer)] ** 2)\n",
        "\n",
        "                # Bias-corrected velocity\n",
        "                    velocity_corrected['W' + str(layer)] = velocity['W' + str(layer)] / (1 - np.power(beta2, time_step))\n",
        "                    velocity_corrected['b' + str(layer)] = velocity['b' + str(layer)] / (1 - np.power(beta2, time_step))\n",
        "                    prev_velocity['W' + str(layer)] = velocity['W' + str(layer)]\n",
        "                    prev_velocity['b' + str(layer)] = velocity['b' + str(layer)]\n",
        "\n",
        "                # Update parameters using Nadam update rule\n",
        "                    params['W'+str(layer)] -= (learning_rate/(np.sqrt(velocity_corrected['W'+str(layer)]) + epsilon)) * (beta1 * momentum_corrected['W'+str(layer)] + (1 - beta1) * gradient_accumulator['W'+str(layer)]/(1 - np.power(beta1, time_step)))\n",
        "                    params['b'+str(layer)] -= (learning_rate/(np.sqrt(velocity_corrected['b'+str(layer)]) + epsilon)) * (beta1 * momentum_corrected['b'+str(layer)] + (1 - beta1) * gradient_accumulator['b'+str(layer)]/(1 - np.power(beta1, time_step)))\n",
        "\n",
        "        # Compute training accuracy after epoch completion\n",
        "        train_acc = compute_accuracy(X_train, Y_train, params, activation, num_layers, input_dim)\n",
        "\n",
        "        # Compute training loss using cross-entropy\n",
        "        _, _, train_preds = forward_propagation(X_train.T, params, activation, num_layers, input_dim)\n",
        "        train_loss = cross_entropy_loss(Y_train.T, train_preds)\n",
        "        losses.append(train_loss)  # Store loss for visualization\n",
        "\n",
        "        # Compute validation accuracy\n",
        "        val_acc = compute_accuracy(X_valid, Y_valid, params, activation, num_layers, input_dim)\n",
        "\n",
        "        # Compute validation loss using cross-entropy\n",
        "        _, _, val_preds = forward_propagation(X_valid.T, params, activation, num_layers, input_dim)\n",
        "        val_loss = cross_entropy_loss(Y_valid.T, val_preds)\n",
        "\n",
        "\n",
        "        # Print epoch summary\n",
        "        print(f\"Epoch {epoch+1}, Train_Loss: {train_loss:.4f}, Train_Accuracy: {train_acc * 100:.2f}%, Val_Loss: {val_loss:.4f}, Val_Accuracy: {val_acc * 100:.2f}%\")\n",
        "\n",
        "        # Log results using Weights & Biases\n",
        "        wandb.log({'train_loss': train_loss,\n",
        "                   'train_accuracy': train_acc * 100,\n",
        "                   'val_loss': val_loss,\n",
        "                   'val_accuracy': val_acc * 100,\n",
        "                   'epoch': epoch})\n",
        "\n",
        "    # Plot the loss function over epochs\n",
        "    plt.plot(losses)\n",
        "    plt.xlabel('Epoch')\n",
        "    plt.ylabel('Loss')\n",
        "    plt.title('Training Loss over Epochs')\n",
        "    plt.show()\n",
        "\n",
        "    return params\n"
      ],
      "metadata": {
        "id": "cqRxDBg7rg2K"
      },
      "execution_count": 35,
      "outputs": []
    },
    {
      "cell_type": "markdown",
      "metadata": {
        "id": "jLgOByvFnYn_"
      },
      "source": [
        "## Question-4"
      ]
    },
    {
      "cell_type": "code",
      "source": [
        "# Load the Fashion-MNIST dataset\n",
        "(X_train, y_train), (X_test, y_test) = fashion_mnist.load_data()\n",
        "\n",
        "# Split the training data into training and validation sets (90% train, 10% validation)\n",
        "X_train, X_valid, y_train, y_valid = train_test_split(X_train, y_train, test_size=0.1, random_state=42)\n",
        "\n",
        "# Flatten the images (convert 28x28 matrices into 1D arrays of size 784)\n",
        "# Normalize pixel values to the range [0,1] by dividing by 255\n",
        "X_train = X_train.reshape(X_train.shape[0], -1) / 255\n",
        "X_valid = X_valid.reshape(X_valid.shape[0], -1) / 255\n",
        "X_test = X_test.reshape(X_test.shape[0], -1) / 255\n",
        "\n",
        "def one_hot_encod(arr):\n",
        "    \"\"\"\n",
        "    Convert class labels to one-hot encoded vectors.\n",
        "\n",
        "    Args:\n",
        "        arr (numpy array): Array of class labels (e.g., [0, 1, 2, ..., 9])\n",
        "\n",
        "    Returns:\n",
        "        numpy array: One-hot encoded matrix of shape (len(arr), 10)\n",
        "    \"\"\"\n",
        "    mat = np.zeros((len(arr), 10))  # Create a matrix of zeros with shape (num_samples, num_classes)\n",
        "    for i in range(len(arr)):\n",
        "        mat[i, arr[i]] = 1  # Set the corresponding class index to 1\n",
        "    return mat\n",
        "\n",
        "# Convert labels to one-hot encoding for training, validation, and test sets\n",
        "Y_train = one_hot_encod(y_train)\n",
        "Y_valid = one_hot_encod(y_valid)\n",
        "Y_test = one_hot_encod(y_test)\n"
      ],
      "metadata": {
        "id": "oxdvm2L5g2BZ"
      },
      "execution_count": 36,
      "outputs": []
    },
    {
      "cell_type": "code",
      "execution_count": 37,
      "metadata": {
        "id": "_HvXMdnhvOgl"
      },
      "outputs": [],
      "source": [
        "def train_model(learning_rate, X_train, Y_train, X_valid, Y_valid, optimizer, regularization, epochs, activation, num_layers, num_neurons,\n",
        "                weight_init, input_dim, output_dim, batch_size, epsilon, beta=0.9, beta1=0.9, beta2=0.99):\n",
        "    \"\"\"\n",
        "    Train a neural network model using the specified optimizer.\n",
        "\n",
        "    Parameters:\n",
        "    - learning_rate: The learning rate for optimization.\n",
        "    - X_train, Y_train: Training data and labels.\n",
        "    - X_valid, Y_valid: Validation data and labels.\n",
        "    - optimizer: The optimization algorithm to use ('sgd', 'momentum', 'nesterov', 'rmsprop', 'adam', 'nadam').\n",
        "    - regularization: Regularization term (not currently used in this function).\n",
        "    - epochs: Number of training epochs.\n",
        "    - activation: Activation function to use.\n",
        "    - num_layers: Number of hidden layers in the network.\n",
        "    - num_neurons: Number of neurons in each hidden layer.\n",
        "    - weight_init: Weight initialization method.\n",
        "    - input_dim: Input feature dimension.\n",
        "    - output_dim: Output dimension (number of classes for classification).\n",
        "    - batch_size: Number of samples per training batch.\n",
        "    - epsilon: Small constant to prevent division by zero.\n",
        "    - beta, beta1, beta2: Hyperparameters for momentum-based optimizers.\n",
        "\n",
        "    Returns:\n",
        "    - params: The trained model parameters.\n",
        "    \"\"\"\n",
        "\n",
        "    # Initialize the network with random weights based on the chosen weight initialization method\n",
        "    params = initialize_network(num_layers, num_neurons, weight_init, input_dim, output_dim)\n",
        "\n",
        "    # Select the appropriate optimizer and train the model\n",
        "    if optimizer == 'sgd':\n",
        "        # Stochastic Gradient Descent\n",
        "        params = stochastic_gd(learning_rate, X_train, Y_train, X_valid, Y_valid, epochs, activation, num_layers, num_neurons, weight_init, batch_size, input_dim, output_dim)\n",
        "    elif optimizer == 'momentum':\n",
        "        # SGD with Momentum\n",
        "        params = momentum_optimizer(learning_rate, params, X_train, Y_train, X_valid, Y_valid, activation, epochs, num_layers, input_dim, batch_size, beta=0.9)\n",
        "    elif optimizer == 'nesterov':\n",
        "        # Nesterov Accelerated Gradient (NAG)\n",
        "        params = nag_optimizer(learning_rate, params, X_train, Y_train, X_valid, Y_valid, activation, epochs, num_layers, input_dim, batch_size, beta=0.9)\n",
        "    elif optimizer == 'rmsprop':\n",
        "        # RMSprop optimizer\n",
        "        params = rmsprop_optimizer(learning_rate, params, X_train, Y_train, X_valid, Y_valid, activation, epochs, num_layers, input_dim, batch_size, epsilon=0.01, beta=0.9)\n",
        "    elif optimizer == 'adam':\n",
        "        # Adam optimizer (Adaptive Moment Estimation)\n",
        "        params = adam_optimizer(learning_rate, params, X_train, Y_train, X_valid, Y_valid, activation, epochs, num_layers, input_dim, batch_size, epsilon, beta1=0.9, beta2=0.99)\n",
        "    elif optimizer == 'nadam':\n",
        "        # Nadam optimizer (Adam with Nesterov momentum)\n",
        "        params = nadam_optimizer(learning_rate, params, X_train, Y_train, X_valid, Y_valid, activation, epochs, num_layers, input_dim, batch_size, epsilon, beta1=0.9, beta2=0.99)\n",
        "\n",
        "    return params\n"
      ]
    },
    {
      "cell_type": "code",
      "execution_count": 38,
      "metadata": {
        "colab": {
          "base_uri": "https://localhost:8080/"
        },
        "id": "gbx6inOjxPTn",
        "outputId": "387860d0-45f1-4875-f323-e1e7f118e684"
      },
      "outputs": [
        {
          "output_type": "stream",
          "name": "stdout",
          "text": [
            "Create sweep with ID: 87ojm6jj\n",
            "Sweep URL: https://wandb.ai/ma23m013-iit-madras/DA6401_Assignment-1/sweeps/87ojm6jj\n"
          ]
        }
      ],
      "source": [
        "# Define the hyperparameter sweep configuration\n",
        "sweep_config = {\n",
        "    'method': 'bayes',  # Use Bayesian optimization for efficient hyperparameter tuning\n",
        "    'name': 'sweep cross entropy now',  # Name of the sweep for tracking\n",
        "    'metric': {'name': 'Val_accuracy',  # The metric to optimize\n",
        "               'goal': 'maximize'},  # The objective is to maximize validation accuracy\n",
        "    'parameters': {\n",
        "        'epochs': {'values': [5, 10]},  # Number of training epochs\n",
        "        'num_layers': {'values': [3, 4, 5]},  # Number of hidden layers\n",
        "        'num_neurons': {'values': [32, 64, 128]},  # Neurons per layer\n",
        "        'regularization': {'values': [0, 0.0005, 0.5]},  # L2 regularization strength\n",
        "        'learning_rate': {'values': [1e-3, 1e-4]},  # Learning rate values\n",
        "        'optimizer': {'values': ['sgd', 'momentum', 'nesterov', 'rmsprop', 'adam', 'nadam']},  # Optimizers to test\n",
        "        'batch_size': {'values': [16, 32, 64]},  # Batch sizes for training\n",
        "        'weight_init': {'values': ['random', 'xavier']},  # Weight initialization methods\n",
        "        'activation': {'values': ['sigmoid', 'relu', 'tanh']}  # Activation functions to test\n",
        "    }\n",
        "}\n",
        "\n",
        "# Initialize the sweep and get the sweep ID\n",
        "sweep_id = wandb.sweep(sweep=sweep_config, project='DA6401_Assignment-1')\n",
        "# Creates a new sweep in the project 'DA6401_Assignment-1' and returns a sweep ID\n"
      ]
    },
    {
      "cell_type": "code",
      "source": [
        "def main():\n",
        "    '''\n",
        "    WandB calls the main function each time with a different combination of hyperparameters.\n",
        "\n",
        "    We retrieve these values using `wandb.config` and use them to train the model.\n",
        "    '''\n",
        "\n",
        "    with wandb.init() as run:\n",
        "        # Generate a unique run name based on the hyperparameter values\n",
        "        run_name = \"ac-\" + (wandb.config.activation) + \\\n",
        "                   \"_nn-\" + str(wandb.config.num_neurons) + \\\n",
        "                   \"_epc-\" + str(wandb.config.epochs) + \\\n",
        "                   \"_nl-\" + str(wandb.config.num_layers) + \\\n",
        "                   \"_reg-\" + str(wandb.config.regularization) + \\\n",
        "                   \"_lr-\" + str(wandb.config.learning_rate) + \\\n",
        "                   \"_opt-\" + str(wandb.config.optimizer) + \\\n",
        "                   \"_bs-\" + str(wandb.config.batch_size) + \\\n",
        "                   \"_wi-\" + str(wandb.config.weight_init)\n",
        "\n",
        "        # Assign the generated name to the WandB run\n",
        "        wandb.run.name = run_name\n",
        "\n",
        "        # Train the model with the current hyperparameter configuration\n",
        "        train_model(\n",
        "            wandb.config.learning_rate,  # Learning rate\n",
        "            X_train, Y_train,            # Training data\n",
        "            X_valid, Y_valid,            # Validation data\n",
        "            wandb.config.optimizer,      # Optimizer\n",
        "            wandb.config.regularization, # Regularization term\n",
        "            wandb.config.epochs,         # Number of epochs\n",
        "            wandb.config.activation,     # Activation function\n",
        "            wandb.config.num_layers,     # Number of hidden layers\n",
        "            wandb.config.num_neurons,    # Neurons per layer\n",
        "            wandb.config.weight_init,    # Weight initialization method\n",
        "            784, 10,                     # Input and output dimensions (Fashion MNIST: 784 input features, 10 classes)\n",
        "            wandb.config.batch_size,     # Batch size\n",
        "            epsilon=0.001,                # Small constant for numerical stability\n",
        "            beta=0.9, beta1=0.9, beta2=0.99  # Hyperparameters for momentum-based optimizers\n",
        "        )\n",
        "\n",
        "# Run the sweep agent to execute `main` function multiple times\n",
        "wandb.agent(sweep_id, function=main, count=6)  # Calls `main` function 6 times with different hyperparameter sets\n",
        "\n",
        "# Mark the end of the WandB run\n",
        "wandb.finish()\n"
      ],
      "metadata": {
        "colab": {
          "base_uri": "https://localhost:8080/",
          "height": 1000
        },
        "id": "sRNCbSfUk8DA",
        "outputId": "485bc61e-90b6-414f-bfa7-dfea92b5664f"
      },
      "execution_count": 39,
      "outputs": [
        {
          "metadata": {
            "tags": null
          },
          "name": "stderr",
          "output_type": "stream",
          "text": [
            "\u001b[34m\u001b[1mwandb\u001b[0m: Agent Starting Run: qj1xaz1p with config:\n",
            "\u001b[34m\u001b[1mwandb\u001b[0m: \tactivation: relu\n",
            "\u001b[34m\u001b[1mwandb\u001b[0m: \tbatch_size: 16\n",
            "\u001b[34m\u001b[1mwandb\u001b[0m: \tepochs: 10\n",
            "\u001b[34m\u001b[1mwandb\u001b[0m: \tlearning_rate: 0.001\n",
            "\u001b[34m\u001b[1mwandb\u001b[0m: \tnum_layers: 3\n",
            "\u001b[34m\u001b[1mwandb\u001b[0m: \tnum_neurons: 64\n",
            "\u001b[34m\u001b[1mwandb\u001b[0m: \toptimizer: momentum\n",
            "\u001b[34m\u001b[1mwandb\u001b[0m: \tregularization: 0.0005\n",
            "\u001b[34m\u001b[1mwandb\u001b[0m: \tweight_init: random\n"
          ]
        },
        {
          "metadata": {
            "tags": null
          },
          "name": "stdout",
          "output_type": "stream",
          "text": [
            "Epoch 9, Loss: 0.5412089571400704, Accuracy: 80.82777777777778\n"
          ]
        },
        {
          "metadata": {
            "tags": null
          },
          "name": "stderr",
          "output_type": "stream",
          "text": [
            "Traceback (most recent call last):\n",
            "  File \"<ipython-input-28-02e971811f88>\", line 24, in main\n",
            "    train_model(\n",
            "  File \"<ipython-input-24-c08ce9d49709>\", line 48, in train_model\n",
            "    params = nadam_optimizer(learning_rate, params, X_train, Y_train, X_valid, Y_valid, activation, epochs, num_layers, input_dim, batch_size, epsilon, beta1=0.9, beta2=0.99)\n",
            "             ^^^^^^^^^^^^^^^^^^^^^^^^^^^^^^^^^^^^^^^^^^^^^^^^^^^^^^^^^^^^^^^^^^^^^^^^^^^^^^^^^^^^^^^^^^^^^^^^^^^^^^^^^^^^^^^^^^^^^^^^^^^^^^^^^^^^^^^^^^^^^^^^^^^^^^^^^^^^^^^^^\n",
            "  File \"<ipython-input-22-6b5f72fec67d>\", line 91, in nadam_optimizer\n",
            "    wandb.log({'train_loss': epoch_loss})\n",
            "  File \"/usr/local/lib/python3.11/dist-packages/wandb/sdk/lib/preinit.py\", line 36, in preinit_wrapper\n",
            "    raise wandb.Error(f\"You must call wandb.init() before {name}()\")\n",
            "wandb.errors.errors.Error: You must call wandb.init() before wandb.log()\n"
          ]
        },
        {
          "data": {
            "text/html": [
              "Changes to your `wandb` environment variables will be ignored because your `wandb` session has already started. For more information on how to modify your settings with `wandb.init()` arguments, please refer to <a href='https://wandb.me/wandb-init' target=\"_blank\">the W&B docs</a>."
            ],
            "text/plain": [
              "<IPython.core.display.HTML object>"
            ]
          },
          "metadata": {},
          "output_type": "display_data"
        },
        {
          "data": {
            "text/html": [
              "Tracking run with wandb version 0.19.7"
            ],
            "text/plain": [
              "<IPython.core.display.HTML object>"
            ]
          },
          "metadata": {},
          "output_type": "display_data"
        },
        {
          "data": {
            "text/html": [
              "Run data is saved locally in <code>/content/wandb/run-20250310_071921-qj1xaz1p</code>"
            ],
            "text/plain": [
              "<IPython.core.display.HTML object>"
            ]
          },
          "metadata": {},
          "output_type": "display_data"
        },
        {
          "data": {
            "text/html": [
              "Syncing run <strong><a href='https://wandb.ai/ma23m013-iit-madras/DA6401_Assignment-1/runs/qj1xaz1p' target=\"_blank\">daily-sweep-1</a></strong> to <a href='https://wandb.ai/ma23m013-iit-madras/DA6401_Assignment-1' target=\"_blank\">Weights & Biases</a> (<a href='https://wandb.me/developer-guide' target=\"_blank\">docs</a>)<br>Sweep page: <a href='https://wandb.ai/ma23m013-iit-madras/DA6401_Assignment-1/sweeps/87ojm6jj' target=\"_blank\">https://wandb.ai/ma23m013-iit-madras/DA6401_Assignment-1/sweeps/87ojm6jj</a>"
            ],
            "text/plain": [
              "<IPython.core.display.HTML object>"
            ]
          },
          "metadata": {},
          "output_type": "display_data"
        },
        {
          "data": {
            "text/html": [
              " View project at <a href='https://wandb.ai/ma23m013-iit-madras/DA6401_Assignment-1' target=\"_blank\">https://wandb.ai/ma23m013-iit-madras/DA6401_Assignment-1</a>"
            ],
            "text/plain": [
              "<IPython.core.display.HTML object>"
            ]
          },
          "metadata": {},
          "output_type": "display_data"
        },
        {
          "data": {
            "text/html": [
              " View sweep at <a href='https://wandb.ai/ma23m013-iit-madras/DA6401_Assignment-1/sweeps/87ojm6jj' target=\"_blank\">https://wandb.ai/ma23m013-iit-madras/DA6401_Assignment-1/sweeps/87ojm6jj</a>"
            ],
            "text/plain": [
              "<IPython.core.display.HTML object>"
            ]
          },
          "metadata": {},
          "output_type": "display_data"
        },
        {
          "data": {
            "text/html": [
              " View run at <a href='https://wandb.ai/ma23m013-iit-madras/DA6401_Assignment-1/runs/qj1xaz1p' target=\"_blank\">https://wandb.ai/ma23m013-iit-madras/DA6401_Assignment-1/runs/qj1xaz1p</a>"
            ],
            "text/plain": [
              "<IPython.core.display.HTML object>"
            ]
          },
          "metadata": {},
          "output_type": "display_data"
        },
        {
          "metadata": {
            "tags": null
          },
          "name": "stdout",
          "output_type": "stream",
          "text": [
            "Epoch 1, Train_Loss: 31.0900, Train_Accuracy: 9.99%, Val_Loss: 31.0388, Val_Accuracy: 10.13%\n",
            "Epoch 2, Train_Loss: 31.0830, Train_Accuracy: 10.01%, Val_Loss: 31.1022, Val_Accuracy: 9.95%\n",
            "Epoch 3, Train_Loss: 31.1022, Train_Accuracy: 9.95%, Val_Loss: 30.9295, Val_Accuracy: 10.45%\n",
            "Epoch 4, Train_Loss: 31.0919, Train_Accuracy: 9.98%, Val_Loss: 31.0216, Val_Accuracy: 10.18%\n",
            "Epoch 5, Train_Loss: 31.0900, Train_Accuracy: 9.99%, Val_Loss: 31.0388, Val_Accuracy: 10.13%\n",
            "Epoch 6, Train_Loss: 31.0900, Train_Accuracy: 9.99%, Val_Loss: 31.0388, Val_Accuracy: 10.13%\n",
            "Epoch 7, Train_Loss: 31.0983, Train_Accuracy: 9.96%, Val_Loss: 30.9640, Val_Accuracy: 10.35%\n",
            "Epoch 8, Train_Loss: 31.0971, Train_Accuracy: 9.96%, Val_Loss: 30.9755, Val_Accuracy: 10.32%\n",
            "Epoch 9, Train_Loss: 31.0983, Train_Accuracy: 9.96%, Val_Loss: 30.9640, Val_Accuracy: 10.35%\n",
            "Epoch 10, Train_Loss: 31.0983, Train_Accuracy: 9.96%, Val_Loss: 30.9640, Val_Accuracy: 10.35%\n"
          ]
        },
        {
          "data": {
            "image/png": "[encoded data removed]",
            "text/plain": [
              "<Figure size 640x480 with 1 Axes>"
            ]
          },
          "metadata": {},
          "output_type": "display_data"
        },
        {
          "data": {
            "text/html": [],
            "text/plain": [
              "<IPython.core.display.HTML object>"
            ]
          },
          "metadata": {},
          "output_type": "display_data"
        },
        {
          "data": {
            "text/html": [
              "<br>    <style><br>        .wandb-row {<br>            display: flex;<br>            flex-direction: row;<br>            flex-wrap: wrap;<br>            justify-content: flex-start;<br>            width: 100%;<br>        }<br>        .wandb-col {<br>            display: flex;<br>            flex-direction: column;<br>            flex-basis: 100%;<br>            flex: 1;<br>            padding: 10px;<br>        }<br>    </style><br><div class=\"wandb-row\"><div class=\"wandb-col\"><h3>Run history:</h3><br/><table class=\"wandb\"><tr><td>epoch</td><td>▁▂▃▃▄▅▆▆▇█</td></tr><tr><td>train_accuracy</td><td>▅█▁▅▅▅▂▃▂▂</td></tr><tr><td>train_loss</td><td>▄▁█▄▄▄▇▆▇▇</td></tr><tr><td>val_accuracy</td><td>▄▁█▄▄▄▇▆▇▇</td></tr><tr><td>val_loss</td><td>▅█▁▅▅▅▂▃▂▂</td></tr></table><br/></div><div class=\"wandb-col\"><h3>Run summary:</h3><br/><table class=\"wandb\"><tr><td>epoch</td><td>9</td></tr><tr><td>train_accuracy</td><td>9.96111</td></tr><tr><td>train_loss</td><td>31.09833</td></tr><tr><td>val_accuracy</td><td>10.35</td></tr><tr><td>val_loss</td><td>30.96401</td></tr></table><br/></div></div>"
            ],
            "text/plain": [
              "<IPython.core.display.HTML object>"
            ]
          },
          "metadata": {},
          "output_type": "display_data"
        },
        {
          "data": {
            "text/html": [
              " View run <strong style=\"color:#cdcd00\">ac-relu_nn-64_epc-10_nl-3_reg-0.0005_lr-0.001_opt-momentum_bs-16_wi-random</strong> at: <a href='https://wandb.ai/ma23m013-iit-madras/DA6401_Assignment-1/runs/qj1xaz1p' target=\"_blank\">https://wandb.ai/ma23m013-iit-madras/DA6401_Assignment-1/runs/qj1xaz1p</a><br> View project at: <a href='https://wandb.ai/ma23m013-iit-madras/DA6401_Assignment-1' target=\"_blank\">https://wandb.ai/ma23m013-iit-madras/DA6401_Assignment-1</a><br>Synced 5 W&B file(s), 0 media file(s), 0 artifact file(s) and 0 other file(s)"
            ],
            "text/plain": [
              "<IPython.core.display.HTML object>"
            ]
          },
          "metadata": {},
          "output_type": "display_data"
        },
        {
          "data": {
            "text/html": [
              "Find logs at: <code>./wandb/run-20250310_071921-qj1xaz1p/logs</code>"
            ],
            "text/plain": [
              "<IPython.core.display.HTML object>"
            ]
          },
          "metadata": {},
          "output_type": "display_data"
        },
        {
          "metadata": {
            "tags": null
          },
          "name": "stderr",
          "output_type": "stream",
          "text": [
            "\u001b[34m\u001b[1mwandb\u001b[0m: Agent Starting Run: zhhesvft with config:\n",
            "\u001b[34m\u001b[1mwandb\u001b[0m: \tactivation: sigmoid\n",
            "\u001b[34m\u001b[1mwandb\u001b[0m: \tbatch_size: 64\n",
            "\u001b[34m\u001b[1mwandb\u001b[0m: \tepochs: 5\n",
            "\u001b[34m\u001b[1mwandb\u001b[0m: \tlearning_rate: 0.001\n",
            "\u001b[34m\u001b[1mwandb\u001b[0m: \tnum_layers: 5\n",
            "\u001b[34m\u001b[1mwandb\u001b[0m: \tnum_neurons: 32\n",
            "\u001b[34m\u001b[1mwandb\u001b[0m: \toptimizer: momentum\n",
            "\u001b[34m\u001b[1mwandb\u001b[0m: \tregularization: 0.5\n",
            "\u001b[34m\u001b[1mwandb\u001b[0m: \tweight_init: random\n"
          ]
        },
        {
          "data": {
            "text/html": [
              "Tracking run with wandb version 0.19.7"
            ],
            "text/plain": [
              "<IPython.core.display.HTML object>"
            ]
          },
          "metadata": {},
          "output_type": "display_data"
        },
        {
          "data": {
            "text/html": [
              "Run data is saved locally in <code>/content/wandb/run-20250310_072303-zhhesvft</code>"
            ],
            "text/plain": [
              "<IPython.core.display.HTML object>"
            ]
          },
          "metadata": {},
          "output_type": "display_data"
        },
        {
          "data": {
            "text/html": [
              "Syncing run <strong><a href='https://wandb.ai/ma23m013-iit-madras/DA6401_Assignment-1/runs/zhhesvft' target=\"_blank\">jolly-sweep-2</a></strong> to <a href='https://wandb.ai/ma23m013-iit-madras/DA6401_Assignment-1' target=\"_blank\">Weights & Biases</a> (<a href='https://wandb.me/developer-guide' target=\"_blank\">docs</a>)<br>Sweep page: <a href='https://wandb.ai/ma23m013-iit-madras/DA6401_Assignment-1/sweeps/87ojm6jj' target=\"_blank\">https://wandb.ai/ma23m013-iit-madras/DA6401_Assignment-1/sweeps/87ojm6jj</a>"
            ],
            "text/plain": [
              "<IPython.core.display.HTML object>"
            ]
          },
          "metadata": {},
          "output_type": "display_data"
        },
        {
          "data": {
            "text/html": [
              " View project at <a href='https://wandb.ai/ma23m013-iit-madras/DA6401_Assignment-1' target=\"_blank\">https://wandb.ai/ma23m013-iit-madras/DA6401_Assignment-1</a>"
            ],
            "text/plain": [
              "<IPython.core.display.HTML object>"
            ]
          },
          "metadata": {},
          "output_type": "display_data"
        },
        {
          "data": {
            "text/html": [
              " View sweep at <a href='https://wandb.ai/ma23m013-iit-madras/DA6401_Assignment-1/sweeps/87ojm6jj' target=\"_blank\">https://wandb.ai/ma23m013-iit-madras/DA6401_Assignment-1/sweeps/87ojm6jj</a>"
            ],
            "text/plain": [
              "<IPython.core.display.HTML object>"
            ]
          },
          "metadata": {},
          "output_type": "display_data"
        },
        {
          "data": {
            "text/html": [
              " View run at <a href='https://wandb.ai/ma23m013-iit-madras/DA6401_Assignment-1/runs/zhhesvft' target=\"_blank\">https://wandb.ai/ma23m013-iit-madras/DA6401_Assignment-1/runs/zhhesvft</a>"
            ],
            "text/plain": [
              "<IPython.core.display.HTML object>"
            ]
          },
          "metadata": {},
          "output_type": "display_data"
        },
        {
          "metadata": {
            "tags": null
          },
          "name": "stderr",
          "output_type": "stream",
          "text": [
            "<ipython-input-29-5cfe7f9ee071>:4: RuntimeWarning: overflow encountered in exp\n",
            "  return 1 / (1 + np.exp(-x))\n"
          ]
        },
        {
          "metadata": {
            "tags": null
          },
          "name": "stdout",
          "output_type": "stream",
          "text": [
            "Epoch 1, Train_Loss: 31.0830, Train_Accuracy: 10.01%, Val_Loss: 31.1022, Val_Accuracy: 9.95%\n",
            "Epoch 2, Train_Loss: 31.0785, Train_Accuracy: 10.02%, Val_Loss: 31.1425, Val_Accuracy: 9.83%\n",
            "Epoch 3, Train_Loss: 31.0529, Train_Accuracy: 10.09%, Val_Loss: 31.3727, Val_Accuracy: 9.17%\n",
            "Epoch 4, Train_Loss: 31.0785, Train_Accuracy: 10.02%, Val_Loss: 31.1425, Val_Accuracy: 9.83%\n",
            "Epoch 5, Train_Loss: 31.0785, Train_Accuracy: 10.02%, Val_Loss: 31.1425, Val_Accuracy: 9.83%\n"
          ]
        },
        {
          "data": {
            "image/png": "[encoded data removed]",
            "text/plain": [
              "<Figure size 640x480 with 1 Axes>"
            ]
          },
          "metadata": {},
          "output_type": "display_data"
        },
        {
          "data": {
            "text/html": [],
            "text/plain": [
              "<IPython.core.display.HTML object>"
            ]
          },
          "metadata": {},
          "output_type": "display_data"
        },
        {
          "data": {
            "text/html": [
              "<br>    <style><br>        .wandb-row {<br>            display: flex;<br>            flex-direction: row;<br>            flex-wrap: wrap;<br>            justify-content: flex-start;<br>            width: 100%;<br>        }<br>        .wandb-col {<br>            display: flex;<br>            flex-direction: column;<br>            flex-basis: 100%;<br>            flex: 1;<br>            padding: 10px;<br>        }<br>    </style><br><div class=\"wandb-row\"><div class=\"wandb-col\"><h3>Run history:</h3><br/><table class=\"wandb\"><tr><td>epoch</td><td>▁▃▅▆█</td></tr><tr><td>train_accuracy</td><td>▁▂█▂▂</td></tr><tr><td>train_loss</td><td>█▇▁▇▇</td></tr><tr><td>val_accuracy</td><td>█▇▁▇▇</td></tr><tr><td>val_loss</td><td>▁▂█▂▂</td></tr></table><br/></div><div class=\"wandb-col\"><h3>Run summary:</h3><br/><table class=\"wandb\"><tr><td>epoch</td><td>4</td></tr><tr><td>train_accuracy</td><td>10.01852</td></tr><tr><td>train_loss</td><td>31.0785</td></tr><tr><td>val_accuracy</td><td>9.83333</td></tr><tr><td>val_loss</td><td>31.14246</td></tr></table><br/></div></div>"
            ],
            "text/plain": [
              "<IPython.core.display.HTML object>"
            ]
          },
          "metadata": {},
          "output_type": "display_data"
        },
        {
          "data": {
            "text/html": [
              " View run <strong style=\"color:#cdcd00\">ac-sigmoid_nn-32_epc-5_nl-5_reg-0.5_lr-0.001_opt-momentum_bs-64_wi-random</strong> at: <a href='https://wandb.ai/ma23m013-iit-madras/DA6401_Assignment-1/runs/zhhesvft' target=\"_blank\">https://wandb.ai/ma23m013-iit-madras/DA6401_Assignment-1/runs/zhhesvft</a><br> View project at: <a href='https://wandb.ai/ma23m013-iit-madras/DA6401_Assignment-1' target=\"_blank\">https://wandb.ai/ma23m013-iit-madras/DA6401_Assignment-1</a><br>Synced 5 W&B file(s), 0 media file(s), 0 artifact file(s) and 0 other file(s)"
            ],
            "text/plain": [
              "<IPython.core.display.HTML object>"
            ]
          },
          "metadata": {},
          "output_type": "display_data"
        },
        {
          "data": {
            "text/html": [
              "Find logs at: <code>./wandb/run-20250310_072303-zhhesvft/logs</code>"
            ],
            "text/plain": [
              "<IPython.core.display.HTML object>"
            ]
          },
          "metadata": {},
          "output_type": "display_data"
        },
        {
          "metadata": {
            "tags": null
          },
          "name": "stderr",
          "output_type": "stream",
          "text": [
            "\u001b[34m\u001b[1mwandb\u001b[0m: Agent Starting Run: z6bk3jg5 with config:\n",
            "\u001b[34m\u001b[1mwandb\u001b[0m: \tactivation: relu\n",
            "\u001b[34m\u001b[1mwandb\u001b[0m: \tbatch_size: 32\n",
            "\u001b[34m\u001b[1mwandb\u001b[0m: \tepochs: 5\n",
            "\u001b[34m\u001b[1mwandb\u001b[0m: \tlearning_rate: 0.001\n",
            "\u001b[34m\u001b[1mwandb\u001b[0m: \tnum_layers: 4\n",
            "\u001b[34m\u001b[1mwandb\u001b[0m: \tnum_neurons: 64\n",
            "\u001b[34m\u001b[1mwandb\u001b[0m: \toptimizer: adam\n",
            "\u001b[34m\u001b[1mwandb\u001b[0m: \tregularization: 0\n",
            "\u001b[34m\u001b[1mwandb\u001b[0m: \tweight_init: random\n"
          ]
        },
        {
          "data": {
            "text/html": [
              "Tracking run with wandb version 0.19.7"
            ],
            "text/plain": [
              "<IPython.core.display.HTML object>"
            ]
          },
          "metadata": {},
          "output_type": "display_data"
        },
        {
          "data": {
            "text/html": [
              "Run data is saved locally in <code>/content/wandb/run-20250310_072556-z6bk3jg5</code>"
            ],
            "text/plain": [
              "<IPython.core.display.HTML object>"
            ]
          },
          "metadata": {},
          "output_type": "display_data"
        },
        {
          "data": {
            "text/html": [
              "Syncing run <strong><a href='https://wandb.ai/ma23m013-iit-madras/DA6401_Assignment-1/runs/z6bk3jg5' target=\"_blank\">colorful-sweep-3</a></strong> to <a href='https://wandb.ai/ma23m013-iit-madras/DA6401_Assignment-1' target=\"_blank\">Weights & Biases</a> (<a href='https://wandb.me/developer-guide' target=\"_blank\">docs</a>)<br>Sweep page: <a href='https://wandb.ai/ma23m013-iit-madras/DA6401_Assignment-1/sweeps/87ojm6jj' target=\"_blank\">https://wandb.ai/ma23m013-iit-madras/DA6401_Assignment-1/sweeps/87ojm6jj</a>"
            ],
            "text/plain": [
              "<IPython.core.display.HTML object>"
            ]
          },
          "metadata": {},
          "output_type": "display_data"
        },
        {
          "data": {
            "text/html": [
              " View project at <a href='https://wandb.ai/ma23m013-iit-madras/DA6401_Assignment-1' target=\"_blank\">https://wandb.ai/ma23m013-iit-madras/DA6401_Assignment-1</a>"
            ],
            "text/plain": [
              "<IPython.core.display.HTML object>"
            ]
          },
          "metadata": {},
          "output_type": "display_data"
        },
        {
          "data": {
            "text/html": [
              " View sweep at <a href='https://wandb.ai/ma23m013-iit-madras/DA6401_Assignment-1/sweeps/87ojm6jj' target=\"_blank\">https://wandb.ai/ma23m013-iit-madras/DA6401_Assignment-1/sweeps/87ojm6jj</a>"
            ],
            "text/plain": [
              "<IPython.core.display.HTML object>"
            ]
          },
          "metadata": {},
          "output_type": "display_data"
        },
        {
          "data": {
            "text/html": [
              " View run at <a href='https://wandb.ai/ma23m013-iit-madras/DA6401_Assignment-1/runs/z6bk3jg5' target=\"_blank\">https://wandb.ai/ma23m013-iit-madras/DA6401_Assignment-1/runs/z6bk3jg5</a>"
            ],
            "text/plain": [
              "<IPython.core.display.HTML object>"
            ]
          },
          "metadata": {},
          "output_type": "display_data"
        },
        {
          "metadata": {
            "tags": null
          },
          "name": "stderr",
          "output_type": "stream",
          "text": [
            "<ipython-input-29-5cfe7f9ee071>:31: RuntimeWarning: invalid value encountered in divide\n",
            "  return np.exp(x) / np.sum(np.exp(x), axis=0)\n"
          ]
        },
        {
          "metadata": {
            "tags": null
          },
          "name": "stdout",
          "output_type": "stream",
          "text": [
            "Epoch 1, Train_Loss: nan, Train_Accuracy: 18.89%, Val_Loss: nan, Val_Accuracy: 19.38%\n",
            "Epoch 2, Train_Loss: nan, Train_Accuracy: 10.68%, Val_Loss: nan, Val_Accuracy: 9.63%\n",
            "Epoch 3, Train_Loss: 2.3579, Train_Accuracy: 10.02%, Val_Loss: 2.3534, Val_Accuracy: 9.83%\n",
            "Epoch 4, Train_Loss: 2.3161, Train_Accuracy: 10.09%, Val_Loss: 2.3161, Val_Accuracy: 9.17%\n",
            "Epoch 5, Train_Loss: 2.3093, Train_Accuracy: 10.02%, Val_Loss: 2.3090, Val_Accuracy: 9.83%\n"
          ]
        },
        {
          "data": {
            "image/png": "[encoded data removed]",
            "text/plain": [
              "<Figure size 640x480 with 1 Axes>"
            ]
          },
          "metadata": {},
          "output_type": "display_data"
        },
        {
          "data": {
            "text/html": [],
            "text/plain": [
              "<IPython.core.display.HTML object>"
            ]
          },
          "metadata": {},
          "output_type": "display_data"
        },
        {
          "data": {
            "text/html": [
              "<br>    <style><br>        .wandb-row {<br>            display: flex;<br>            flex-direction: row;<br>            flex-wrap: wrap;<br>            justify-content: flex-start;<br>            width: 100%;<br>        }<br>        .wandb-col {<br>            display: flex;<br>            flex-direction: column;<br>            flex-basis: 100%;<br>            flex: 1;<br>            padding: 10px;<br>        }<br>    </style><br><div class=\"wandb-row\"><div class=\"wandb-col\"><h3>Run history:</h3><br/><table class=\"wandb\"><tr><td>epoch</td><td>▁▃▅▆█</td></tr><tr><td>train_accuracy</td><td>█▂▁▁▁</td></tr><tr><td>train_loss</td><td>  █▂▁</td></tr><tr><td>val_accuracy</td><td>█▁▁▁▁</td></tr><tr><td>val_loss</td><td>  █▂▁</td></tr></table><br/></div><div class=\"wandb-col\"><h3>Run summary:</h3><br/><table class=\"wandb\"><tr><td>epoch</td><td>4</td></tr><tr><td>train_accuracy</td><td>10.01852</td></tr><tr><td>train_loss</td><td>2.30928</td></tr><tr><td>val_accuracy</td><td>9.83333</td></tr><tr><td>val_loss</td><td>2.30904</td></tr></table><br/></div></div>"
            ],
            "text/plain": [
              "<IPython.core.display.HTML object>"
            ]
          },
          "metadata": {},
          "output_type": "display_data"
        },
        {
          "data": {
            "text/html": [
              " View run <strong style=\"color:#cdcd00\">ac-relu_nn-64_epc-5_nl-4_reg-0_lr-0.001_opt-adam_bs-32_wi-random</strong> at: <a href='https://wandb.ai/ma23m013-iit-madras/DA6401_Assignment-1/runs/z6bk3jg5' target=\"_blank\">https://wandb.ai/ma23m013-iit-madras/DA6401_Assignment-1/runs/z6bk3jg5</a><br> View project at: <a href='https://wandb.ai/ma23m013-iit-madras/DA6401_Assignment-1' target=\"_blank\">https://wandb.ai/ma23m013-iit-madras/DA6401_Assignment-1</a><br>Synced 5 W&B file(s), 0 media file(s), 0 artifact file(s) and 0 other file(s)"
            ],
            "text/plain": [
              "<IPython.core.display.HTML object>"
            ]
          },
          "metadata": {},
          "output_type": "display_data"
        },
        {
          "data": {
            "text/html": [
              "Find logs at: <code>./wandb/run-20250310_072556-z6bk3jg5/logs</code>"
            ],
            "text/plain": [
              "<IPython.core.display.HTML object>"
            ]
          },
          "metadata": {},
          "output_type": "display_data"
        },
        {
          "metadata": {
            "tags": null
          },
          "name": "stderr",
          "output_type": "stream",
          "text": [
            "\u001b[34m\u001b[1mwandb\u001b[0m: Agent Starting Run: tj1r96q8 with config:\n",
            "\u001b[34m\u001b[1mwandb\u001b[0m: \tactivation: tanh\n",
            "\u001b[34m\u001b[1mwandb\u001b[0m: \tbatch_size: 64\n",
            "\u001b[34m\u001b[1mwandb\u001b[0m: \tepochs: 10\n",
            "\u001b[34m\u001b[1mwandb\u001b[0m: \tlearning_rate: 0.0001\n",
            "\u001b[34m\u001b[1mwandb\u001b[0m: \tnum_layers: 3\n",
            "\u001b[34m\u001b[1mwandb\u001b[0m: \tnum_neurons: 32\n",
            "\u001b[34m\u001b[1mwandb\u001b[0m: \toptimizer: nadam\n",
            "\u001b[34m\u001b[1mwandb\u001b[0m: \tregularization: 0.0005\n",
            "\u001b[34m\u001b[1mwandb\u001b[0m: \tweight_init: xavier\n"
          ]
        },
        {
          "data": {
            "text/html": [
              "Tracking run with wandb version 0.19.7"
            ],
            "text/plain": [
              "<IPython.core.display.HTML object>"
            ]
          },
          "metadata": {},
          "output_type": "display_data"
        },
        {
          "data": {
            "text/html": [
              "Run data is saved locally in <code>/content/wandb/run-20250310_072808-tj1r96q8</code>"
            ],
            "text/plain": [
              "<IPython.core.display.HTML object>"
            ]
          },
          "metadata": {},
          "output_type": "display_data"
        },
        {
          "data": {
            "text/html": [
              "Syncing run <strong><a href='https://wandb.ai/ma23m013-iit-madras/DA6401_Assignment-1/runs/tj1r96q8' target=\"_blank\">curious-sweep-4</a></strong> to <a href='https://wandb.ai/ma23m013-iit-madras/DA6401_Assignment-1' target=\"_blank\">Weights & Biases</a> (<a href='https://wandb.me/developer-guide' target=\"_blank\">docs</a>)<br>Sweep page: <a href='https://wandb.ai/ma23m013-iit-madras/DA6401_Assignment-1/sweeps/87ojm6jj' target=\"_blank\">https://wandb.ai/ma23m013-iit-madras/DA6401_Assignment-1/sweeps/87ojm6jj</a>"
            ],
            "text/plain": [
              "<IPython.core.display.HTML object>"
            ]
          },
          "metadata": {},
          "output_type": "display_data"
        },
        {
          "data": {
            "text/html": [
              " View project at <a href='https://wandb.ai/ma23m013-iit-madras/DA6401_Assignment-1' target=\"_blank\">https://wandb.ai/ma23m013-iit-madras/DA6401_Assignment-1</a>"
            ],
            "text/plain": [
              "<IPython.core.display.HTML object>"
            ]
          },
          "metadata": {},
          "output_type": "display_data"
        },
        {
          "data": {
            "text/html": [
              " View sweep at <a href='https://wandb.ai/ma23m013-iit-madras/DA6401_Assignment-1/sweeps/87ojm6jj' target=\"_blank\">https://wandb.ai/ma23m013-iit-madras/DA6401_Assignment-1/sweeps/87ojm6jj</a>"
            ],
            "text/plain": [
              "<IPython.core.display.HTML object>"
            ]
          },
          "metadata": {},
          "output_type": "display_data"
        },
        {
          "data": {
            "text/html": [
              " View run at <a href='https://wandb.ai/ma23m013-iit-madras/DA6401_Assignment-1/runs/tj1r96q8' target=\"_blank\">https://wandb.ai/ma23m013-iit-madras/DA6401_Assignment-1/runs/tj1r96q8</a>"
            ],
            "text/plain": [
              "<IPython.core.display.HTML object>"
            ]
          },
          "metadata": {},
          "output_type": "display_data"
        },
        {
          "metadata": {
            "tags": null
          },
          "name": "stdout",
          "output_type": "stream",
          "text": [
            "Epoch 1, Train_Loss: 0.6006, Train_Accuracy: 79.09%, Val_Loss: 0.6138, Val_Accuracy: 78.10%\n",
            "Epoch 2, Train_Loss: 0.5539, Train_Accuracy: 81.06%, Val_Loss: 0.5593, Val_Accuracy: 80.47%\n",
            "Epoch 3, Train_Loss: 0.5446, Train_Accuracy: 80.63%, Val_Loss: 0.5486, Val_Accuracy: 80.08%\n",
            "Epoch 4, Train_Loss: 0.5352, Train_Accuracy: 81.09%, Val_Loss: 0.5529, Val_Accuracy: 80.47%\n",
            "Epoch 5, Train_Loss: 0.4859, Train_Accuracy: 82.94%, Val_Loss: 0.4915, Val_Accuracy: 82.53%\n",
            "Epoch 6, Train_Loss: 0.4536, Train_Accuracy: 83.94%, Val_Loss: 0.4628, Val_Accuracy: 83.40%\n",
            "Epoch 7, Train_Loss: 0.4299, Train_Accuracy: 84.64%, Val_Loss: 0.4465, Val_Accuracy: 83.75%\n",
            "Epoch 8, Train_Loss: 0.4226, Train_Accuracy: 84.79%, Val_Loss: 0.4356, Val_Accuracy: 84.22%\n",
            "Epoch 9, Train_Loss: 0.4405, Train_Accuracy: 84.65%, Val_Loss: 0.4704, Val_Accuracy: 83.85%\n",
            "Epoch 10, Train_Loss: 0.4413, Train_Accuracy: 84.31%, Val_Loss: 0.4609, Val_Accuracy: 83.83%\n"
          ]
        },
        {
          "data": {
            "image/png": "[encoded data removed]",
            "text/plain": [
              "<Figure size 640x480 with 1 Axes>"
            ]
          },
          "metadata": {},
          "output_type": "display_data"
        },
        {
          "data": {
            "text/html": [],
            "text/plain": [
              "<IPython.core.display.HTML object>"
            ]
          },
          "metadata": {},
          "output_type": "display_data"
        },
        {
          "data": {
            "text/html": [
              "<br>    <style><br>        .wandb-row {<br>            display: flex;<br>            flex-direction: row;<br>            flex-wrap: wrap;<br>            justify-content: flex-start;<br>            width: 100%;<br>        }<br>        .wandb-col {<br>            display: flex;<br>            flex-direction: column;<br>            flex-basis: 100%;<br>            flex: 1;<br>            padding: 10px;<br>        }<br>    </style><br><div class=\"wandb-row\"><div class=\"wandb-col\"><h3>Run history:</h3><br/><table class=\"wandb\"><tr><td>epoch</td><td>▁▂▃▃▄▅▆▆▇█</td></tr><tr><td>train_accuracy</td><td>▁▃▃▃▆▇███▇</td></tr><tr><td>train_loss</td><td>█▆▆▅▃▂▁▁▂▂</td></tr><tr><td>val_accuracy</td><td>▁▄▃▄▆▇▇███</td></tr><tr><td>val_loss</td><td>█▆▅▆▃▂▁▁▂▂</td></tr></table><br/></div><div class=\"wandb-col\"><h3>Run summary:</h3><br/><table class=\"wandb\"><tr><td>epoch</td><td>9</td></tr><tr><td>train_accuracy</td><td>84.30926</td></tr><tr><td>train_loss</td><td>0.44128</td></tr><tr><td>val_accuracy</td><td>83.83333</td></tr><tr><td>val_loss</td><td>0.4609</td></tr></table><br/></div></div>"
            ],
            "text/plain": [
              "<IPython.core.display.HTML object>"
            ]
          },
          "metadata": {},
          "output_type": "display_data"
        },
        {
          "data": {
            "text/html": [
              " View run <strong style=\"color:#cdcd00\">ac-tanh_nn-32_epc-10_nl-3_reg-0.0005_lr-0.0001_opt-nadam_bs-64_wi-xavier</strong> at: <a href='https://wandb.ai/ma23m013-iit-madras/DA6401_Assignment-1/runs/tj1r96q8' target=\"_blank\">https://wandb.ai/ma23m013-iit-madras/DA6401_Assignment-1/runs/tj1r96q8</a><br> View project at: <a href='https://wandb.ai/ma23m013-iit-madras/DA6401_Assignment-1' target=\"_blank\">https://wandb.ai/ma23m013-iit-madras/DA6401_Assignment-1</a><br>Synced 5 W&B file(s), 0 media file(s), 0 artifact file(s) and 0 other file(s)"
            ],
            "text/plain": [
              "<IPython.core.display.HTML object>"
            ]
          },
          "metadata": {},
          "output_type": "display_data"
        },
        {
          "data": {
            "text/html": [
              "Find logs at: <code>./wandb/run-20250310_072808-tj1r96q8/logs</code>"
            ],
            "text/plain": [
              "<IPython.core.display.HTML object>"
            ]
          },
          "metadata": {},
          "output_type": "display_data"
        },
        {
          "metadata": {
            "tags": null
          },
          "name": "stderr",
          "output_type": "stream",
          "text": [
            "\u001b[34m\u001b[1mwandb\u001b[0m: Agent Starting Run: jmsggw8j with config:\n",
            "\u001b[34m\u001b[1mwandb\u001b[0m: \tactivation: tanh\n",
            "\u001b[34m\u001b[1mwandb\u001b[0m: \tbatch_size: 16\n",
            "\u001b[34m\u001b[1mwandb\u001b[0m: \tepochs: 10\n",
            "\u001b[34m\u001b[1mwandb\u001b[0m: \tlearning_rate: 0.001\n",
            "\u001b[34m\u001b[1mwandb\u001b[0m: \tnum_layers: 4\n",
            "\u001b[34m\u001b[1mwandb\u001b[0m: \tnum_neurons: 64\n",
            "\u001b[34m\u001b[1mwandb\u001b[0m: \toptimizer: momentum\n",
            "\u001b[34m\u001b[1mwandb\u001b[0m: \tregularization: 0.5\n",
            "\u001b[34m\u001b[1mwandb\u001b[0m: \tweight_init: random\n"
          ]
        },
        {
          "data": {
            "text/html": [
              "Tracking run with wandb version 0.19.7"
            ],
            "text/plain": [
              "<IPython.core.display.HTML object>"
            ]
          },
          "metadata": {},
          "output_type": "display_data"
        },
        {
          "data": {
            "text/html": [
              "Run data is saved locally in <code>/content/wandb/run-20250310_073110-jmsggw8j</code>"
            ],
            "text/plain": [
              "<IPython.core.display.HTML object>"
            ]
          },
          "metadata": {},
          "output_type": "display_data"
        },
        {
          "data": {
            "text/html": [
              "Syncing run <strong><a href='https://wandb.ai/ma23m013-iit-madras/DA6401_Assignment-1/runs/jmsggw8j' target=\"_blank\">feasible-sweep-5</a></strong> to <a href='https://wandb.ai/ma23m013-iit-madras/DA6401_Assignment-1' target=\"_blank\">Weights & Biases</a> (<a href='https://wandb.me/developer-guide' target=\"_blank\">docs</a>)<br>Sweep page: <a href='https://wandb.ai/ma23m013-iit-madras/DA6401_Assignment-1/sweeps/87ojm6jj' target=\"_blank\">https://wandb.ai/ma23m013-iit-madras/DA6401_Assignment-1/sweeps/87ojm6jj</a>"
            ],
            "text/plain": [
              "<IPython.core.display.HTML object>"
            ]
          },
          "metadata": {},
          "output_type": "display_data"
        },
        {
          "data": {
            "text/html": [
              " View project at <a href='https://wandb.ai/ma23m013-iit-madras/DA6401_Assignment-1' target=\"_blank\">https://wandb.ai/ma23m013-iit-madras/DA6401_Assignment-1</a>"
            ],
            "text/plain": [
              "<IPython.core.display.HTML object>"
            ]
          },
          "metadata": {},
          "output_type": "display_data"
        },
        {
          "data": {
            "text/html": [
              " View sweep at <a href='https://wandb.ai/ma23m013-iit-madras/DA6401_Assignment-1/sweeps/87ojm6jj' target=\"_blank\">https://wandb.ai/ma23m013-iit-madras/DA6401_Assignment-1/sweeps/87ojm6jj</a>"
            ],
            "text/plain": [
              "<IPython.core.display.HTML object>"
            ]
          },
          "metadata": {},
          "output_type": "display_data"
        },
        {
          "data": {
            "text/html": [
              " View run at <a href='https://wandb.ai/ma23m013-iit-madras/DA6401_Assignment-1/runs/jmsggw8j' target=\"_blank\">https://wandb.ai/ma23m013-iit-madras/DA6401_Assignment-1/runs/jmsggw8j</a>"
            ],
            "text/plain": [
              "<IPython.core.display.HTML object>"
            ]
          },
          "metadata": {},
          "output_type": "display_data"
        },
        {
          "output_type": "stream",
          "name": "stdout",
          "text": [
            "Epoch 1, Train_Loss: 31.0900, Train_Accuracy: 9.99%, Val_Loss: 31.0388, Val_Accuracy: 10.13%\n",
            "Epoch 2, Train_Loss: 31.0971, Train_Accuracy: 9.96%, Val_Loss: 30.9755, Val_Accuracy: 10.32%\n",
            "Epoch 3, Train_Loss: 31.0766, Train_Accuracy: 10.02%, Val_Loss: 31.1597, Val_Accuracy: 9.78%\n",
            "Epoch 4, Train_Loss: 31.1022, Train_Accuracy: 9.95%, Val_Loss: 30.9295, Val_Accuracy: 10.45%\n",
            "Epoch 5, Train_Loss: 31.1022, Train_Accuracy: 9.95%, Val_Loss: 30.9295, Val_Accuracy: 10.45%\n",
            "Epoch 6, Train_Loss: 31.0830, Train_Accuracy: 10.01%, Val_Loss: 31.1022, Val_Accuracy: 9.95%\n",
            "Epoch 7, Train_Loss: 31.1022, Train_Accuracy: 9.95%, Val_Loss: 30.9295, Val_Accuracy: 10.45%\n",
            "Epoch 8, Train_Loss: 31.0971, Train_Accuracy: 9.96%, Val_Loss: 30.9755, Val_Accuracy: 10.32%\n",
            "Epoch 9, Train_Loss: 31.0830, Train_Accuracy: 10.01%, Val_Loss: 31.1022, Val_Accuracy: 9.95%\n",
            "Epoch 10, Train_Loss: 31.0983, Train_Accuracy: 9.96%, Val_Loss: 30.9640, Val_Accuracy: 10.35%\n"
          ]
        },
        {
          "output_type": "display_data",
          "data": {
            "text/plain": [
              "<Figure size 640x480 with 1 Axes>"
            ],
            "image/png": "[encoded data removed]"
          },
          "metadata": {}
        },
        {
          "output_type": "display_data",
          "data": {
            "text/plain": [
              "<IPython.core.display.HTML object>"
            ],
            "text/html": []
          },
          "metadata": {}
        },
        {
          "output_type": "display_data",
          "data": {
            "text/plain": [
              "<IPython.core.display.HTML object>"
            ],
            "text/html": [
              "<br>    <style><br>        .wandb-row {<br>            display: flex;<br>            flex-direction: row;<br>            flex-wrap: wrap;<br>            justify-content: flex-start;<br>            width: 100%;<br>        }<br>        .wandb-col {<br>            display: flex;<br>            flex-direction: column;<br>            flex-basis: 100%;<br>            flex: 1;<br>            padding: 10px;<br>        }<br>    </style><br><div class=\"wandb-row\"><div class=\"wandb-col\"><h3>Run history:</h3><br/><table class=\"wandb\"><tr><td>epoch</td><td>▁▂▃▃▄▅▆▆▇█</td></tr><tr><td>train_accuracy</td><td>▄▂█▁▁▆▁▂▆▂</td></tr><tr><td>train_loss</td><td>▅▇▁██▃█▇▃▇</td></tr><tr><td>val_accuracy</td><td>▅▇▁██▃█▇▃▇</td></tr><tr><td>val_loss</td><td>▄▂█▁▁▆▁▂▆▂</td></tr></table><br/></div><div class=\"wandb-col\"><h3>Run summary:</h3><br/><table class=\"wandb\"><tr><td>epoch</td><td>9</td></tr><tr><td>train_accuracy</td><td>9.96111</td></tr><tr><td>train_loss</td><td>31.09833</td></tr><tr><td>val_accuracy</td><td>10.35</td></tr><tr><td>val_loss</td><td>30.96401</td></tr></table><br/></div></div>"
            ]
          },
          "metadata": {}
        },
        {
          "output_type": "display_data",
          "data": {
            "text/plain": [
              "<IPython.core.display.HTML object>"
            ],
            "text/html": [
              " View run <strong style=\"color:#cdcd00\">ac-tanh_nn-64_epc-10_nl-4_reg-0.5_lr-0.001_opt-momentum_bs-16_wi-random</strong> at: <a href='https://wandb.ai/ma23m013-iit-madras/DA6401_Assignment-1/runs/jmsggw8j' target=\"_blank\">https://wandb.ai/ma23m013-iit-madras/DA6401_Assignment-1/runs/jmsggw8j</a><br> View project at: <a href='https://wandb.ai/ma23m013-iit-madras/DA6401_Assignment-1' target=\"_blank\">https://wandb.ai/ma23m013-iit-madras/DA6401_Assignment-1</a><br>Synced 5 W&B file(s), 0 media file(s), 0 artifact file(s) and 0 other file(s)"
            ]
          },
          "metadata": {}
        },
        {
          "output_type": "display_data",
          "data": {
            "text/plain": [
              "<IPython.core.display.HTML object>"
            ],
            "text/html": [
              "Find logs at: <code>./wandb/run-20250310_073110-jmsggw8j/logs</code>"
            ]
          },
          "metadata": {}
        },
        {
          "output_type": "stream",
          "name": "stderr",
          "text": [
            "\u001b[34m\u001b[1mwandb\u001b[0m: Agent Starting Run: 9if43pdw with config:\n",
            "\u001b[34m\u001b[1mwandb\u001b[0m: \tactivation: sigmoid\n",
            "\u001b[34m\u001b[1mwandb\u001b[0m: \tbatch_size: 16\n",
            "\u001b[34m\u001b[1mwandb\u001b[0m: \tepochs: 5\n",
            "\u001b[34m\u001b[1mwandb\u001b[0m: \tlearning_rate: 0.0001\n",
            "\u001b[34m\u001b[1mwandb\u001b[0m: \tnum_layers: 3\n",
            "\u001b[34m\u001b[1mwandb\u001b[0m: \tnum_neurons: 128\n",
            "\u001b[34m\u001b[1mwandb\u001b[0m: \toptimizer: adam\n",
            "\u001b[34m\u001b[1mwandb\u001b[0m: \tregularization: 0.0005\n",
            "\u001b[34m\u001b[1mwandb\u001b[0m: \tweight_init: xavier\n"
          ]
        },
        {
          "output_type": "display_data",
          "data": {
            "text/plain": [
              "<IPython.core.display.HTML object>"
            ],
            "text/html": [
              "Tracking run with wandb version 0.19.7"
            ]
          },
          "metadata": {}
        },
        {
          "output_type": "display_data",
          "data": {
            "text/plain": [
              "<IPython.core.display.HTML object>"
            ],
            "text/html": [
              "Run data is saved locally in <code>/content/wandb/run-20250310_073523-9if43pdw</code>"
            ]
          },
          "metadata": {}
        },
        {
          "output_type": "display_data",
          "data": {
            "text/plain": [
              "<IPython.core.display.HTML object>"
            ],
            "text/html": [
              "Syncing run <strong><a href='https://wandb.ai/ma23m013-iit-madras/DA6401_Assignment-1/runs/9if43pdw' target=\"_blank\">wild-sweep-6</a></strong> to <a href='https://wandb.ai/ma23m013-iit-madras/DA6401_Assignment-1' target=\"_blank\">Weights & Biases</a> (<a href='https://wandb.me/developer-guide' target=\"_blank\">docs</a>)<br>Sweep page: <a href='https://wandb.ai/ma23m013-iit-madras/DA6401_Assignment-1/sweeps/87ojm6jj' target=\"_blank\">https://wandb.ai/ma23m013-iit-madras/DA6401_Assignment-1/sweeps/87ojm6jj</a>"
            ]
          },
          "metadata": {}
        },
        {
          "output_type": "display_data",
          "data": {
            "text/plain": [
              "<IPython.core.display.HTML object>"
            ],
            "text/html": [
              " View project at <a href='https://wandb.ai/ma23m013-iit-madras/DA6401_Assignment-1' target=\"_blank\">https://wandb.ai/ma23m013-iit-madras/DA6401_Assignment-1</a>"
            ]
          },
          "metadata": {}
        },
        {
          "output_type": "display_data",
          "data": {
            "text/plain": [
              "<IPython.core.display.HTML object>"
            ],
            "text/html": [
              " View sweep at <a href='https://wandb.ai/ma23m013-iit-madras/DA6401_Assignment-1/sweeps/87ojm6jj' target=\"_blank\">https://wandb.ai/ma23m013-iit-madras/DA6401_Assignment-1/sweeps/87ojm6jj</a>"
            ]
          },
          "metadata": {}
        },
        {
          "output_type": "display_data",
          "data": {
            "text/plain": [
              "<IPython.core.display.HTML object>"
            ],
            "text/html": [
              " View run at <a href='https://wandb.ai/ma23m013-iit-madras/DA6401_Assignment-1/runs/9if43pdw' target=\"_blank\">https://wandb.ai/ma23m013-iit-madras/DA6401_Assignment-1/runs/9if43pdw</a>"
            ]
          },
          "metadata": {}
        },
        {
          "output_type": "stream",
          "name": "stdout",
          "text": [
            "Epoch 1, Train_Loss: 0.5299, Train_Accuracy: 81.06%, Val_Loss: 0.5443, Val_Accuracy: 79.87%\n",
            "Epoch 2, Train_Loss: 0.4436, Train_Accuracy: 83.77%, Val_Loss: 0.4519, Val_Accuracy: 83.27%\n",
            "Epoch 3, Train_Loss: 0.4221, Train_Accuracy: 84.76%, Val_Loss: 0.4427, Val_Accuracy: 84.08%\n",
            "Epoch 4, Train_Loss: 0.4293, Train_Accuracy: 84.40%, Val_Loss: 0.4523, Val_Accuracy: 83.38%\n",
            "Epoch 5, Train_Loss: 0.3989, Train_Accuracy: 85.37%, Val_Loss: 0.4231, Val_Accuracy: 84.48%\n"
          ]
        },
        {
          "output_type": "display_data",
          "data": {
            "text/plain": [
              "<Figure size 640x480 with 1 Axes>"
            ],
            "image/png": "[encoded data removed]"
          },
          "metadata": {}
        },
        {
          "output_type": "display_data",
          "data": {
            "text/plain": [
              "<IPython.core.display.HTML object>"
            ],
            "text/html": []
          },
          "metadata": {}
        },
        {
          "output_type": "display_data",
          "data": {
            "text/plain": [
              "<IPython.core.display.HTML object>"
            ],
            "text/html": [
              "<br>    <style><br>        .wandb-row {<br>            display: flex;<br>            flex-direction: row;<br>            flex-wrap: wrap;<br>            justify-content: flex-start;<br>            width: 100%;<br>        }<br>        .wandb-col {<br>            display: flex;<br>            flex-direction: column;<br>            flex-basis: 100%;<br>            flex: 1;<br>            padding: 10px;<br>        }<br>    </style><br><div class=\"wandb-row\"><div class=\"wandb-col\"><h3>Run history:</h3><br/><table class=\"wandb\"><tr><td>epoch</td><td>▁▃▅▆█</td></tr><tr><td>train_accuracy</td><td>▁▅▇▆█</td></tr><tr><td>train_loss</td><td>█▃▂▃▁</td></tr><tr><td>val_accuracy</td><td>▁▆▇▆█</td></tr><tr><td>val_loss</td><td>█▃▂▃▁</td></tr></table><br/></div><div class=\"wandb-col\"><h3>Run summary:</h3><br/><table class=\"wandb\"><tr><td>epoch</td><td>4</td></tr><tr><td>train_accuracy</td><td>85.37222</td></tr><tr><td>train_loss</td><td>0.39894</td></tr><tr><td>val_accuracy</td><td>84.48333</td></tr><tr><td>val_loss</td><td>0.42315</td></tr></table><br/></div></div>"
            ]
          },
          "metadata": {}
        },
        {
          "output_type": "display_data",
          "data": {
            "text/plain": [
              "<IPython.core.display.HTML object>"
            ],
            "text/html": [
              " View run <strong style=\"color:#cdcd00\">ac-sigmoid_nn-128_epc-5_nl-3_reg-0.0005_lr-0.0001_opt-adam_bs-16_wi-xavier</strong> at: <a href='https://wandb.ai/ma23m013-iit-madras/DA6401_Assignment-1/runs/9if43pdw' target=\"_blank\">https://wandb.ai/ma23m013-iit-madras/DA6401_Assignment-1/runs/9if43pdw</a><br> View project at: <a href='https://wandb.ai/ma23m013-iit-madras/DA6401_Assignment-1' target=\"_blank\">https://wandb.ai/ma23m013-iit-madras/DA6401_Assignment-1</a><br>Synced 5 W&B file(s), 0 media file(s), 0 artifact file(s) and 0 other file(s)"
            ]
          },
          "metadata": {}
        },
        {
          "output_type": "display_data",
          "data": {
            "text/plain": [
              "<IPython.core.display.HTML object>"
            ],
            "text/html": [
              "Find logs at: <code>./wandb/run-20250310_073523-9if43pdw/logs</code>"
            ]
          },
          "metadata": {}
        }
      ]
    },
    {
      "cell_type": "code",
      "source": [
        "# Define the hyperparameter sweep configuration\n",
        "sweep_config = {\n",
        "    'method': 'bayes',  # Use Bayesian optimization for efficient hyperparameter tuning\n",
        "    'name': 'sweep cross entropy later',  # Name of the sweep for tracking\n",
        "    'metric': {'name': 'Val_accuracy',  # The metric to optimize\n",
        "               'goal': 'maximize'},  # The objective is to maximize validation accuracy\n",
        "    'parameters': {\n",
        "        'epochs': {'values': [10]},  # Number of training epochs\n",
        "        'num_layers': {'values': [5]},  # Number of hidden layers\n",
        "        'num_neurons': {'values': [128]},  # Neurons per layer\n",
        "        'regularization': {'values': [0]},  # L2 regularization strength\n",
        "        'learning_rate': {'values': [1e-4]},  # Learning rate values\n",
        "        'optimizer': {'values': ['rmsprop', 'adam', 'nadam']},  # Optimizers to test\n",
        "        'batch_size': {'values': [64]},  # Batch sizes for training\n",
        "        'weight_init': {'values': ['xavier']},  # Weight initialization methods\n",
        "        'activation': {'values': ['sigmoid', 'relu', 'tanh']}  # Activation functions to test\n",
        "    }\n",
        "}\n",
        "\n",
        "# Initialize the sweep and get the sweep ID\n",
        "sweep_id = wandb.sweep(sweep=sweep_config, project='DA6401_Assignment-1')\n",
        "# Creates a new sweep in the project 'DA6401_Assignment-1' and returns a sweep ID\n"
      ],
      "metadata": {
        "colab": {
          "base_uri": "https://localhost:8080/"
        },
        "id": "xh_U9C3xk74e",
        "outputId": "ddd03fad-3fad-4bea-86dc-265e97c45267"
      },
      "execution_count": 40,
      "outputs": [
        {
          "output_type": "stream",
          "name": "stdout",
          "text": [
            "Create sweep with ID: j9nerrgq\n",
            "Sweep URL: https://wandb.ai/ma23m013-iit-madras/DA6401_Assignment-1/sweeps/j9nerrgq\n"
          ]
        }
      ]
    },
    {
      "cell_type": "code",
      "execution_count": 41,
      "metadata": {
        "id": "r-LsNoxEL6S9",
        "colab": {
          "base_uri": "https://localhost:8080/",
          "height": 1000
        },
        "outputId": "663b9cd2-2bfd-49c4-91cc-8d3a7e67debc"
      },
      "outputs": [
        {
          "output_type": "stream",
          "name": "stderr",
          "text": [
            "\u001b[34m\u001b[1mwandb\u001b[0m: Agent Starting Run: czxod8xe with config:\n",
            "\u001b[34m\u001b[1mwandb\u001b[0m: \tactivation: tanh\n",
            "\u001b[34m\u001b[1mwandb\u001b[0m: \tbatch_size: 64\n",
            "\u001b[34m\u001b[1mwandb\u001b[0m: \tepochs: 10\n",
            "\u001b[34m\u001b[1mwandb\u001b[0m: \tlearning_rate: 0.0001\n",
            "\u001b[34m\u001b[1mwandb\u001b[0m: \tnum_layers: 5\n",
            "\u001b[34m\u001b[1mwandb\u001b[0m: \tnum_neurons: 128\n",
            "\u001b[34m\u001b[1mwandb\u001b[0m: \toptimizer: nadam\n",
            "\u001b[34m\u001b[1mwandb\u001b[0m: \tregularization: 0\n",
            "\u001b[34m\u001b[1mwandb\u001b[0m: \tweight_init: xavier\n"
          ]
        },
        {
          "output_type": "display_data",
          "data": {
            "text/plain": [
              "<IPython.core.display.HTML object>"
            ],
            "text/html": [
              "Tracking run with wandb version 0.19.7"
            ]
          },
          "metadata": {}
        },
        {
          "output_type": "display_data",
          "data": {
            "text/plain": [
              "<IPython.core.display.HTML object>"
            ],
            "text/html": [
              "Run data is saved locally in <code>/content/wandb/run-20250310_074343-czxod8xe</code>"
            ]
          },
          "metadata": {}
        },
        {
          "output_type": "display_data",
          "data": {
            "text/plain": [
              "<IPython.core.display.HTML object>"
            ],
            "text/html": [
              "Syncing run <strong><a href='https://wandb.ai/ma23m013-iit-madras/DA6401_Assignment-1/runs/czxod8xe' target=\"_blank\">misty-sweep-1</a></strong> to <a href='https://wandb.ai/ma23m013-iit-madras/DA6401_Assignment-1' target=\"_blank\">Weights & Biases</a> (<a href='https://wandb.me/developer-guide' target=\"_blank\">docs</a>)<br>Sweep page: <a href='https://wandb.ai/ma23m013-iit-madras/DA6401_Assignment-1/sweeps/j9nerrgq' target=\"_blank\">https://wandb.ai/ma23m013-iit-madras/DA6401_Assignment-1/sweeps/j9nerrgq</a>"
            ]
          },
          "metadata": {}
        },
        {
          "output_type": "display_data",
          "data": {
            "text/plain": [
              "<IPython.core.display.HTML object>"
            ],
            "text/html": [
              " View project at <a href='https://wandb.ai/ma23m013-iit-madras/DA6401_Assignment-1' target=\"_blank\">https://wandb.ai/ma23m013-iit-madras/DA6401_Assignment-1</a>"
            ]
          },
          "metadata": {}
        },
        {
          "output_type": "display_data",
          "data": {
            "text/plain": [
              "<IPython.core.display.HTML object>"
            ],
            "text/html": [
              " View sweep at <a href='https://wandb.ai/ma23m013-iit-madras/DA6401_Assignment-1/sweeps/j9nerrgq' target=\"_blank\">https://wandb.ai/ma23m013-iit-madras/DA6401_Assignment-1/sweeps/j9nerrgq</a>"
            ]
          },
          "metadata": {}
        },
        {
          "output_type": "display_data",
          "data": {
            "text/plain": [
              "<IPython.core.display.HTML object>"
            ],
            "text/html": [
              " View run at <a href='https://wandb.ai/ma23m013-iit-madras/DA6401_Assignment-1/runs/czxod8xe' target=\"_blank\">https://wandb.ai/ma23m013-iit-madras/DA6401_Assignment-1/runs/czxod8xe</a>"
            ]
          },
          "metadata": {}
        },
        {
          "output_type": "stream",
          "name": "stdout",
          "text": [
            "Epoch 1, Train_Loss: 0.6887, Train_Accuracy: 73.10%, Val_Loss: 0.6921, Val_Accuracy: 72.70%\n",
            "Epoch 2, Train_Loss: 0.6202, Train_Accuracy: 77.37%, Val_Loss: 0.6335, Val_Accuracy: 76.83%\n",
            "Epoch 3, Train_Loss: 0.6320, Train_Accuracy: 76.46%, Val_Loss: 0.6433, Val_Accuracy: 75.33%\n",
            "Epoch 4, Train_Loss: 0.5738, Train_Accuracy: 79.87%, Val_Loss: 0.5946, Val_Accuracy: 79.00%\n",
            "Epoch 5, Train_Loss: 0.5283, Train_Accuracy: 81.45%, Val_Loss: 0.5386, Val_Accuracy: 80.68%\n",
            "Epoch 6, Train_Loss: 0.5666, Train_Accuracy: 80.18%, Val_Loss: 0.5830, Val_Accuracy: 79.50%\n",
            "Epoch 7, Train_Loss: 0.4827, Train_Accuracy: 83.06%, Val_Loss: 0.4969, Val_Accuracy: 82.40%\n",
            "Epoch 8, Train_Loss: 0.5099, Train_Accuracy: 82.19%, Val_Loss: 0.5421, Val_Accuracy: 81.12%\n",
            "Epoch 9, Train_Loss: 0.4872, Train_Accuracy: 83.10%, Val_Loss: 0.5225, Val_Accuracy: 82.12%\n",
            "Epoch 10, Train_Loss: 0.5777, Train_Accuracy: 79.39%, Val_Loss: 0.5987, Val_Accuracy: 78.93%\n"
          ]
        },
        {
          "output_type": "display_data",
          "data": {
            "text/plain": [
              "<Figure size 640x480 with 1 Axes>"
            ],
            "image/png": "[encoded data removed]"
          },
          "metadata": {}
        },
        {
          "output_type": "display_data",
          "data": {
            "text/plain": [
              "<IPython.core.display.HTML object>"
            ],
            "text/html": []
          },
          "metadata": {}
        },
        {
          "output_type": "display_data",
          "data": {
            "text/plain": [
              "<IPython.core.display.HTML object>"
            ],
            "text/html": [
              "<br>    <style><br>        .wandb-row {<br>            display: flex;<br>            flex-direction: row;<br>            flex-wrap: wrap;<br>            justify-content: flex-start;<br>            width: 100%;<br>        }<br>        .wandb-col {<br>            display: flex;<br>            flex-direction: column;<br>            flex-basis: 100%;<br>            flex: 1;<br>            padding: 10px;<br>        }<br>    </style><br><div class=\"wandb-row\"><div class=\"wandb-col\"><h3>Run history:</h3><br/><table class=\"wandb\"><tr><td>epoch</td><td>▁▂▃▃▄▅▆▆▇█</td></tr><tr><td>train_accuracy</td><td>▁▄▃▆▇▆█▇█▅</td></tr><tr><td>train_loss</td><td>█▆▆▄▃▄▁▂▁▄</td></tr><tr><td>val_accuracy</td><td>▁▄▃▆▇▆█▇█▅</td></tr><tr><td>val_loss</td><td>█▆▆▅▂▄▁▃▂▅</td></tr></table><br/></div><div class=\"wandb-col\"><h3>Run summary:</h3><br/><table class=\"wandb\"><tr><td>epoch</td><td>9</td></tr><tr><td>train_accuracy</td><td>79.38889</td></tr><tr><td>train_loss</td><td>0.57772</td></tr><tr><td>val_accuracy</td><td>78.93333</td></tr><tr><td>val_loss</td><td>0.59873</td></tr></table><br/></div></div>"
            ]
          },
          "metadata": {}
        },
        {
          "output_type": "display_data",
          "data": {
            "text/plain": [
              "<IPython.core.display.HTML object>"
            ],
            "text/html": [
              " View run <strong style=\"color:#cdcd00\">ac-tanh_nn-128_epc-10_nl-5_reg-0_lr-0.0001_opt-nadam_bs-64_wi-xavier</strong> at: <a href='https://wandb.ai/ma23m013-iit-madras/DA6401_Assignment-1/runs/czxod8xe' target=\"_blank\">https://wandb.ai/ma23m013-iit-madras/DA6401_Assignment-1/runs/czxod8xe</a><br> View project at: <a href='https://wandb.ai/ma23m013-iit-madras/DA6401_Assignment-1' target=\"_blank\">https://wandb.ai/ma23m013-iit-madras/DA6401_Assignment-1</a><br>Synced 5 W&B file(s), 0 media file(s), 0 artifact file(s) and 0 other file(s)"
            ]
          },
          "metadata": {}
        },
        {
          "output_type": "display_data",
          "data": {
            "text/plain": [
              "<IPython.core.display.HTML object>"
            ],
            "text/html": [
              "Find logs at: <code>./wandb/run-20250310_074343-czxod8xe/logs</code>"
            ]
          },
          "metadata": {}
        },
        {
          "output_type": "stream",
          "name": "stderr",
          "text": [
            "\u001b[34m\u001b[1mwandb\u001b[0m: Agent Starting Run: 42xffhmv with config:\n",
            "\u001b[34m\u001b[1mwandb\u001b[0m: \tactivation: relu\n",
            "\u001b[34m\u001b[1mwandb\u001b[0m: \tbatch_size: 64\n",
            "\u001b[34m\u001b[1mwandb\u001b[0m: \tepochs: 10\n",
            "\u001b[34m\u001b[1mwandb\u001b[0m: \tlearning_rate: 0.0001\n",
            "\u001b[34m\u001b[1mwandb\u001b[0m: \tnum_layers: 5\n",
            "\u001b[34m\u001b[1mwandb\u001b[0m: \tnum_neurons: 128\n",
            "\u001b[34m\u001b[1mwandb\u001b[0m: \toptimizer: rmsprop\n",
            "\u001b[34m\u001b[1mwandb\u001b[0m: \tregularization: 0\n",
            "\u001b[34m\u001b[1mwandb\u001b[0m: \tweight_init: xavier\n"
          ]
        },
        {
          "output_type": "display_data",
          "data": {
            "text/plain": [
              "<IPython.core.display.HTML object>"
            ],
            "text/html": [
              "Tracking run with wandb version 0.19.7"
            ]
          },
          "metadata": {}
        },
        {
          "output_type": "display_data",
          "data": {
            "text/plain": [
              "<IPython.core.display.HTML object>"
            ],
            "text/html": [
              "Run data is saved locally in <code>/content/wandb/run-20250310_075113-42xffhmv</code>"
            ]
          },
          "metadata": {}
        },
        {
          "output_type": "display_data",
          "data": {
            "text/plain": [
              "<IPython.core.display.HTML object>"
            ],
            "text/html": [
              "Syncing run <strong><a href='https://wandb.ai/ma23m013-iit-madras/DA6401_Assignment-1/runs/42xffhmv' target=\"_blank\">fresh-sweep-2</a></strong> to <a href='https://wandb.ai/ma23m013-iit-madras/DA6401_Assignment-1' target=\"_blank\">Weights & Biases</a> (<a href='https://wandb.me/developer-guide' target=\"_blank\">docs</a>)<br>Sweep page: <a href='https://wandb.ai/ma23m013-iit-madras/DA6401_Assignment-1/sweeps/j9nerrgq' target=\"_blank\">https://wandb.ai/ma23m013-iit-madras/DA6401_Assignment-1/sweeps/j9nerrgq</a>"
            ]
          },
          "metadata": {}
        },
        {
          "output_type": "display_data",
          "data": {
            "text/plain": [
              "<IPython.core.display.HTML object>"
            ],
            "text/html": [
              " View project at <a href='https://wandb.ai/ma23m013-iit-madras/DA6401_Assignment-1' target=\"_blank\">https://wandb.ai/ma23m013-iit-madras/DA6401_Assignment-1</a>"
            ]
          },
          "metadata": {}
        },
        {
          "output_type": "display_data",
          "data": {
            "text/plain": [
              "<IPython.core.display.HTML object>"
            ],
            "text/html": [
              " View sweep at <a href='https://wandb.ai/ma23m013-iit-madras/DA6401_Assignment-1/sweeps/j9nerrgq' target=\"_blank\">https://wandb.ai/ma23m013-iit-madras/DA6401_Assignment-1/sweeps/j9nerrgq</a>"
            ]
          },
          "metadata": {}
        },
        {
          "output_type": "display_data",
          "data": {
            "text/plain": [
              "<IPython.core.display.HTML object>"
            ],
            "text/html": [
              " View run at <a href='https://wandb.ai/ma23m013-iit-madras/DA6401_Assignment-1/runs/42xffhmv' target=\"_blank\">https://wandb.ai/ma23m013-iit-madras/DA6401_Assignment-1/runs/42xffhmv</a>"
            ]
          },
          "metadata": {}
        },
        {
          "output_type": "stream",
          "name": "stdout",
          "text": [
            "Epoch 1, Train_Loss: 0.4171, Train_Accuracy: 85.00%, Val_Loss: 0.4333, Val_Accuracy: 84.27%\n",
            "Epoch 2, Train_Loss: 0.3506, Train_Accuracy: 87.28%, Val_Loss: 0.3799, Val_Accuracy: 86.57%\n",
            "Epoch 3, Train_Loss: 0.3413, Train_Accuracy: 87.45%, Val_Loss: 0.3746, Val_Accuracy: 86.65%\n",
            "Epoch 4, Train_Loss: 0.3350, Train_Accuracy: 87.53%, Val_Loss: 0.3714, Val_Accuracy: 86.87%\n",
            "Epoch 5, Train_Loss: 0.3139, Train_Accuracy: 88.46%, Val_Loss: 0.3635, Val_Accuracy: 87.12%\n",
            "Epoch 6, Train_Loss: 0.3141, Train_Accuracy: 88.48%, Val_Loss: 0.3683, Val_Accuracy: 86.68%\n",
            "Epoch 7, Train_Loss: 0.3134, Train_Accuracy: 88.66%, Val_Loss: 0.3727, Val_Accuracy: 87.12%\n",
            "Epoch 8, Train_Loss: 0.3020, Train_Accuracy: 88.63%, Val_Loss: 0.3601, Val_Accuracy: 86.92%\n",
            "Epoch 9, Train_Loss: 0.2924, Train_Accuracy: 89.58%, Val_Loss: 0.3522, Val_Accuracy: 87.72%\n",
            "Epoch 10, Train_Loss: 0.2915, Train_Accuracy: 89.48%, Val_Loss: 0.3642, Val_Accuracy: 87.18%\n"
          ]
        },
        {
          "output_type": "display_data",
          "data": {
            "text/plain": [
              "<Figure size 640x480 with 1 Axes>"
            ],
            "image/png": "[encoded data removed]"
          },
          "metadata": {}
        },
        {
          "output_type": "display_data",
          "data": {
            "text/plain": [
              "<IPython.core.display.HTML object>"
            ],
            "text/html": []
          },
          "metadata": {}
        },
        {
          "output_type": "display_data",
          "data": {
            "text/plain": [
              "<IPython.core.display.HTML object>"
            ],
            "text/html": [
              "<br>    <style><br>        .wandb-row {<br>            display: flex;<br>            flex-direction: row;<br>            flex-wrap: wrap;<br>            justify-content: flex-start;<br>            width: 100%;<br>        }<br>        .wandb-col {<br>            display: flex;<br>            flex-direction: column;<br>            flex-basis: 100%;<br>            flex: 1;<br>            padding: 10px;<br>        }<br>    </style><br><div class=\"wandb-row\"><div class=\"wandb-col\"><h3>Run history:</h3><br/><table class=\"wandb\"><tr><td>epoch</td><td>▁▂▃▃▄▅▆▆▇█</td></tr><tr><td>train_accuracy</td><td>▁▄▅▅▆▆▇▇██</td></tr><tr><td>train_loss</td><td>█▄▄▃▂▂▂▂▁▁</td></tr><tr><td>val_accuracy</td><td>▁▆▆▆▇▆▇▆█▇</td></tr><tr><td>val_loss</td><td>█▃▃▃▂▂▃▂▁▂</td></tr></table><br/></div><div class=\"wandb-col\"><h3>Run summary:</h3><br/><table class=\"wandb\"><tr><td>epoch</td><td>9</td></tr><tr><td>train_accuracy</td><td>89.48148</td></tr><tr><td>train_loss</td><td>0.29146</td></tr><tr><td>val_accuracy</td><td>87.18333</td></tr><tr><td>val_loss</td><td>0.36423</td></tr></table><br/></div></div>"
            ]
          },
          "metadata": {}
        },
        {
          "output_type": "display_data",
          "data": {
            "text/plain": [
              "<IPython.core.display.HTML object>"
            ],
            "text/html": [
              " View run <strong style=\"color:#cdcd00\">ac-relu_nn-128_epc-10_nl-5_reg-0_lr-0.0001_opt-rmsprop_bs-64_wi-xavier</strong> at: <a href='https://wandb.ai/ma23m013-iit-madras/DA6401_Assignment-1/runs/42xffhmv' target=\"_blank\">https://wandb.ai/ma23m013-iit-madras/DA6401_Assignment-1/runs/42xffhmv</a><br> View project at: <a href='https://wandb.ai/ma23m013-iit-madras/DA6401_Assignment-1' target=\"_blank\">https://wandb.ai/ma23m013-iit-madras/DA6401_Assignment-1</a><br>Synced 5 W&B file(s), 0 media file(s), 0 artifact file(s) and 0 other file(s)"
            ]
          },
          "metadata": {}
        },
        {
          "output_type": "display_data",
          "data": {
            "text/plain": [
              "<IPython.core.display.HTML object>"
            ],
            "text/html": [
              "Find logs at: <code>./wandb/run-20250310_075113-42xffhmv/logs</code>"
            ]
          },
          "metadata": {}
        },
        {
          "output_type": "stream",
          "name": "stderr",
          "text": [
            "\u001b[34m\u001b[1mwandb\u001b[0m: Agent Starting Run: ph64i5md with config:\n",
            "\u001b[34m\u001b[1mwandb\u001b[0m: \tactivation: relu\n",
            "\u001b[34m\u001b[1mwandb\u001b[0m: \tbatch_size: 64\n",
            "\u001b[34m\u001b[1mwandb\u001b[0m: \tepochs: 10\n",
            "\u001b[34m\u001b[1mwandb\u001b[0m: \tlearning_rate: 0.0001\n",
            "\u001b[34m\u001b[1mwandb\u001b[0m: \tnum_layers: 5\n",
            "\u001b[34m\u001b[1mwandb\u001b[0m: \tnum_neurons: 128\n",
            "\u001b[34m\u001b[1mwandb\u001b[0m: \toptimizer: rmsprop\n",
            "\u001b[34m\u001b[1mwandb\u001b[0m: \tregularization: 0\n",
            "\u001b[34m\u001b[1mwandb\u001b[0m: \tweight_init: xavier\n"
          ]
        },
        {
          "output_type": "display_data",
          "data": {
            "text/plain": [
              "<IPython.core.display.HTML object>"
            ],
            "text/html": [
              "Tracking run with wandb version 0.19.7"
            ]
          },
          "metadata": {}
        },
        {
          "output_type": "display_data",
          "data": {
            "text/plain": [
              "<IPython.core.display.HTML object>"
            ],
            "text/html": [
              "Run data is saved locally in <code>/content/wandb/run-20250310_075814-ph64i5md</code>"
            ]
          },
          "metadata": {}
        },
        {
          "output_type": "display_data",
          "data": {
            "text/plain": [
              "<IPython.core.display.HTML object>"
            ],
            "text/html": [
              "Syncing run <strong><a href='https://wandb.ai/ma23m013-iit-madras/DA6401_Assignment-1/runs/ph64i5md' target=\"_blank\">sleek-sweep-3</a></strong> to <a href='https://wandb.ai/ma23m013-iit-madras/DA6401_Assignment-1' target=\"_blank\">Weights & Biases</a> (<a href='https://wandb.me/developer-guide' target=\"_blank\">docs</a>)<br>Sweep page: <a href='https://wandb.ai/ma23m013-iit-madras/DA6401_Assignment-1/sweeps/j9nerrgq' target=\"_blank\">https://wandb.ai/ma23m013-iit-madras/DA6401_Assignment-1/sweeps/j9nerrgq</a>"
            ]
          },
          "metadata": {}
        },
        {
          "output_type": "display_data",
          "data": {
            "text/plain": [
              "<IPython.core.display.HTML object>"
            ],
            "text/html": [
              " View project at <a href='https://wandb.ai/ma23m013-iit-madras/DA6401_Assignment-1' target=\"_blank\">https://wandb.ai/ma23m013-iit-madras/DA6401_Assignment-1</a>"
            ]
          },
          "metadata": {}
        },
        {
          "output_type": "display_data",
          "data": {
            "text/plain": [
              "<IPython.core.display.HTML object>"
            ],
            "text/html": [
              " View sweep at <a href='https://wandb.ai/ma23m013-iit-madras/DA6401_Assignment-1/sweeps/j9nerrgq' target=\"_blank\">https://wandb.ai/ma23m013-iit-madras/DA6401_Assignment-1/sweeps/j9nerrgq</a>"
            ]
          },
          "metadata": {}
        },
        {
          "output_type": "display_data",
          "data": {
            "text/plain": [
              "<IPython.core.display.HTML object>"
            ],
            "text/html": [
              " View run at <a href='https://wandb.ai/ma23m013-iit-madras/DA6401_Assignment-1/runs/ph64i5md' target=\"_blank\">https://wandb.ai/ma23m013-iit-madras/DA6401_Assignment-1/runs/ph64i5md</a>"
            ]
          },
          "metadata": {}
        },
        {
          "output_type": "stream",
          "name": "stdout",
          "text": [
            "Epoch 1, Train_Loss: 0.4304, Train_Accuracy: 84.29%, Val_Loss: 0.4502, Val_Accuracy: 83.38%\n",
            "Epoch 2, Train_Loss: 0.3601, Train_Accuracy: 87.01%, Val_Loss: 0.3893, Val_Accuracy: 86.58%\n",
            "Epoch 3, Train_Loss: 0.3451, Train_Accuracy: 87.15%, Val_Loss: 0.3801, Val_Accuracy: 86.58%\n",
            "Epoch 4, Train_Loss: 0.3396, Train_Accuracy: 87.54%, Val_Loss: 0.3727, Val_Accuracy: 86.73%\n",
            "Epoch 5, Train_Loss: 0.3163, Train_Accuracy: 88.45%, Val_Loss: 0.3723, Val_Accuracy: 86.73%\n",
            "Epoch 6, Train_Loss: 0.3037, Train_Accuracy: 88.84%, Val_Loss: 0.3558, Val_Accuracy: 87.25%\n",
            "Epoch 7, Train_Loss: 0.3023, Train_Accuracy: 88.93%, Val_Loss: 0.3537, Val_Accuracy: 87.40%\n",
            "Epoch 8, Train_Loss: 0.3020, Train_Accuracy: 88.86%, Val_Loss: 0.3677, Val_Accuracy: 86.75%\n",
            "Epoch 9, Train_Loss: 0.2974, Train_Accuracy: 89.20%, Val_Loss: 0.3617, Val_Accuracy: 87.52%\n",
            "Epoch 10, Train_Loss: 0.2896, Train_Accuracy: 89.58%, Val_Loss: 0.3443, Val_Accuracy: 88.07%\n"
          ]
        },
        {
          "output_type": "display_data",
          "data": {
            "text/plain": [
              "<Figure size 640x480 with 1 Axes>"
            ],
            "image/png": "[encoded data removed]"
          },
          "metadata": {}
        },
        {
          "output_type": "display_data",
          "data": {
            "text/plain": [
              "<IPython.core.display.HTML object>"
            ],
            "text/html": []
          },
          "metadata": {}
        },
        {
          "output_type": "display_data",
          "data": {
            "text/plain": [
              "<IPython.core.display.HTML object>"
            ],
            "text/html": [
              "<br>    <style><br>        .wandb-row {<br>            display: flex;<br>            flex-direction: row;<br>            flex-wrap: wrap;<br>            justify-content: flex-start;<br>            width: 100%;<br>        }<br>        .wandb-col {<br>            display: flex;<br>            flex-direction: column;<br>            flex-basis: 100%;<br>            flex: 1;<br>            padding: 10px;<br>        }<br>    </style><br><div class=\"wandb-row\"><div class=\"wandb-col\"><h3>Run history:</h3><br/><table class=\"wandb\"><tr><td>epoch</td><td>▁▂▃▃▄▅▆▆▇█</td></tr><tr><td>train_accuracy</td><td>▁▅▅▅▇▇▇▇██</td></tr><tr><td>train_loss</td><td>█▅▄▃▂▂▂▂▁▁</td></tr><tr><td>val_accuracy</td><td>▁▆▆▆▆▇▇▆▇█</td></tr><tr><td>val_loss</td><td>█▄▃▃▃▂▂▃▂▁</td></tr></table><br/></div><div class=\"wandb-col\"><h3>Run summary:</h3><br/><table class=\"wandb\"><tr><td>epoch</td><td>9</td></tr><tr><td>train_accuracy</td><td>89.57593</td></tr><tr><td>train_loss</td><td>0.28964</td></tr><tr><td>val_accuracy</td><td>88.06667</td></tr><tr><td>val_loss</td><td>0.34427</td></tr></table><br/></div></div>"
            ]
          },
          "metadata": {}
        },
        {
          "output_type": "display_data",
          "data": {
            "text/plain": [
              "<IPython.core.display.HTML object>"
            ],
            "text/html": [
              " View run <strong style=\"color:#cdcd00\">ac-relu_nn-128_epc-10_nl-5_reg-0_lr-0.0001_opt-rmsprop_bs-64_wi-xavier</strong> at: <a href='https://wandb.ai/ma23m013-iit-madras/DA6401_Assignment-1/runs/ph64i5md' target=\"_blank\">https://wandb.ai/ma23m013-iit-madras/DA6401_Assignment-1/runs/ph64i5md</a><br> View project at: <a href='https://wandb.ai/ma23m013-iit-madras/DA6401_Assignment-1' target=\"_blank\">https://wandb.ai/ma23m013-iit-madras/DA6401_Assignment-1</a><br>Synced 5 W&B file(s), 0 media file(s), 0 artifact file(s) and 0 other file(s)"
            ]
          },
          "metadata": {}
        },
        {
          "output_type": "display_data",
          "data": {
            "text/plain": [
              "<IPython.core.display.HTML object>"
            ],
            "text/html": [
              "Find logs at: <code>./wandb/run-20250310_075814-ph64i5md/logs</code>"
            ]
          },
          "metadata": {}
        },
        {
          "output_type": "stream",
          "name": "stderr",
          "text": [
            "\u001b[34m\u001b[1mwandb\u001b[0m: Agent Starting Run: jnf5fo8h with config:\n",
            "\u001b[34m\u001b[1mwandb\u001b[0m: \tactivation: relu\n",
            "\u001b[34m\u001b[1mwandb\u001b[0m: \tbatch_size: 64\n",
            "\u001b[34m\u001b[1mwandb\u001b[0m: \tepochs: 10\n",
            "\u001b[34m\u001b[1mwandb\u001b[0m: \tlearning_rate: 0.0001\n",
            "\u001b[34m\u001b[1mwandb\u001b[0m: \tnum_layers: 5\n",
            "\u001b[34m\u001b[1mwandb\u001b[0m: \tnum_neurons: 128\n",
            "\u001b[34m\u001b[1mwandb\u001b[0m: \toptimizer: nadam\n",
            "\u001b[34m\u001b[1mwandb\u001b[0m: \tregularization: 0\n",
            "\u001b[34m\u001b[1mwandb\u001b[0m: \tweight_init: xavier\n"
          ]
        },
        {
          "output_type": "display_data",
          "data": {
            "text/plain": [
              "<IPython.core.display.HTML object>"
            ],
            "text/html": [
              "Tracking run with wandb version 0.19.7"
            ]
          },
          "metadata": {}
        },
        {
          "output_type": "display_data",
          "data": {
            "text/plain": [
              "<IPython.core.display.HTML object>"
            ],
            "text/html": [
              "Run data is saved locally in <code>/content/wandb/run-20250310_080525-jnf5fo8h</code>"
            ]
          },
          "metadata": {}
        },
        {
          "output_type": "display_data",
          "data": {
            "text/plain": [
              "<IPython.core.display.HTML object>"
            ],
            "text/html": [
              "Syncing run <strong><a href='https://wandb.ai/ma23m013-iit-madras/DA6401_Assignment-1/runs/jnf5fo8h' target=\"_blank\">dry-sweep-4</a></strong> to <a href='https://wandb.ai/ma23m013-iit-madras/DA6401_Assignment-1' target=\"_blank\">Weights & Biases</a> (<a href='https://wandb.me/developer-guide' target=\"_blank\">docs</a>)<br>Sweep page: <a href='https://wandb.ai/ma23m013-iit-madras/DA6401_Assignment-1/sweeps/j9nerrgq' target=\"_blank\">https://wandb.ai/ma23m013-iit-madras/DA6401_Assignment-1/sweeps/j9nerrgq</a>"
            ]
          },
          "metadata": {}
        },
        {
          "output_type": "display_data",
          "data": {
            "text/plain": [
              "<IPython.core.display.HTML object>"
            ],
            "text/html": [
              " View project at <a href='https://wandb.ai/ma23m013-iit-madras/DA6401_Assignment-1' target=\"_blank\">https://wandb.ai/ma23m013-iit-madras/DA6401_Assignment-1</a>"
            ]
          },
          "metadata": {}
        },
        {
          "output_type": "display_data",
          "data": {
            "text/plain": [
              "<IPython.core.display.HTML object>"
            ],
            "text/html": [
              " View sweep at <a href='https://wandb.ai/ma23m013-iit-madras/DA6401_Assignment-1/sweeps/j9nerrgq' target=\"_blank\">https://wandb.ai/ma23m013-iit-madras/DA6401_Assignment-1/sweeps/j9nerrgq</a>"
            ]
          },
          "metadata": {}
        },
        {
          "output_type": "display_data",
          "data": {
            "text/plain": [
              "<IPython.core.display.HTML object>"
            ],
            "text/html": [
              " View run at <a href='https://wandb.ai/ma23m013-iit-madras/DA6401_Assignment-1/runs/jnf5fo8h' target=\"_blank\">https://wandb.ai/ma23m013-iit-madras/DA6401_Assignment-1/runs/jnf5fo8h</a>"
            ]
          },
          "metadata": {}
        },
        {
          "output_type": "stream",
          "name": "stdout",
          "text": [
            "Epoch 1, Train_Loss: 0.7639, Train_Accuracy: 71.35%, Val_Loss: 0.7714, Val_Accuracy: 71.03%\n",
            "Epoch 2, Train_Loss: 0.5978, Train_Accuracy: 77.68%, Val_Loss: 0.6099, Val_Accuracy: 76.98%\n",
            "Epoch 3, Train_Loss: 0.5538, Train_Accuracy: 79.48%, Val_Loss: 0.5756, Val_Accuracy: 78.98%\n",
            "Epoch 4, Train_Loss: 0.5196, Train_Accuracy: 81.47%, Val_Loss: 0.5364, Val_Accuracy: 81.12%\n",
            "Epoch 5, Train_Loss: 0.4468, Train_Accuracy: 84.18%, Val_Loss: 0.4803, Val_Accuracy: 83.25%\n",
            "Epoch 6, Train_Loss: 0.4815, Train_Accuracy: 82.21%, Val_Loss: 0.5048, Val_Accuracy: 81.40%\n",
            "Epoch 7, Train_Loss: 0.4599, Train_Accuracy: 83.25%, Val_Loss: 0.4818, Val_Accuracy: 82.57%\n",
            "Epoch 8, Train_Loss: 0.4468, Train_Accuracy: 84.17%, Val_Loss: 0.4694, Val_Accuracy: 83.72%\n",
            "Epoch 9, Train_Loss: 0.4096, Train_Accuracy: 85.26%, Val_Loss: 0.4395, Val_Accuracy: 84.45%\n",
            "Epoch 10, Train_Loss: 0.4184, Train_Accuracy: 84.42%, Val_Loss: 0.4475, Val_Accuracy: 83.60%\n"
          ]
        },
        {
          "output_type": "display_data",
          "data": {
            "text/plain": [
              "<Figure size 640x480 with 1 Axes>"
            ],
            "image/png": "[encoded data removed]"
          },
          "metadata": {}
        },
        {
          "output_type": "display_data",
          "data": {
            "text/plain": [
              "<IPython.core.display.HTML object>"
            ],
            "text/html": []
          },
          "metadata": {}
        },
        {
          "output_type": "display_data",
          "data": {
            "text/plain": [
              "<IPython.core.display.HTML object>"
            ],
            "text/html": [
              "<br>    <style><br>        .wandb-row {<br>            display: flex;<br>            flex-direction: row;<br>            flex-wrap: wrap;<br>            justify-content: flex-start;<br>            width: 100%;<br>        }<br>        .wandb-col {<br>            display: flex;<br>            flex-direction: column;<br>            flex-basis: 100%;<br>            flex: 1;<br>            padding: 10px;<br>        }<br>    </style><br><div class=\"wandb-row\"><div class=\"wandb-col\"><h3>Run history:</h3><br/><table class=\"wandb\"><tr><td>epoch</td><td>▁▂▃▃▄▅▆▆▇█</td></tr><tr><td>train_accuracy</td><td>▁▄▅▆▇▆▇▇██</td></tr><tr><td>train_loss</td><td>█▅▄▃▂▂▂▂▁▁</td></tr><tr><td>val_accuracy</td><td>▁▄▅▆▇▆▇███</td></tr><tr><td>val_loss</td><td>█▅▄▃▂▂▂▂▁▁</td></tr></table><br/></div><div class=\"wandb-col\"><h3>Run summary:</h3><br/><table class=\"wandb\"><tr><td>epoch</td><td>9</td></tr><tr><td>train_accuracy</td><td>84.42407</td></tr><tr><td>train_loss</td><td>0.41839</td></tr><tr><td>val_accuracy</td><td>83.6</td></tr><tr><td>val_loss</td><td>0.44745</td></tr></table><br/></div></div>"
            ]
          },
          "metadata": {}
        },
        {
          "output_type": "display_data",
          "data": {
            "text/plain": [
              "<IPython.core.display.HTML object>"
            ],
            "text/html": [
              " View run <strong style=\"color:#cdcd00\">ac-relu_nn-128_epc-10_nl-5_reg-0_lr-0.0001_opt-nadam_bs-64_wi-xavier</strong> at: <a href='https://wandb.ai/ma23m013-iit-madras/DA6401_Assignment-1/runs/jnf5fo8h' target=\"_blank\">https://wandb.ai/ma23m013-iit-madras/DA6401_Assignment-1/runs/jnf5fo8h</a><br> View project at: <a href='https://wandb.ai/ma23m013-iit-madras/DA6401_Assignment-1' target=\"_blank\">https://wandb.ai/ma23m013-iit-madras/DA6401_Assignment-1</a><br>Synced 5 W&B file(s), 0 media file(s), 0 artifact file(s) and 0 other file(s)"
            ]
          },
          "metadata": {}
        },
        {
          "output_type": "display_data",
          "data": {
            "text/plain": [
              "<IPython.core.display.HTML object>"
            ],
            "text/html": [
              "Find logs at: <code>./wandb/run-20250310_080525-jnf5fo8h/logs</code>"
            ]
          },
          "metadata": {}
        },
        {
          "output_type": "stream",
          "name": "stderr",
          "text": [
            "\u001b[34m\u001b[1mwandb\u001b[0m: Agent Starting Run: m21d2jcb with config:\n",
            "\u001b[34m\u001b[1mwandb\u001b[0m: \tactivation: relu\n",
            "\u001b[34m\u001b[1mwandb\u001b[0m: \tbatch_size: 64\n",
            "\u001b[34m\u001b[1mwandb\u001b[0m: \tepochs: 10\n",
            "\u001b[34m\u001b[1mwandb\u001b[0m: \tlearning_rate: 0.0001\n",
            "\u001b[34m\u001b[1mwandb\u001b[0m: \tnum_layers: 5\n",
            "\u001b[34m\u001b[1mwandb\u001b[0m: \tnum_neurons: 128\n",
            "\u001b[34m\u001b[1mwandb\u001b[0m: \toptimizer: adam\n",
            "\u001b[34m\u001b[1mwandb\u001b[0m: \tregularization: 0\n",
            "\u001b[34m\u001b[1mwandb\u001b[0m: \tweight_init: xavier\n"
          ]
        },
        {
          "output_type": "display_data",
          "data": {
            "text/plain": [
              "<IPython.core.display.HTML object>"
            ],
            "text/html": [
              "Tracking run with wandb version 0.19.7"
            ]
          },
          "metadata": {}
        },
        {
          "output_type": "display_data",
          "data": {
            "text/plain": [
              "<IPython.core.display.HTML object>"
            ],
            "text/html": [
              "Run data is saved locally in <code>/content/wandb/run-20250310_081231-m21d2jcb</code>"
            ]
          },
          "metadata": {}
        },
        {
          "output_type": "display_data",
          "data": {
            "text/plain": [
              "<IPython.core.display.HTML object>"
            ],
            "text/html": [
              "Syncing run <strong><a href='https://wandb.ai/ma23m013-iit-madras/DA6401_Assignment-1/runs/m21d2jcb' target=\"_blank\">sweet-sweep-5</a></strong> to <a href='https://wandb.ai/ma23m013-iit-madras/DA6401_Assignment-1' target=\"_blank\">Weights & Biases</a> (<a href='https://wandb.me/developer-guide' target=\"_blank\">docs</a>)<br>Sweep page: <a href='https://wandb.ai/ma23m013-iit-madras/DA6401_Assignment-1/sweeps/j9nerrgq' target=\"_blank\">https://wandb.ai/ma23m013-iit-madras/DA6401_Assignment-1/sweeps/j9nerrgq</a>"
            ]
          },
          "metadata": {}
        },
        {
          "output_type": "display_data",
          "data": {
            "text/plain": [
              "<IPython.core.display.HTML object>"
            ],
            "text/html": [
              " View project at <a href='https://wandb.ai/ma23m013-iit-madras/DA6401_Assignment-1' target=\"_blank\">https://wandb.ai/ma23m013-iit-madras/DA6401_Assignment-1</a>"
            ]
          },
          "metadata": {}
        },
        {
          "output_type": "display_data",
          "data": {
            "text/plain": [
              "<IPython.core.display.HTML object>"
            ],
            "text/html": [
              " View sweep at <a href='https://wandb.ai/ma23m013-iit-madras/DA6401_Assignment-1/sweeps/j9nerrgq' target=\"_blank\">https://wandb.ai/ma23m013-iit-madras/DA6401_Assignment-1/sweeps/j9nerrgq</a>"
            ]
          },
          "metadata": {}
        },
        {
          "output_type": "display_data",
          "data": {
            "text/plain": [
              "<IPython.core.display.HTML object>"
            ],
            "text/html": [
              " View run at <a href='https://wandb.ai/ma23m013-iit-madras/DA6401_Assignment-1/runs/m21d2jcb' target=\"_blank\">https://wandb.ai/ma23m013-iit-madras/DA6401_Assignment-1/runs/m21d2jcb</a>"
            ]
          },
          "metadata": {}
        },
        {
          "output_type": "stream",
          "name": "stdout",
          "text": [
            "Epoch 1, Train_Loss: 0.9167, Train_Accuracy: 67.29%, Val_Loss: 0.9389, Val_Accuracy: 65.70%\n",
            "Epoch 2, Train_Loss: 0.6539, Train_Accuracy: 75.40%, Val_Loss: 0.6586, Val_Accuracy: 75.25%\n",
            "Epoch 3, Train_Loss: 0.6115, Train_Accuracy: 78.01%, Val_Loss: 0.6231, Val_Accuracy: 77.60%\n",
            "Epoch 4, Train_Loss: 0.4855, Train_Accuracy: 82.43%, Val_Loss: 0.5068, Val_Accuracy: 81.45%\n",
            "Epoch 5, Train_Loss: 0.5237, Train_Accuracy: 81.70%, Val_Loss: 0.5385, Val_Accuracy: 81.13%\n",
            "Epoch 6, Train_Loss: 0.4817, Train_Accuracy: 83.21%, Val_Loss: 0.5040, Val_Accuracy: 82.08%\n",
            "Epoch 7, Train_Loss: 0.4794, Train_Accuracy: 83.64%, Val_Loss: 0.4957, Val_Accuracy: 83.02%\n",
            "Epoch 8, Train_Loss: 0.4178, Train_Accuracy: 84.69%, Val_Loss: 0.4480, Val_Accuracy: 84.07%\n",
            "Epoch 9, Train_Loss: 0.4450, Train_Accuracy: 83.60%, Val_Loss: 0.4730, Val_Accuracy: 82.50%\n",
            "Epoch 10, Train_Loss: 0.4317, Train_Accuracy: 84.96%, Val_Loss: 0.4603, Val_Accuracy: 84.48%\n"
          ]
        },
        {
          "output_type": "display_data",
          "data": {
            "text/plain": [
              "<Figure size 640x480 with 1 Axes>"
            ],
            "image/png": "[encoded data removed]"
          },
          "metadata": {}
        },
        {
          "output_type": "display_data",
          "data": {
            "text/plain": [
              "<IPython.core.display.HTML object>"
            ],
            "text/html": []
          },
          "metadata": {}
        },
        {
          "output_type": "display_data",
          "data": {
            "text/plain": [
              "<IPython.core.display.HTML object>"
            ],
            "text/html": [
              "<br>    <style><br>        .wandb-row {<br>            display: flex;<br>            flex-direction: row;<br>            flex-wrap: wrap;<br>            justify-content: flex-start;<br>            width: 100%;<br>        }<br>        .wandb-col {<br>            display: flex;<br>            flex-direction: column;<br>            flex-basis: 100%;<br>            flex: 1;<br>            padding: 10px;<br>        }<br>    </style><br><div class=\"wandb-row\"><div class=\"wandb-col\"><h3>Run history:</h3><br/><table class=\"wandb\"><tr><td>epoch</td><td>▁▂▃▃▄▅▆▆▇█</td></tr><tr><td>train_accuracy</td><td>▁▄▅▇▇▇▇█▇█</td></tr><tr><td>train_loss</td><td>█▄▄▂▂▂▂▁▁▁</td></tr><tr><td>val_accuracy</td><td>▁▅▅▇▇▇▇█▇█</td></tr><tr><td>val_loss</td><td>█▄▃▂▂▂▂▁▁▁</td></tr></table><br/></div><div class=\"wandb-col\"><h3>Run summary:</h3><br/><table class=\"wandb\"><tr><td>epoch</td><td>9</td></tr><tr><td>train_accuracy</td><td>84.95741</td></tr><tr><td>train_loss</td><td>0.43169</td></tr><tr><td>val_accuracy</td><td>84.48333</td></tr><tr><td>val_loss</td><td>0.4603</td></tr></table><br/></div></div>"
            ]
          },
          "metadata": {}
        },
        {
          "output_type": "display_data",
          "data": {
            "text/plain": [
              "<IPython.core.display.HTML object>"
            ],
            "text/html": [
              " View run <strong style=\"color:#cdcd00\">ac-relu_nn-128_epc-10_nl-5_reg-0_lr-0.0001_opt-adam_bs-64_wi-xavier</strong> at: <a href='https://wandb.ai/ma23m013-iit-madras/DA6401_Assignment-1/runs/m21d2jcb' target=\"_blank\">https://wandb.ai/ma23m013-iit-madras/DA6401_Assignment-1/runs/m21d2jcb</a><br> View project at: <a href='https://wandb.ai/ma23m013-iit-madras/DA6401_Assignment-1' target=\"_blank\">https://wandb.ai/ma23m013-iit-madras/DA6401_Assignment-1</a><br>Synced 5 W&B file(s), 0 media file(s), 0 artifact file(s) and 0 other file(s)"
            ]
          },
          "metadata": {}
        },
        {
          "output_type": "display_data",
          "data": {
            "text/plain": [
              "<IPython.core.display.HTML object>"
            ],
            "text/html": [
              "Find logs at: <code>./wandb/run-20250310_081231-m21d2jcb/logs</code>"
            ]
          },
          "metadata": {}
        },
        {
          "output_type": "stream",
          "name": "stderr",
          "text": [
            "\u001b[34m\u001b[1mwandb\u001b[0m: Agent Starting Run: z34oijzj with config:\n",
            "\u001b[34m\u001b[1mwandb\u001b[0m: \tactivation: tanh\n",
            "\u001b[34m\u001b[1mwandb\u001b[0m: \tbatch_size: 64\n",
            "\u001b[34m\u001b[1mwandb\u001b[0m: \tepochs: 10\n",
            "\u001b[34m\u001b[1mwandb\u001b[0m: \tlearning_rate: 0.0001\n",
            "\u001b[34m\u001b[1mwandb\u001b[0m: \tnum_layers: 5\n",
            "\u001b[34m\u001b[1mwandb\u001b[0m: \tnum_neurons: 128\n",
            "\u001b[34m\u001b[1mwandb\u001b[0m: \toptimizer: adam\n",
            "\u001b[34m\u001b[1mwandb\u001b[0m: \tregularization: 0\n",
            "\u001b[34m\u001b[1mwandb\u001b[0m: \tweight_init: xavier\n"
          ]
        },
        {
          "output_type": "display_data",
          "data": {
            "text/plain": [
              "<IPython.core.display.HTML object>"
            ],
            "text/html": [
              "Tracking run with wandb version 0.19.7"
            ]
          },
          "metadata": {}
        },
        {
          "output_type": "display_data",
          "data": {
            "text/plain": [
              "<IPython.core.display.HTML object>"
            ],
            "text/html": [
              "Run data is saved locally in <code>/content/wandb/run-20250310_081936-z34oijzj</code>"
            ]
          },
          "metadata": {}
        },
        {
          "output_type": "display_data",
          "data": {
            "text/plain": [
              "<IPython.core.display.HTML object>"
            ],
            "text/html": [
              "Syncing run <strong><a href='https://wandb.ai/ma23m013-iit-madras/DA6401_Assignment-1/runs/z34oijzj' target=\"_blank\">volcanic-sweep-6</a></strong> to <a href='https://wandb.ai/ma23m013-iit-madras/DA6401_Assignment-1' target=\"_blank\">Weights & Biases</a> (<a href='https://wandb.me/developer-guide' target=\"_blank\">docs</a>)<br>Sweep page: <a href='https://wandb.ai/ma23m013-iit-madras/DA6401_Assignment-1/sweeps/j9nerrgq' target=\"_blank\">https://wandb.ai/ma23m013-iit-madras/DA6401_Assignment-1/sweeps/j9nerrgq</a>"
            ]
          },
          "metadata": {}
        },
        {
          "output_type": "display_data",
          "data": {
            "text/plain": [
              "<IPython.core.display.HTML object>"
            ],
            "text/html": [
              " View project at <a href='https://wandb.ai/ma23m013-iit-madras/DA6401_Assignment-1' target=\"_blank\">https://wandb.ai/ma23m013-iit-madras/DA6401_Assignment-1</a>"
            ]
          },
          "metadata": {}
        },
        {
          "output_type": "display_data",
          "data": {
            "text/plain": [
              "<IPython.core.display.HTML object>"
            ],
            "text/html": [
              " View sweep at <a href='https://wandb.ai/ma23m013-iit-madras/DA6401_Assignment-1/sweeps/j9nerrgq' target=\"_blank\">https://wandb.ai/ma23m013-iit-madras/DA6401_Assignment-1/sweeps/j9nerrgq</a>"
            ]
          },
          "metadata": {}
        },
        {
          "output_type": "display_data",
          "data": {
            "text/plain": [
              "<IPython.core.display.HTML object>"
            ],
            "text/html": [
              " View run at <a href='https://wandb.ai/ma23m013-iit-madras/DA6401_Assignment-1/runs/z34oijzj' target=\"_blank\">https://wandb.ai/ma23m013-iit-madras/DA6401_Assignment-1/runs/z34oijzj</a>"
            ]
          },
          "metadata": {}
        },
        {
          "output_type": "stream",
          "name": "stdout",
          "text": [
            "Epoch 1, Train_Loss: 0.7830, Train_Accuracy: 69.88%, Val_Loss: 0.7945, Val_Accuracy: 69.25%\n",
            "Epoch 2, Train_Loss: 0.7823, Train_Accuracy: 72.39%, Val_Loss: 0.8060, Val_Accuracy: 71.37%\n",
            "Epoch 3, Train_Loss: 0.6984, Train_Accuracy: 72.83%, Val_Loss: 0.7142, Val_Accuracy: 71.17%\n",
            "Epoch 4, Train_Loss: 0.6512, Train_Accuracy: 74.61%, Val_Loss: 0.6640, Val_Accuracy: 74.38%\n",
            "Epoch 5, Train_Loss: 0.5801, Train_Accuracy: 78.93%, Val_Loss: 0.5878, Val_Accuracy: 78.63%\n",
            "Epoch 6, Train_Loss: 0.6136, Train_Accuracy: 76.91%, Val_Loss: 0.6256, Val_Accuracy: 75.97%\n",
            "Epoch 7, Train_Loss: 0.6155, Train_Accuracy: 77.66%, Val_Loss: 0.6253, Val_Accuracy: 77.00%\n",
            "Epoch 8, Train_Loss: 0.5993, Train_Accuracy: 76.61%, Val_Loss: 0.6224, Val_Accuracy: 75.48%\n",
            "Epoch 9, Train_Loss: 0.5183, Train_Accuracy: 81.26%, Val_Loss: 0.5325, Val_Accuracy: 80.33%\n",
            "Epoch 10, Train_Loss: 0.5966, Train_Accuracy: 75.85%, Val_Loss: 0.6200, Val_Accuracy: 75.28%\n"
          ]
        },
        {
          "output_type": "display_data",
          "data": {
            "text/plain": [
              "<Figure size 640x480 with 1 Axes>"
            ],
            "image/png": "[encoded data removed]"
          },
          "metadata": {}
        },
        {
          "output_type": "display_data",
          "data": {
            "text/plain": [
              "<IPython.core.display.HTML object>"
            ],
            "text/html": []
          },
          "metadata": {}
        },
        {
          "output_type": "display_data",
          "data": {
            "text/plain": [
              "<IPython.core.display.HTML object>"
            ],
            "text/html": [
              "<br>    <style><br>        .wandb-row {<br>            display: flex;<br>            flex-direction: row;<br>            flex-wrap: wrap;<br>            justify-content: flex-start;<br>            width: 100%;<br>        }<br>        .wandb-col {<br>            display: flex;<br>            flex-direction: column;<br>            flex-basis: 100%;<br>            flex: 1;<br>            padding: 10px;<br>        }<br>    </style><br><div class=\"wandb-row\"><div class=\"wandb-col\"><h3>Run history:</h3><br/><table class=\"wandb\"><tr><td>epoch</td><td>▁▂▃▃▄▅▆▆▇█</td></tr><tr><td>train_accuracy</td><td>▁▃▃▄▇▅▆▅█▅</td></tr><tr><td>train_loss</td><td>██▆▅▃▄▄▃▁▃</td></tr><tr><td>val_accuracy</td><td>▁▂▂▄▇▅▆▅█▅</td></tr><tr><td>val_loss</td><td>██▆▄▂▃▃▃▁▃</td></tr></table><br/></div><div class=\"wandb-col\"><h3>Run summary:</h3><br/><table class=\"wandb\"><tr><td>epoch</td><td>9</td></tr><tr><td>train_accuracy</td><td>75.8537</td></tr><tr><td>train_loss</td><td>0.59656</td></tr><tr><td>val_accuracy</td><td>75.28333</td></tr><tr><td>val_loss</td><td>0.62</td></tr></table><br/></div></div>"
            ]
          },
          "metadata": {}
        },
        {
          "output_type": "display_data",
          "data": {
            "text/plain": [
              "<IPython.core.display.HTML object>"
            ],
            "text/html": [
              " View run <strong style=\"color:#cdcd00\">ac-tanh_nn-128_epc-10_nl-5_reg-0_lr-0.0001_opt-adam_bs-64_wi-xavier</strong> at: <a href='https://wandb.ai/ma23m013-iit-madras/DA6401_Assignment-1/runs/z34oijzj' target=\"_blank\">https://wandb.ai/ma23m013-iit-madras/DA6401_Assignment-1/runs/z34oijzj</a><br> View project at: <a href='https://wandb.ai/ma23m013-iit-madras/DA6401_Assignment-1' target=\"_blank\">https://wandb.ai/ma23m013-iit-madras/DA6401_Assignment-1</a><br>Synced 5 W&B file(s), 0 media file(s), 0 artifact file(s) and 0 other file(s)"
            ]
          },
          "metadata": {}
        },
        {
          "output_type": "display_data",
          "data": {
            "text/plain": [
              "<IPython.core.display.HTML object>"
            ],
            "text/html": [
              "Find logs at: <code>./wandb/run-20250310_081936-z34oijzj/logs</code>"
            ]
          },
          "metadata": {}
        },
        {
          "output_type": "stream",
          "name": "stderr",
          "text": [
            "\u001b[34m\u001b[1mwandb\u001b[0m: Agent Starting Run: 7pvzrbk4 with config:\n",
            "\u001b[34m\u001b[1mwandb\u001b[0m: \tactivation: tanh\n",
            "\u001b[34m\u001b[1mwandb\u001b[0m: \tbatch_size: 64\n",
            "\u001b[34m\u001b[1mwandb\u001b[0m: \tepochs: 10\n",
            "\u001b[34m\u001b[1mwandb\u001b[0m: \tlearning_rate: 0.0001\n",
            "\u001b[34m\u001b[1mwandb\u001b[0m: \tnum_layers: 5\n",
            "\u001b[34m\u001b[1mwandb\u001b[0m: \tnum_neurons: 128\n",
            "\u001b[34m\u001b[1mwandb\u001b[0m: \toptimizer: nadam\n",
            "\u001b[34m\u001b[1mwandb\u001b[0m: \tregularization: 0\n",
            "\u001b[34m\u001b[1mwandb\u001b[0m: \tweight_init: xavier\n"
          ]
        },
        {
          "output_type": "display_data",
          "data": {
            "text/plain": [
              "<IPython.core.display.HTML object>"
            ],
            "text/html": [
              "Tracking run with wandb version 0.19.7"
            ]
          },
          "metadata": {}
        },
        {
          "output_type": "display_data",
          "data": {
            "text/plain": [
              "<IPython.core.display.HTML object>"
            ],
            "text/html": [
              "Run data is saved locally in <code>/content/wandb/run-20250310_082657-7pvzrbk4</code>"
            ]
          },
          "metadata": {}
        },
        {
          "output_type": "display_data",
          "data": {
            "text/plain": [
              "<IPython.core.display.HTML object>"
            ],
            "text/html": [
              "Syncing run <strong><a href='https://wandb.ai/ma23m013-iit-madras/DA6401_Assignment-1/runs/7pvzrbk4' target=\"_blank\">fallen-sweep-7</a></strong> to <a href='https://wandb.ai/ma23m013-iit-madras/DA6401_Assignment-1' target=\"_blank\">Weights & Biases</a> (<a href='https://wandb.me/developer-guide' target=\"_blank\">docs</a>)<br>Sweep page: <a href='https://wandb.ai/ma23m013-iit-madras/DA6401_Assignment-1/sweeps/j9nerrgq' target=\"_blank\">https://wandb.ai/ma23m013-iit-madras/DA6401_Assignment-1/sweeps/j9nerrgq</a>"
            ]
          },
          "metadata": {}
        },
        {
          "output_type": "display_data",
          "data": {
            "text/plain": [
              "<IPython.core.display.HTML object>"
            ],
            "text/html": [
              " View project at <a href='https://wandb.ai/ma23m013-iit-madras/DA6401_Assignment-1' target=\"_blank\">https://wandb.ai/ma23m013-iit-madras/DA6401_Assignment-1</a>"
            ]
          },
          "metadata": {}
        },
        {
          "output_type": "display_data",
          "data": {
            "text/plain": [
              "<IPython.core.display.HTML object>"
            ],
            "text/html": [
              " View sweep at <a href='https://wandb.ai/ma23m013-iit-madras/DA6401_Assignment-1/sweeps/j9nerrgq' target=\"_blank\">https://wandb.ai/ma23m013-iit-madras/DA6401_Assignment-1/sweeps/j9nerrgq</a>"
            ]
          },
          "metadata": {}
        },
        {
          "output_type": "display_data",
          "data": {
            "text/plain": [
              "<IPython.core.display.HTML object>"
            ],
            "text/html": [
              " View run at <a href='https://wandb.ai/ma23m013-iit-madras/DA6401_Assignment-1/runs/7pvzrbk4' target=\"_blank\">https://wandb.ai/ma23m013-iit-madras/DA6401_Assignment-1/runs/7pvzrbk4</a>"
            ]
          },
          "metadata": {}
        },
        {
          "output_type": "stream",
          "name": "stdout",
          "text": [
            "Epoch 1, Train_Loss: 0.7516, Train_Accuracy: 70.36%, Val_Loss: 0.7639, Val_Accuracy: 69.58%\n",
            "Epoch 2, Train_Loss: 0.7278, Train_Accuracy: 72.64%, Val_Loss: 0.7276, Val_Accuracy: 72.28%\n",
            "Epoch 3, Train_Loss: 0.6343, Train_Accuracy: 77.15%, Val_Loss: 0.6396, Val_Accuracy: 76.73%\n",
            "Epoch 4, Train_Loss: 0.6677, Train_Accuracy: 73.61%, Val_Loss: 0.6692, Val_Accuracy: 73.12%\n",
            "Epoch 5, Train_Loss: 0.5681, Train_Accuracy: 79.82%, Val_Loss: 0.5811, Val_Accuracy: 78.62%\n",
            "Epoch 6, Train_Loss: 0.6375, Train_Accuracy: 76.69%, Val_Loss: 0.6479, Val_Accuracy: 76.25%\n",
            "Epoch 7, Train_Loss: 0.5328, Train_Accuracy: 81.69%, Val_Loss: 0.5577, Val_Accuracy: 80.65%\n",
            "Epoch 8, Train_Loss: 0.5984, Train_Accuracy: 77.23%, Val_Loss: 0.6144, Val_Accuracy: 76.43%\n",
            "Epoch 9, Train_Loss: 0.4710, Train_Accuracy: 83.46%, Val_Loss: 0.4956, Val_Accuracy: 82.80%\n",
            "Epoch 10, Train_Loss: 0.4821, Train_Accuracy: 83.44%, Val_Loss: 0.4984, Val_Accuracy: 83.03%\n"
          ]
        },
        {
          "output_type": "display_data",
          "data": {
            "text/plain": [
              "<Figure size 640x480 with 1 Axes>"
            ],
            "image/png": "[encoded data removed]"
          },
          "metadata": {}
        },
        {
          "output_type": "display_data",
          "data": {
            "text/plain": [
              "<IPython.core.display.HTML object>"
            ],
            "text/html": []
          },
          "metadata": {}
        },
        {
          "output_type": "display_data",
          "data": {
            "text/plain": [
              "<IPython.core.display.HTML object>"
            ],
            "text/html": [
              "<br>    <style><br>        .wandb-row {<br>            display: flex;<br>            flex-direction: row;<br>            flex-wrap: wrap;<br>            justify-content: flex-start;<br>            width: 100%;<br>        }<br>        .wandb-col {<br>            display: flex;<br>            flex-direction: column;<br>            flex-basis: 100%;<br>            flex: 1;<br>            padding: 10px;<br>        }<br>    </style><br><div class=\"wandb-row\"><div class=\"wandb-col\"><h3>Run history:</h3><br/><table class=\"wandb\"><tr><td>epoch</td><td>▁▂▃▃▄▅▆▆▇█</td></tr><tr><td>train_accuracy</td><td>▁▂▅▃▆▄▇▅██</td></tr><tr><td>train_loss</td><td>█▇▅▆▃▅▃▄▁▁</td></tr><tr><td>val_accuracy</td><td>▁▂▅▃▆▄▇▅██</td></tr><tr><td>val_loss</td><td>█▇▅▆▃▅▃▄▁▁</td></tr></table><br/></div><div class=\"wandb-col\"><h3>Run summary:</h3><br/><table class=\"wandb\"><tr><td>epoch</td><td>9</td></tr><tr><td>train_accuracy</td><td>83.44444</td></tr><tr><td>train_loss</td><td>0.48206</td></tr><tr><td>val_accuracy</td><td>83.03333</td></tr><tr><td>val_loss</td><td>0.49843</td></tr></table><br/></div></div>"
            ]
          },
          "metadata": {}
        },
        {
          "output_type": "display_data",
          "data": {
            "text/plain": [
              "<IPython.core.display.HTML object>"
            ],
            "text/html": [
              " View run <strong style=\"color:#cdcd00\">ac-tanh_nn-128_epc-10_nl-5_reg-0_lr-0.0001_opt-nadam_bs-64_wi-xavier</strong> at: <a href='https://wandb.ai/ma23m013-iit-madras/DA6401_Assignment-1/runs/7pvzrbk4' target=\"_blank\">https://wandb.ai/ma23m013-iit-madras/DA6401_Assignment-1/runs/7pvzrbk4</a><br> View project at: <a href='https://wandb.ai/ma23m013-iit-madras/DA6401_Assignment-1' target=\"_blank\">https://wandb.ai/ma23m013-iit-madras/DA6401_Assignment-1</a><br>Synced 5 W&B file(s), 0 media file(s), 0 artifact file(s) and 0 other file(s)"
            ]
          },
          "metadata": {}
        },
        {
          "output_type": "display_data",
          "data": {
            "text/plain": [
              "<IPython.core.display.HTML object>"
            ],
            "text/html": [
              "Find logs at: <code>./wandb/run-20250310_082657-7pvzrbk4/logs</code>"
            ]
          },
          "metadata": {}
        },
        {
          "output_type": "stream",
          "name": "stderr",
          "text": [
            "\u001b[34m\u001b[1mwandb\u001b[0m: Agent Starting Run: 55tui3yp with config:\n",
            "\u001b[34m\u001b[1mwandb\u001b[0m: \tactivation: sigmoid\n",
            "\u001b[34m\u001b[1mwandb\u001b[0m: \tbatch_size: 64\n",
            "\u001b[34m\u001b[1mwandb\u001b[0m: \tepochs: 10\n",
            "\u001b[34m\u001b[1mwandb\u001b[0m: \tlearning_rate: 0.0001\n",
            "\u001b[34m\u001b[1mwandb\u001b[0m: \tnum_layers: 5\n",
            "\u001b[34m\u001b[1mwandb\u001b[0m: \tnum_neurons: 128\n",
            "\u001b[34m\u001b[1mwandb\u001b[0m: \toptimizer: nadam\n",
            "\u001b[34m\u001b[1mwandb\u001b[0m: \tregularization: 0\n",
            "\u001b[34m\u001b[1mwandb\u001b[0m: \tweight_init: xavier\n"
          ]
        },
        {
          "output_type": "display_data",
          "data": {
            "text/plain": [
              "<IPython.core.display.HTML object>"
            ],
            "text/html": [
              "Tracking run with wandb version 0.19.7"
            ]
          },
          "metadata": {}
        },
        {
          "output_type": "display_data",
          "data": {
            "text/plain": [
              "<IPython.core.display.HTML object>"
            ],
            "text/html": [
              "Run data is saved locally in <code>/content/wandb/run-20250310_083433-55tui3yp</code>"
            ]
          },
          "metadata": {}
        },
        {
          "output_type": "display_data",
          "data": {
            "text/plain": [
              "<IPython.core.display.HTML object>"
            ],
            "text/html": [
              "Syncing run <strong><a href='https://wandb.ai/ma23m013-iit-madras/DA6401_Assignment-1/runs/55tui3yp' target=\"_blank\">earnest-sweep-8</a></strong> to <a href='https://wandb.ai/ma23m013-iit-madras/DA6401_Assignment-1' target=\"_blank\">Weights & Biases</a> (<a href='https://wandb.me/developer-guide' target=\"_blank\">docs</a>)<br>Sweep page: <a href='https://wandb.ai/ma23m013-iit-madras/DA6401_Assignment-1/sweeps/j9nerrgq' target=\"_blank\">https://wandb.ai/ma23m013-iit-madras/DA6401_Assignment-1/sweeps/j9nerrgq</a>"
            ]
          },
          "metadata": {}
        },
        {
          "output_type": "display_data",
          "data": {
            "text/plain": [
              "<IPython.core.display.HTML object>"
            ],
            "text/html": [
              " View project at <a href='https://wandb.ai/ma23m013-iit-madras/DA6401_Assignment-1' target=\"_blank\">https://wandb.ai/ma23m013-iit-madras/DA6401_Assignment-1</a>"
            ]
          },
          "metadata": {}
        },
        {
          "output_type": "display_data",
          "data": {
            "text/plain": [
              "<IPython.core.display.HTML object>"
            ],
            "text/html": [
              " View sweep at <a href='https://wandb.ai/ma23m013-iit-madras/DA6401_Assignment-1/sweeps/j9nerrgq' target=\"_blank\">https://wandb.ai/ma23m013-iit-madras/DA6401_Assignment-1/sweeps/j9nerrgq</a>"
            ]
          },
          "metadata": {}
        },
        {
          "output_type": "display_data",
          "data": {
            "text/plain": [
              "<IPython.core.display.HTML object>"
            ],
            "text/html": [
              " View run at <a href='https://wandb.ai/ma23m013-iit-madras/DA6401_Assignment-1/runs/55tui3yp' target=\"_blank\">https://wandb.ai/ma23m013-iit-madras/DA6401_Assignment-1/runs/55tui3yp</a>"
            ]
          },
          "metadata": {}
        },
        {
          "output_type": "stream",
          "name": "stdout",
          "text": [
            "Epoch 1, Train_Loss: 1.2405, Train_Accuracy: 51.09%, Val_Loss: 1.2481, Val_Accuracy: 50.22%\n",
            "Epoch 2, Train_Loss: 0.9577, Train_Accuracy: 57.12%, Val_Loss: 0.9782, Val_Accuracy: 55.60%\n",
            "Epoch 3, Train_Loss: 0.8226, Train_Accuracy: 63.56%, Val_Loss: 0.8378, Val_Accuracy: 63.28%\n",
            "Epoch 4, Train_Loss: 0.7672, Train_Accuracy: 69.94%, Val_Loss: 0.7770, Val_Accuracy: 69.50%\n",
            "Epoch 5, Train_Loss: 0.6704, Train_Accuracy: 74.45%, Val_Loss: 0.6898, Val_Accuracy: 73.57%\n",
            "Epoch 6, Train_Loss: 0.6967, Train_Accuracy: 73.58%, Val_Loss: 0.7026, Val_Accuracy: 73.88%\n",
            "Epoch 7, Train_Loss: 0.6333, Train_Accuracy: 77.53%, Val_Loss: 0.6568, Val_Accuracy: 76.67%\n",
            "Epoch 8, Train_Loss: 0.6421, Train_Accuracy: 75.45%, Val_Loss: 0.6705, Val_Accuracy: 73.67%\n",
            "Epoch 9, Train_Loss: 0.5957, Train_Accuracy: 75.57%, Val_Loss: 0.6228, Val_Accuracy: 74.50%\n",
            "Epoch 10, Train_Loss: 0.5230, Train_Accuracy: 81.19%, Val_Loss: 0.5460, Val_Accuracy: 80.18%\n"
          ]
        },
        {
          "output_type": "display_data",
          "data": {
            "text/plain": [
              "<Figure size 640x480 with 1 Axes>"
            ],
            "image/png": "[encoded data removed]"
          },
          "metadata": {}
        },
        {
          "output_type": "display_data",
          "data": {
            "text/plain": [
              "<IPython.core.display.HTML object>"
            ],
            "text/html": []
          },
          "metadata": {}
        },
        {
          "output_type": "display_data",
          "data": {
            "text/plain": [
              "<IPython.core.display.HTML object>"
            ],
            "text/html": [
              "<br>    <style><br>        .wandb-row {<br>            display: flex;<br>            flex-direction: row;<br>            flex-wrap: wrap;<br>            justify-content: flex-start;<br>            width: 100%;<br>        }<br>        .wandb-col {<br>            display: flex;<br>            flex-direction: column;<br>            flex-basis: 100%;<br>            flex: 1;<br>            padding: 10px;<br>        }<br>    </style><br><div class=\"wandb-row\"><div class=\"wandb-col\"><h3>Run history:</h3><br/><table class=\"wandb\"><tr><td>epoch</td><td>▁▂▃▃▄▅▆▆▇█</td></tr><tr><td>train_accuracy</td><td>▁▂▄▅▆▆▇▇▇█</td></tr><tr><td>train_loss</td><td>█▅▄▃▂▃▂▂▂▁</td></tr><tr><td>val_accuracy</td><td>▁▂▄▆▆▇▇▆▇█</td></tr><tr><td>val_loss</td><td>█▅▄▃▂▃▂▂▂▁</td></tr></table><br/></div><div class=\"wandb-col\"><h3>Run summary:</h3><br/><table class=\"wandb\"><tr><td>epoch</td><td>9</td></tr><tr><td>train_accuracy</td><td>81.18704</td></tr><tr><td>train_loss</td><td>0.52304</td></tr><tr><td>val_accuracy</td><td>80.18333</td></tr><tr><td>val_loss</td><td>0.54598</td></tr></table><br/></div></div>"
            ]
          },
          "metadata": {}
        },
        {
          "output_type": "display_data",
          "data": {
            "text/plain": [
              "<IPython.core.display.HTML object>"
            ],
            "text/html": [
              " View run <strong style=\"color:#cdcd00\">ac-sigmoid_nn-128_epc-10_nl-5_reg-0_lr-0.0001_opt-nadam_bs-64_wi-xavier</strong> at: <a href='https://wandb.ai/ma23m013-iit-madras/DA6401_Assignment-1/runs/55tui3yp' target=\"_blank\">https://wandb.ai/ma23m013-iit-madras/DA6401_Assignment-1/runs/55tui3yp</a><br> View project at: <a href='https://wandb.ai/ma23m013-iit-madras/DA6401_Assignment-1' target=\"_blank\">https://wandb.ai/ma23m013-iit-madras/DA6401_Assignment-1</a><br>Synced 5 W&B file(s), 0 media file(s), 0 artifact file(s) and 0 other file(s)"
            ]
          },
          "metadata": {}
        },
        {
          "output_type": "display_data",
          "data": {
            "text/plain": [
              "<IPython.core.display.HTML object>"
            ],
            "text/html": [
              "Find logs at: <code>./wandb/run-20250310_083433-55tui3yp/logs</code>"
            ]
          },
          "metadata": {}
        },
        {
          "output_type": "stream",
          "name": "stderr",
          "text": [
            "\u001b[34m\u001b[1mwandb\u001b[0m: Sweep Agent: Waiting for job.\n",
            "\u001b[34m\u001b[1mwandb\u001b[0m: Job received.\n",
            "\u001b[34m\u001b[1mwandb\u001b[0m: Agent Starting Run: aip5yg46 with config:\n",
            "\u001b[34m\u001b[1mwandb\u001b[0m: \tactivation: sigmoid\n",
            "\u001b[34m\u001b[1mwandb\u001b[0m: \tbatch_size: 64\n",
            "\u001b[34m\u001b[1mwandb\u001b[0m: \tepochs: 10\n",
            "\u001b[34m\u001b[1mwandb\u001b[0m: \tlearning_rate: 0.0001\n",
            "\u001b[34m\u001b[1mwandb\u001b[0m: \tnum_layers: 5\n",
            "\u001b[34m\u001b[1mwandb\u001b[0m: \tnum_neurons: 128\n",
            "\u001b[34m\u001b[1mwandb\u001b[0m: \toptimizer: adam\n",
            "\u001b[34m\u001b[1mwandb\u001b[0m: \tregularization: 0\n",
            "\u001b[34m\u001b[1mwandb\u001b[0m: \tweight_init: xavier\n"
          ]
        },
        {
          "output_type": "display_data",
          "data": {
            "text/plain": [
              "<IPython.core.display.HTML object>"
            ],
            "text/html": [
              "Tracking run with wandb version 0.19.7"
            ]
          },
          "metadata": {}
        },
        {
          "output_type": "display_data",
          "data": {
            "text/plain": [
              "<IPython.core.display.HTML object>"
            ],
            "text/html": [
              "Run data is saved locally in <code>/content/wandb/run-20250310_084339-aip5yg46</code>"
            ]
          },
          "metadata": {}
        },
        {
          "output_type": "display_data",
          "data": {
            "text/plain": [
              "<IPython.core.display.HTML object>"
            ],
            "text/html": [
              "Syncing run <strong><a href='https://wandb.ai/ma23m013-iit-madras/DA6401_Assignment-1/runs/aip5yg46' target=\"_blank\">sleek-sweep-9</a></strong> to <a href='https://wandb.ai/ma23m013-iit-madras/DA6401_Assignment-1' target=\"_blank\">Weights & Biases</a> (<a href='https://wandb.me/developer-guide' target=\"_blank\">docs</a>)<br>Sweep page: <a href='https://wandb.ai/ma23m013-iit-madras/DA6401_Assignment-1/sweeps/j9nerrgq' target=\"_blank\">https://wandb.ai/ma23m013-iit-madras/DA6401_Assignment-1/sweeps/j9nerrgq</a>"
            ]
          },
          "metadata": {}
        },
        {
          "output_type": "display_data",
          "data": {
            "text/plain": [
              "<IPython.core.display.HTML object>"
            ],
            "text/html": [
              " View project at <a href='https://wandb.ai/ma23m013-iit-madras/DA6401_Assignment-1' target=\"_blank\">https://wandb.ai/ma23m013-iit-madras/DA6401_Assignment-1</a>"
            ]
          },
          "metadata": {}
        },
        {
          "output_type": "display_data",
          "data": {
            "text/plain": [
              "<IPython.core.display.HTML object>"
            ],
            "text/html": [
              " View sweep at <a href='https://wandb.ai/ma23m013-iit-madras/DA6401_Assignment-1/sweeps/j9nerrgq' target=\"_blank\">https://wandb.ai/ma23m013-iit-madras/DA6401_Assignment-1/sweeps/j9nerrgq</a>"
            ]
          },
          "metadata": {}
        },
        {
          "output_type": "display_data",
          "data": {
            "text/plain": [
              "<IPython.core.display.HTML object>"
            ],
            "text/html": [
              " View run at <a href='https://wandb.ai/ma23m013-iit-madras/DA6401_Assignment-1/runs/aip5yg46' target=\"_blank\">https://wandb.ai/ma23m013-iit-madras/DA6401_Assignment-1/runs/aip5yg46</a>"
            ]
          },
          "metadata": {}
        },
        {
          "output_type": "stream",
          "name": "stdout",
          "text": [
            "Epoch 1, Train_Loss: 1.4453, Train_Accuracy: 33.86%, Val_Loss: 1.4484, Val_Accuracy: 33.62%\n",
            "Epoch 2, Train_Loss: 1.2366, Train_Accuracy: 45.60%, Val_Loss: 1.2445, Val_Accuracy: 44.47%\n",
            "Epoch 3, Train_Loss: 0.9663, Train_Accuracy: 61.34%, Val_Loss: 0.9822, Val_Accuracy: 59.98%\n",
            "Epoch 4, Train_Loss: 0.9072, Train_Accuracy: 63.39%, Val_Loss: 0.9225, Val_Accuracy: 62.47%\n",
            "Epoch 5, Train_Loss: 0.8742, Train_Accuracy: 65.57%, Val_Loss: 0.9053, Val_Accuracy: 63.70%\n",
            "Epoch 6, Train_Loss: 0.7456, Train_Accuracy: 70.39%, Val_Loss: 0.7696, Val_Accuracy: 69.05%\n",
            "Epoch 7, Train_Loss: 0.6916, Train_Accuracy: 73.55%, Val_Loss: 0.7060, Val_Accuracy: 72.90%\n",
            "Epoch 8, Train_Loss: 0.6052, Train_Accuracy: 77.46%, Val_Loss: 0.6164, Val_Accuracy: 76.82%\n",
            "Epoch 9, Train_Loss: 0.6964, Train_Accuracy: 71.78%, Val_Loss: 0.7157, Val_Accuracy: 70.73%\n",
            "Epoch 10, Train_Loss: 0.5903, Train_Accuracy: 78.98%, Val_Loss: 0.6022, Val_Accuracy: 78.53%\n"
          ]
        },
        {
          "output_type": "display_data",
          "data": {
            "text/plain": [
              "<Figure size 640x480 with 1 Axes>"
            ],
            "image/png": "[encoded data removed]"
          },
          "metadata": {}
        },
        {
          "output_type": "display_data",
          "data": {
            "text/plain": [
              "<IPython.core.display.HTML object>"
            ],
            "text/html": []
          },
          "metadata": {}
        },
        {
          "output_type": "display_data",
          "data": {
            "text/plain": [
              "<IPython.core.display.HTML object>"
            ],
            "text/html": [
              "<br>    <style><br>        .wandb-row {<br>            display: flex;<br>            flex-direction: row;<br>            flex-wrap: wrap;<br>            justify-content: flex-start;<br>            width: 100%;<br>        }<br>        .wandb-col {<br>            display: flex;<br>            flex-direction: column;<br>            flex-basis: 100%;<br>            flex: 1;<br>            padding: 10px;<br>        }<br>    </style><br><div class=\"wandb-row\"><div class=\"wandb-col\"><h3>Run history:</h3><br/><table class=\"wandb\"><tr><td>epoch</td><td>▁▂▃▃▄▅▆▆▇█</td></tr><tr><td>train_accuracy</td><td>▁▃▅▆▆▇▇█▇█</td></tr><tr><td>train_loss</td><td>█▆▄▄▃▂▂▁▂▁</td></tr><tr><td>val_accuracy</td><td>▁▃▅▅▆▇▇█▇█</td></tr><tr><td>val_loss</td><td>█▆▄▄▄▂▂▁▂▁</td></tr></table><br/></div><div class=\"wandb-col\"><h3>Run summary:</h3><br/><table class=\"wandb\"><tr><td>epoch</td><td>9</td></tr><tr><td>train_accuracy</td><td>78.97963</td></tr><tr><td>train_loss</td><td>0.59026</td></tr><tr><td>val_accuracy</td><td>78.53333</td></tr><tr><td>val_loss</td><td>0.60219</td></tr></table><br/></div></div>"
            ]
          },
          "metadata": {}
        },
        {
          "output_type": "display_data",
          "data": {
            "text/plain": [
              "<IPython.core.display.HTML object>"
            ],
            "text/html": [
              " View run <strong style=\"color:#cdcd00\">ac-sigmoid_nn-128_epc-10_nl-5_reg-0_lr-0.0001_opt-adam_bs-64_wi-xavier</strong> at: <a href='https://wandb.ai/ma23m013-iit-madras/DA6401_Assignment-1/runs/aip5yg46' target=\"_blank\">https://wandb.ai/ma23m013-iit-madras/DA6401_Assignment-1/runs/aip5yg46</a><br> View project at: <a href='https://wandb.ai/ma23m013-iit-madras/DA6401_Assignment-1' target=\"_blank\">https://wandb.ai/ma23m013-iit-madras/DA6401_Assignment-1</a><br>Synced 5 W&B file(s), 0 media file(s), 0 artifact file(s) and 0 other file(s)"
            ]
          },
          "metadata": {}
        },
        {
          "output_type": "display_data",
          "data": {
            "text/plain": [
              "<IPython.core.display.HTML object>"
            ],
            "text/html": [
              "Find logs at: <code>./wandb/run-20250310_084339-aip5yg46/logs</code>"
            ]
          },
          "metadata": {}
        }
      ],
      "source": [
        "def main():\n",
        "    '''\n",
        "    WandB calls the main function each time with a different combination of hyperparameters.\n",
        "\n",
        "    We retrieve these values using `wandb.config` and use them to train the model.\n",
        "    '''\n",
        "\n",
        "    with wandb.init() as run:\n",
        "        # Generate a unique run name based on the hyperparameter values\n",
        "        run_name = \"ac-\" + (wandb.config.activation) + \\\n",
        "                   \"_nn-\" + str(wandb.config.num_neurons) + \\\n",
        "                   \"_epc-\" + str(wandb.config.epochs) + \\\n",
        "                   \"_nl-\" + str(wandb.config.num_layers) + \\\n",
        "                   \"_reg-\" + str(wandb.config.regularization) + \\\n",
        "                   \"_lr-\" + str(wandb.config.learning_rate) + \\\n",
        "                   \"_opt-\" + str(wandb.config.optimizer) + \\\n",
        "                   \"_bs-\" + str(wandb.config.batch_size) + \\\n",
        "                   \"_wi-\" + str(wandb.config.weight_init)\n",
        "\n",
        "        # Assign the generated name to the WandB run\n",
        "        wandb.run.name = run_name\n",
        "\n",
        "        # Train the model with the current hyperparameter configuration\n",
        "        train_model(\n",
        "            wandb.config.learning_rate,  # Learning rate\n",
        "            X_train, Y_train,            # Training data\n",
        "            X_valid, Y_valid,            # Validation data\n",
        "            wandb.config.optimizer,      # Optimizer\n",
        "            wandb.config.regularization, # Regularization term\n",
        "            wandb.config.epochs,         # Number of epochs\n",
        "            wandb.config.activation,     # Activation function\n",
        "            wandb.config.num_layers,     # Number of hidden layers\n",
        "            wandb.config.num_neurons,    # Neurons per layer\n",
        "            wandb.config.weight_init,    # Weight initialization method\n",
        "            784, 10,                     # Input and output dimensions (Fashion MNIST: 784 input features, 10 classes)\n",
        "            wandb.config.batch_size,     # Batch size\n",
        "            epsilon=0.001,                # Small constant for numerical stability\n",
        "            beta=0.9, beta1=0.9, beta2=0.99  # Hyperparameters for momentum-based optimizers\n",
        "        )\n",
        "\n",
        "# Run the sweep agent to execute `main` function multiple times\n",
        "wandb.agent(sweep_id, function=main, count=9)  # Calls `main` function 9 times with different hyperparameter sets\n",
        "\n",
        "# Mark the end of the WandB run\n",
        "wandb.finish()\n"
      ]
    },
    {
      "cell_type": "code",
      "source": [],
      "metadata": {
        "id": "wCVblclAs2-k"
      },
      "execution_count": null,
      "outputs": []
    }
  ],
  "metadata": {
    "colab": {
      "provenance": []
    },
    "kernelspec": {
      "display_name": "Python 3",
      "name": "python3"
    },
    "language_info": {
      "name": "python"
    }
  },
  "nbformat": 4,
  "nbformat_minor": 0
}